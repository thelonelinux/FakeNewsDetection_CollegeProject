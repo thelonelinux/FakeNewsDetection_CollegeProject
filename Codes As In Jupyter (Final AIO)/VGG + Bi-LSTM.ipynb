{
 "cells": [
  {
   "cell_type": "code",
   "execution_count": 2,
   "metadata": {
    "colab": {
     "base_uri": "https://localhost:8080/",
     "height": 67
    },
    "colab_type": "code",
    "executionInfo": {
     "elapsed": 6123,
     "status": "ok",
     "timestamp": 1589346766747,
     "user": {
      "displayName": "Umesh Saraswat",
      "photoUrl": "https://lh3.googleusercontent.com/a-/AOh14GjYIq2q-RJY9TGYU0oihFsJ-KBX2UQxuLD6z10Y4w=s64",
      "userId": "10527726304653339617"
     },
     "user_tz": -330
    },
    "id": "o38msLoPj0v3",
    "outputId": "62a4470c-dea6-44d6-daeb-ab0a541c5d55"
   },
   "outputs": [
    {
     "ename": "ModuleNotFoundError",
     "evalue": "No module named 'gensim'",
     "output_type": "error",
     "traceback": [
      "\u001b[0;31m---------------------------------------------------------------------------\u001b[0m",
      "\u001b[0;31mModuleNotFoundError\u001b[0m                       Traceback (most recent call last)",
      "\u001b[0;32m<ipython-input-2-29032564f4b6>\u001b[0m in \u001b[0;36m<module>\u001b[0;34m\u001b[0m\n\u001b[1;32m     10\u001b[0m \u001b[0;32mimport\u001b[0m \u001b[0mwarnings\u001b[0m\u001b[0;34m\u001b[0m\u001b[0;34m\u001b[0m\u001b[0m\n\u001b[1;32m     11\u001b[0m \u001b[0;32mfrom\u001b[0m \u001b[0mnltk\u001b[0m\u001b[0;34m.\u001b[0m\u001b[0mtokenize\u001b[0m \u001b[0;32mimport\u001b[0m \u001b[0msent_tokenize\u001b[0m\u001b[0;34m,\u001b[0m \u001b[0mword_tokenize\u001b[0m\u001b[0;34m\u001b[0m\u001b[0;34m\u001b[0m\u001b[0m\n\u001b[0;32m---> 12\u001b[0;31m \u001b[0;32mimport\u001b[0m \u001b[0mgensim\u001b[0m\u001b[0;34m\u001b[0m\u001b[0;34m\u001b[0m\u001b[0m\n\u001b[0m\u001b[1;32m     13\u001b[0m \u001b[0;32mfrom\u001b[0m \u001b[0mgensim\u001b[0m\u001b[0;34m.\u001b[0m\u001b[0mmodels\u001b[0m \u001b[0;32mimport\u001b[0m \u001b[0mWord2Vec\u001b[0m\u001b[0;34m\u001b[0m\u001b[0;34m\u001b[0m\u001b[0m\n\u001b[1;32m     14\u001b[0m \u001b[0;32mfrom\u001b[0m \u001b[0msklearn\u001b[0m\u001b[0;34m.\u001b[0m\u001b[0mmodel_selection\u001b[0m \u001b[0;32mimport\u001b[0m \u001b[0mtrain_test_split\u001b[0m\u001b[0;34m\u001b[0m\u001b[0;34m\u001b[0m\u001b[0m\n",
      "\u001b[0;31mModuleNotFoundError\u001b[0m: No module named 'gensim'"
     ]
    }
   ],
   "source": [
    "import numpy as np\n",
    "import pandas as pd\n",
    "import matplotlib.pyplot as plt\n",
    "import os\n",
    "import cv2\n",
    "from tqdm import tqdm\n",
    "\n",
    "import matplotlib.pyplot as plt\n",
    "import seaborn as sns\n",
    "import warnings\n",
    "from nltk.tokenize import sent_tokenize, word_tokenize \n",
    "import gensim \n",
    "from gensim.models import Word2Vec \n",
    "from sklearn.model_selection import train_test_split\n",
    "from sklearn.preprocessing import LabelEncoder\n",
    "from keras.models import Model\n",
    "from keras.layers import LSTM, Activation, Dense, Dropout, Input, Embedding\n",
    "from keras.optimizers import RMSprop\n",
    "from keras.preprocessing.text import Tokenizer\n",
    "from keras.preprocessing import sequence\n",
    "from keras.utils import to_categorical\n",
    "from keras.callbacks import EarlyStopping, ModelCheckpoint"
   ]
  },
  {
   "cell_type": "code",
   "execution_count": 3,
   "metadata": {
    "colab": {
     "base_uri": "https://localhost:8080/",
     "height": 617
    },
    "colab_type": "code",
    "executionInfo": {
     "elapsed": 60866,
     "status": "ok",
     "timestamp": 1589346835004,
     "user": {
      "displayName": "Umesh Saraswat",
      "photoUrl": "https://lh3.googleusercontent.com/a-/AOh14GjYIq2q-RJY9TGYU0oihFsJ-KBX2UQxuLD6z10Y4w=s64",
      "userId": "10527726304653339617"
     },
     "user_tz": -330
    },
    "id": "nBfmq9zBj8Y1",
    "outputId": "ba8674ab-4054-4af4-a9aa-77f7a557d675"
   },
   "outputs": [
    {
     "ename": "ModuleNotFoundError",
     "evalue": "No module named 'google.colab'",
     "output_type": "error",
     "traceback": [
      "\u001b[0;31m---------------------------------------------------------------------------\u001b[0m",
      "\u001b[0;31mModuleNotFoundError\u001b[0m                       Traceback (most recent call last)",
      "\u001b[0;32m<ipython-input-3-068d130669fd>\u001b[0m in \u001b[0;36m<module>\u001b[0;34m\u001b[0m\n\u001b[1;32m      1\u001b[0m \u001b[0;31m#####################################################         Reading CSV        #################################################\u001b[0m\u001b[0;34m\u001b[0m\u001b[0;34m\u001b[0m\u001b[0;34m\u001b[0m\u001b[0m\n\u001b[1;32m      2\u001b[0m \u001b[0;34m\u001b[0m\u001b[0m\n\u001b[0;32m----> 3\u001b[0;31m \u001b[0;32mfrom\u001b[0m \u001b[0mgoogle\u001b[0m\u001b[0;34m.\u001b[0m\u001b[0mcolab\u001b[0m \u001b[0;32mimport\u001b[0m \u001b[0mdrive\u001b[0m\u001b[0;34m\u001b[0m\u001b[0;34m\u001b[0m\u001b[0m\n\u001b[0m\u001b[1;32m      4\u001b[0m \u001b[0mdrive\u001b[0m\u001b[0;34m.\u001b[0m\u001b[0mmount\u001b[0m\u001b[0;34m(\u001b[0m\u001b[0;34m'/content/drive'\u001b[0m\u001b[0;34m)\u001b[0m\u001b[0;34m\u001b[0m\u001b[0;34m\u001b[0m\u001b[0m\n\u001b[1;32m      5\u001b[0m \u001b[0;34m\u001b[0m\u001b[0m\n",
      "\u001b[0;31mModuleNotFoundError\u001b[0m: No module named 'google.colab'"
     ]
    }
   ],
   "source": [
    "#####################################################         Reading CSV        #################################################\n",
    "\n",
    "from google.colab import drive\n",
    "drive.mount('/content/drive')\n",
    "\n",
    "\n",
    "PATH = os.getcwd()\n",
    "DATADIR = PATH + '/drive/My Drive/B.Tech Major Project/Dataset/Dataset_Final_Major.csv'\n",
    "df = pd.read_csv(DATADIR,delimiter=',',encoding='latin-1')\n",
    "\n",
    "df.info()\n",
    "sns.countplot(df.type)\n",
    "plt.xlabel('Label')\n",
    "plt.title('Number of Real and Fake News Instances')"
   ]
  },
  {
   "cell_type": "code",
   "execution_count": 3,
   "metadata": {
    "colab": {
     "base_uri": "https://localhost:8080/",
     "height": 190
    },
    "colab_type": "code",
    "executionInfo": {
     "elapsed": 1677,
     "status": "ok",
     "timestamp": 1589346842846,
     "user": {
      "displayName": "Umesh Saraswat",
      "photoUrl": "https://lh3.googleusercontent.com/a-/AOh14GjYIq2q-RJY9TGYU0oihFsJ-KBX2UQxuLD6z10Y4w=s64",
      "userId": "10527726304653339617"
     },
     "user_tz": -330
    },
    "id": "5dz7pmCtkWgU",
    "outputId": "5adc07e9-ad8f-4ccd-e9e8-19ef5598f40a"
   },
   "outputs": [
    {
     "data": {
      "text/html": [
       "<div>\n",
       "<style scoped>\n",
       "    .dataframe tbody tr th:only-of-type {\n",
       "        vertical-align: middle;\n",
       "    }\n",
       "\n",
       "    .dataframe tbody tr th {\n",
       "        vertical-align: top;\n",
       "    }\n",
       "\n",
       "    .dataframe thead th {\n",
       "        text-align: right;\n",
       "    }\n",
       "</style>\n",
       "<table border=\"1\" class=\"dataframe\">\n",
       "  <thead>\n",
       "    <tr style=\"text-align: right;\">\n",
       "      <th></th>\n",
       "      <th>Unnamed: 0</th>\n",
       "      <th>type</th>\n",
       "      <th>text</th>\n",
       "      <th>title</th>\n",
       "      <th>main_img_url</th>\n",
       "    </tr>\n",
       "  </thead>\n",
       "  <tbody>\n",
       "    <tr>\n",
       "      <th>0</th>\n",
       "      <td>0</td>\n",
       "      <td>real</td>\n",
       "      <td>They stood in line at Trump Tower, sometimes u...</td>\n",
       "      <td>At Donald Trump&lt;U+2019&gt;s Properties, a Showcas...</td>\n",
       "      <td>https://static01.nyt.com/images/2016/11/23/us/...</td>\n",
       "    </tr>\n",
       "    <tr>\n",
       "      <th>1</th>\n",
       "      <td>1</td>\n",
       "      <td>real</td>\n",
       "      <td>Donald J. Trump &lt;U+2019&gt;s foundation informed ...</td>\n",
       "      <td>Trump Foundation Tells New York It Has Stopped...</td>\n",
       "      <td>https://static01.nyt.com/images/2016/10/18/us/...</td>\n",
       "    </tr>\n",
       "    <tr>\n",
       "      <th>2</th>\n",
       "      <td>2</td>\n",
       "      <td>real</td>\n",
       "      <td>President-elect Donald J. Trump won the White ...</td>\n",
       "      <td>Donald Trump Prepares for White House Move, bu...</td>\n",
       "      <td>https://static01.nyt.com/images/2016/11/12/us/...</td>\n",
       "    </tr>\n",
       "    <tr>\n",
       "      <th>3</th>\n",
       "      <td>3</td>\n",
       "      <td>real</td>\n",
       "      <td>An investment pitch for a new Texas hotel is t...</td>\n",
       "      <td>Luring Chinese Investors With Trump&lt;U+2019&gt;s N...</td>\n",
       "      <td>https://static01.nyt.com/images/2016/10/21/bus...</td>\n",
       "    </tr>\n",
       "    <tr>\n",
       "      <th>4</th>\n",
       "      <td>4</td>\n",
       "      <td>real</td>\n",
       "      <td>President-elect Donald J. Trump &lt;U+2019&gt;s wife...</td>\n",
       "      <td>Melania and Barron Trump Won&lt;U+2019&gt;t Immediat...</td>\n",
       "      <td>https://static01.nyt.com/images/2016/11/21/us/...</td>\n",
       "    </tr>\n",
       "  </tbody>\n",
       "</table>\n",
       "</div>"
      ],
      "text/plain": [
       "   Unnamed: 0  ...                                       main_img_url\n",
       "0           0  ...  https://static01.nyt.com/images/2016/11/23/us/...\n",
       "1           1  ...  https://static01.nyt.com/images/2016/10/18/us/...\n",
       "2           2  ...  https://static01.nyt.com/images/2016/11/12/us/...\n",
       "3           3  ...  https://static01.nyt.com/images/2016/10/21/bus...\n",
       "4           4  ...  https://static01.nyt.com/images/2016/11/21/us/...\n",
       "\n",
       "[5 rows x 5 columns]"
      ]
     },
     "execution_count": 3,
     "metadata": {
      "tags": []
     },
     "output_type": "execute_result"
    }
   ],
   "source": [
    "df.head()\n",
    "df['type'].value_counts()\n",
    "#df['main_img_url'].value_counts()\n",
    "df.head()"
   ]
  },
  {
   "cell_type": "code",
   "execution_count": 0,
   "metadata": {
    "colab": {},
    "colab_type": "code",
    "id": "owVMK4PekbYN"
   },
   "outputs": [],
   "source": [
    "'''from google.colab.patches import cv2_imshow\n",
    "from skimage import io\n",
    "\n",
    "data=df[[\"type\",\"text\",\"title\",\"main_img_url\"]]\n",
    "#data.columns\n",
    "tr=0\n",
    "fs=0\n",
    "x=0\n",
    "for i, j in data.iterrows(): \n",
    "  if(j['type']=='real'):\n",
    "    x=x+1\n",
    "    if(x%500 ==0):\n",
    "      print(x)\n",
    "    continue\n",
    "  else:\n",
    "    link=j['main_img_url']\n",
    "    #print(link)\n",
    "    if(x%500==0):\n",
    "      print(x)\n",
    "    try:\n",
    "      img=io.imread(link);\n",
    "      tr=tr+1\n",
    "      #cv2_imshow(img)\n",
    "    except Exception as e:  # in the interest in keeping the output clean... \n",
    "      data.drop(data[ data['main_img_url'] == link ].index, inplace = True)\n",
    "      fs=fs+1\n",
    "      #print(i,j) \n",
    "    x=x+1\n",
    "print(tr, fs)\n",
    "'''"
   ]
  },
  {
   "cell_type": "code",
   "execution_count": 4,
   "metadata": {
    "colab": {
     "base_uri": "https://localhost:8080/",
     "height": 84
    },
    "colab_type": "code",
    "executionInfo": {
     "elapsed": 2113,
     "status": "ok",
     "timestamp": 1589346852255,
     "user": {
      "displayName": "Umesh Saraswat",
      "photoUrl": "https://lh3.googleusercontent.com/a-/AOh14GjYIq2q-RJY9TGYU0oihFsJ-KBX2UQxuLD6z10Y4w=s64",
      "userId": "10527726304653339617"
     },
     "user_tz": -330
    },
    "id": "2ulju6z_khjQ",
    "outputId": "5956c835-274d-444b-c860-1725164a41c8"
   },
   "outputs": [
    {
     "name": "stdout",
     "output_type": "stream",
     "text": [
      "real    2725\n",
      "fake    2447\n",
      "Name: type, dtype: int64\n"
     ]
    },
    {
     "data": {
      "text/plain": [
       "Index(['type', 'text', 'title', 'main_img_url'], dtype='object')"
      ]
     },
     "execution_count": 4,
     "metadata": {
      "tags": []
     },
     "output_type": "execute_result"
    }
   ],
   "source": [
    "#print(tr,fs)\n",
    "data = df[[\"type\",\"text\",\"title\",\"main_img_url\"]]\n",
    "print(data['type'].value_counts())\n",
    "data.columns"
   ]
  },
  {
   "cell_type": "code",
   "execution_count": 0,
   "metadata": {
    "colab": {},
    "colab_type": "code",
    "id": "ClHYrIVBklsl"
   },
   "outputs": [],
   "source": [
    "#data.to_csv(PATH + '/drive/My Drive/B.Tech Minor Project/Dataset/Dataset_Final.csv')\n",
    "#print(1)\n",
    "#PATH = os.getcwd()\n",
    "#DATADIR = PATH + '/drive/My Drive/B.Tech Minor Project/Dataset/Dataset_Final.csv'\n",
    "#df1 = pd.read_csv(DATADIR,delimiter=',',encoding='latin-1')"
   ]
  },
  {
   "cell_type": "code",
   "execution_count": 6,
   "metadata": {
    "colab": {
     "base_uri": "https://localhost:8080/",
     "height": 530
    },
    "colab_type": "code",
    "executionInfo": {
     "elapsed": 1721,
     "status": "ok",
     "timestamp": 1589346882656,
     "user": {
      "displayName": "Umesh Saraswat",
      "photoUrl": "https://lh3.googleusercontent.com/a-/AOh14GjYIq2q-RJY9TGYU0oihFsJ-KBX2UQxuLD6z10Y4w=s64",
      "userId": "10527726304653339617"
     },
     "user_tz": -330
    },
    "id": "Q8TvP_zskyCh",
    "outputId": "d886a050-a447-4fd3-c2b3-509abedc96c9"
   },
   "outputs": [
    {
     "name": "stdout",
     "output_type": "stream",
     "text": [
      "<class 'pandas.core.frame.DataFrame'>\n",
      "RangeIndex: 5172 entries, 0 to 5171\n",
      "Data columns (total 4 columns):\n",
      " #   Column        Non-Null Count  Dtype \n",
      "---  ------        --------------  ----- \n",
      " 0   type          5172 non-null   object\n",
      " 1   text          5172 non-null   object\n",
      " 2   title         5172 non-null   object\n",
      " 3   main_img_url  5172 non-null   object\n",
      "dtypes: object(4)\n",
      "memory usage: 161.8+ KB\n"
     ]
    },
    {
     "data": {
      "text/plain": [
       "real    2725\n",
       "fake    2447\n",
       "Name: type, dtype: int64"
      ]
     },
     "execution_count": 6,
     "metadata": {
      "tags": []
     },
     "output_type": "execute_result"
    },
    {
     "data": {
      "image/png": "[encoded data removed]",
      "text/plain": [
       "<Figure size 432x288 with 1 Axes>"
      ]
     },
     "metadata": {
      "needs_background": "light",
      "tags": []
     },
     "output_type": "display_data"
    }
   ],
   "source": [
    "data.info()\n",
    "sns.countplot(data.type)\n",
    "plt.xlabel('Label')\n",
    "plt.title('Number of Real and Fake News Instances')\n",
    "data.type.value_counts()"
   ]
  },
  {
   "cell_type": "code",
   "execution_count": 7,
   "metadata": {
    "colab": {
     "base_uri": "https://localhost:8080/",
     "height": 518
    },
    "colab_type": "code",
    "executionInfo": {
     "elapsed": 2674,
     "status": "ok",
     "timestamp": 1589346940070,
     "user": {
      "displayName": "Umesh Saraswat",
      "photoUrl": "https://lh3.googleusercontent.com/a-/AOh14GjYIq2q-RJY9TGYU0oihFsJ-KBX2UQxuLD6z10Y4w=s64",
      "userId": "10527726304653339617"
     },
     "user_tz": -330
    },
    "id": "2a52XoWaktDR",
    "outputId": "e25da9ac-8933-45fa-8d56-dd28e184e108"
   },
   "outputs": [
    {
     "name": "stdout",
     "output_type": "stream",
     "text": [
      "https://static01.nyt.com/images/2016/11/23/us/23spectacle1/23spectacle1-master768.jpg\n",
      "0\n"
     ]
    },
    {
     "data": {
      "image/png": "[encoded data removed]",
      "text/plain": [
       "<PIL.Image.Image image mode=RGB size=128x128 at 0x7F9C46060C88>"
      ]
     },
     "metadata": {
      "tags": []
     },
     "output_type": "display_data"
    },
    {
     "name": "stdout",
     "output_type": "stream",
     "text": [
      "(128, 128, 3)\n",
      "https://static01.nyt.com/images/2016/10/18/us/18fd-trumpfoundation/18fd-trumpfoundation-master675.jpg\n"
     ]
    },
    {
     "data": {
      "image/png": "[encoded data removed]",
      "text/plain": [
       "<PIL.Image.Image image mode=RGB size=128x128 at 0x7F9C46060DD8>"
      ]
     },
     "metadata": {
      "tags": []
     },
     "output_type": "display_data"
    },
    {
     "name": "stdout",
     "output_type": "stream",
     "text": [
      "(128, 128, 3)\n",
      "https://static01.nyt.com/images/2016/11/12/us/12tower1/12tower1-master768.jpg\n"
     ]
    },
    {
     "data": {
      "image/png": "[encoded data removed]",
      "text/plain": [
       "<PIL.Image.Image image mode=RGB size=128x128 at 0x7F9C45C38F28>"
      ]
     },
     "metadata": {
      "tags": []
     },
     "output_type": "display_data"
    },
    {
     "name": "stdout",
     "output_type": "stream",
     "text": [
      "(128, 128, 3)\n"
     ]
    }
   ],
   "source": [
    "CATEGORIES = ['real', 'fake']\n",
    "LENDIR=len(CATEGORIES)\n",
    "\n",
    "IMG_SIZE = 128\n",
    "#############################################################      Reading Image URL       ########################################################\n",
    "from google.colab.patches import cv2_imshow\n",
    "from skimage import io\n",
    "import cv2\n",
    "import urllib\n",
    "import numpy as np\n",
    "import imutils\n",
    "from matplotlib import pyplot as plt\n",
    "\n",
    "x=0\n",
    "for i, j in data.iterrows(): \n",
    "  link=j[\"main_img_url\"]\n",
    "  print(link)\n",
    "  if(x%500==0):\n",
    "    print(x)\n",
    "  try:\n",
    "    img_array = imutils.url_to_image(link)\n",
    "    #print('1')\n",
    "    #img_array=cv2.imread(link);\n",
    "    #print(img_array)\n",
    "    #cv2_imshow(img_array)\n",
    "    #ret,thresh_img1 = cv2.threshold(img_array,127,255,cv2.THRESH_BINARY)\n",
    "    #cv2_imshow(thresh_img1)\n",
    "    #ret2,thresh_img2 = cv2.threshold(img_array,0,255,cv2.THRESH_BINARY+cv2.THRESH_OTSU)\n",
    "    #cv2_imshow(thresh_img2)\n",
    "    new_array = cv2.resize(img_array, (IMG_SIZE,IMG_SIZE))\n",
    "    cv2_imshow(new_array)\n",
    "    x=x+1\n",
    "    print(new_array.shape)\n",
    "  except Exception as e:  # in the interest in keeping the output clean... \n",
    "    #data.drop(data[ data['main_img_url'] == link ].index, inplace = True)\n",
    "    print('2')\n",
    "    pass\n",
    "    #print(i,j)\n",
    "  if(x==3): \n",
    "    break;   #.....show only one\n",
    "\n",
    "IMG_SIZE = 128\n"
   ]
  },
  {
   "cell_type": "code",
   "execution_count": 0,
   "metadata": {
    "colab": {},
    "colab_type": "code",
    "id": "0Ay-S-TRkJ3e"
   },
   "outputs": [],
   "source": [
    "#################################################################    Lables Encoding    #######################################################\n",
    "labelencoder = LabelEncoder()\n",
    "#for i,j in data.iterrows():\n",
    "  #j['type'] = labelencoder.fit_transform(j['type'])\n",
    "Y = data.type\n",
    "Y = labelencoder.fit_transform(Y)"
   ]
  },
  {
   "cell_type": "code",
   "execution_count": 9,
   "metadata": {
    "colab": {
     "base_uri": "https://localhost:8080/",
     "height": 50
    },
    "colab_type": "code",
    "executionInfo": {
     "elapsed": 2201,
     "status": "ok",
     "timestamp": 1589346953590,
     "user": {
      "displayName": "Umesh Saraswat",
      "photoUrl": "https://lh3.googleusercontent.com/a-/AOh14GjYIq2q-RJY9TGYU0oihFsJ-KBX2UQxuLD6z10Y4w=s64",
      "userId": "10527726304653339617"
     },
     "user_tz": -330
    },
    "id": "2GZgom9xlBd6",
    "outputId": "e71ff82d-3454-4c06-bf62-950577e42a8c"
   },
   "outputs": [
    {
     "name": "stdout",
     "output_type": "stream",
     "text": [
      "5172\n",
      "[1 1 1 1 1]\n"
     ]
    }
   ],
   "source": [
    "print(len(Y))\n",
    "print(Y[:5])"
   ]
  },
  {
   "cell_type": "code",
   "execution_count": 10,
   "metadata": {
    "colab": {
     "base_uri": "https://localhost:8080/",
     "height": 1000
    },
    "colab_type": "code",
    "executionInfo": {
     "elapsed": 1594103,
     "status": "ok",
     "timestamp": 1589348553669,
     "user": {
      "displayName": "Umesh Saraswat",
      "photoUrl": "https://lh3.googleusercontent.com/a-/AOh14GjYIq2q-RJY9TGYU0oihFsJ-KBX2UQxuLD6z10Y4w=s64",
      "userId": "10527726304653339617"
     },
     "user_tz": -330
    },
    "id": "6TqJbIxXlCvr",
    "outputId": "f8d4b3f0-f1e1-4c73-ed6d-b1a7917f5827"
   },
   "outputs": [
    {
     "name": "stdout",
     "output_type": "stream",
     "text": [
      "0\n"
     ]
    },
    {
     "name": "stderr",
     "output_type": "stream",
     "text": [
      "/usr/local/lib/python3.6/dist-packages/pandas/core/frame.py:3997: SettingWithCopyWarning: \n",
      "A value is trying to be set on a copy of a slice from a DataFrame\n",
      "\n",
      "See the caveats in the documentation: https://pandas.pydata.org/pandas-docs/stable/user_guide/indexing.html#returning-a-view-versus-a-copy\n",
      "  errors=errors,\n"
     ]
    },
    {
     "name": "stdout",
     "output_type": "stream",
     "text": [
      "2\n",
      "2\n",
      "500\n",
      "2\n",
      "2\n",
      "1000\n",
      "2\n",
      "1500\n",
      "2000\n",
      "2500\n",
      "2\n",
      "2\n",
      "2\n",
      "2\n",
      "2\n",
      "2\n",
      "2\n",
      "2\n",
      "2\n",
      "2\n",
      "2\n",
      "2\n",
      "2\n",
      "2\n",
      "2\n",
      "2\n",
      "2\n",
      "2\n",
      "2\n",
      "2\n",
      "2\n",
      "2\n",
      "2\n",
      "2\n",
      "2\n",
      "2\n",
      "2\n",
      "2\n",
      "2\n",
      "2\n",
      "2\n",
      "2\n",
      "2\n",
      "2\n",
      "2\n",
      "2\n",
      "2\n",
      "2\n",
      "2\n",
      "2\n",
      "2\n",
      "2\n",
      "2\n",
      "2\n",
      "2\n",
      "2\n",
      "2\n",
      "2\n",
      "2\n",
      "2\n",
      "2\n",
      "2\n",
      "2\n",
      "2\n",
      "2\n",
      "2\n",
      "2\n",
      "2\n",
      "2\n",
      "2\n",
      "2\n",
      "2\n",
      "2\n",
      "2\n",
      "2\n",
      "2\n",
      "2\n",
      "2\n",
      "2\n",
      "2\n",
      "2\n",
      "2\n",
      "2\n",
      "2\n",
      "2\n",
      "2\n",
      "2\n",
      "2\n",
      "2\n",
      "2\n",
      "2\n",
      "2\n",
      "2\n",
      "2\n",
      "2\n",
      "2\n",
      "2\n",
      "2\n",
      "2\n",
      "2\n",
      "2\n",
      "2\n",
      "2\n",
      "2\n",
      "2\n",
      "2\n",
      "2\n",
      "2\n",
      "2\n",
      "2\n",
      "2\n",
      "2\n",
      "2\n",
      "2\n",
      "2\n",
      "2\n",
      "2\n",
      "2\n",
      "2\n",
      "2\n",
      "2\n",
      "2\n",
      "2\n",
      "2\n",
      "2\n",
      "2\n",
      "2\n",
      "2\n",
      "2\n",
      "2\n",
      "2\n",
      "2\n",
      "2\n",
      "2\n",
      "2\n",
      "2\n",
      "2\n",
      "2\n",
      "2\n",
      "2\n",
      "2\n",
      "2\n",
      "2\n",
      "2\n",
      "2\n",
      "2\n",
      "2\n",
      "2\n",
      "2\n",
      "2\n",
      "2\n",
      "2\n",
      "2\n",
      "2\n",
      "2\n",
      "2\n",
      "2\n",
      "2\n",
      "2\n",
      "2\n",
      "2\n",
      "2\n",
      "2\n",
      "2\n",
      "2\n",
      "2\n",
      "3000\n",
      "2\n",
      "2\n",
      "2\n",
      "2\n",
      "2\n",
      "2\n",
      "2\n",
      "2\n",
      "2\n",
      "2\n",
      "2\n",
      "2\n",
      "3500\n",
      "2\n",
      "2\n",
      "2\n",
      "4000\n",
      "2\n",
      "4500\n",
      "4995\n"
     ]
    }
   ],
   "source": [
    "##############################################################    Reading and Preprocessing Images       ###########################################################\n",
    "from google.colab.patches import cv2_imshow\n",
    "from skimage import io\n",
    "import cv2\n",
    "import urllib\n",
    "import numpy as np\n",
    "import imutils\n",
    "\n",
    "training_data_img = []\n",
    "\n",
    "IMG_SIZE = 128\n",
    "\n",
    "def create_training_data():\n",
    " \n",
    "  x=0\n",
    "  for i, j in data.iterrows(): \n",
    "    \n",
    "    link=j['main_img_url']\n",
    "    #print(link)\n",
    "    if(x%500==0):\n",
    "      print(x)\n",
    "\n",
    "    try:\n",
    "      #img_array=io.imread(link);\n",
    "      img_array = imutils.url_to_image(link)\n",
    "      #print('1')\n",
    "      #img_array=cv2.imread(link);\n",
    "      #print(img_array)\n",
    "      #cv2_imshow(img_array)\n",
    "      #ret,thresh_img1 = cv2.threshold(img_array,127,255,cv2.THRESH_BINARY)\n",
    "      new_array = cv2.resize(img_array, (IMG_SIZE,IMG_SIZE))\n",
    "      #cv2_imshow(new_array)\n",
    "      #print(new_array)\n",
    "      #print(new_array.shape)\n",
    "      x=x+1\n",
    "      training_data_img.append([new_array,Y[i]])\n",
    "      #print('1')\n",
    "    except Exception as e:  # in the interest in keeping the output clean... \n",
    "      data.drop(data[ data['main_img_url'] == link ].index, inplace = True)\n",
    "      print('2')\n",
    "      pass\n",
    "      #print(i,j) \n",
    " \n",
    "create_training_data()\n",
    " \n",
    "print(len(training_data_img))"
   ]
  },
  {
   "cell_type": "code",
   "execution_count": 11,
   "metadata": {
    "colab": {
     "base_uri": "https://localhost:8080/",
     "height": 530
    },
    "colab_type": "code",
    "executionInfo": {
     "elapsed": 1663,
     "status": "ok",
     "timestamp": 1589349305926,
     "user": {
      "displayName": "Umesh Saraswat",
      "photoUrl": "https://lh3.googleusercontent.com/a-/AOh14GjYIq2q-RJY9TGYU0oihFsJ-KBX2UQxuLD6z10Y4w=s64",
      "userId": "10527726304653339617"
     },
     "user_tz": -330
    },
    "id": "MIMOdof861O6",
    "outputId": "3f66abd1-eb90-4df4-f6f3-9da812e38a2b"
   },
   "outputs": [
    {
     "name": "stdout",
     "output_type": "stream",
     "text": [
      "<class 'pandas.core.frame.DataFrame'>\n",
      "Int64Index: 4995 entries, 0 to 5171\n",
      "Data columns (total 4 columns):\n",
      " #   Column        Non-Null Count  Dtype \n",
      "---  ------        --------------  ----- \n",
      " 0   type          4995 non-null   object\n",
      " 1   text          4995 non-null   object\n",
      " 2   title         4995 non-null   object\n",
      " 3   main_img_url  4995 non-null   object\n",
      "dtypes: object(4)\n",
      "memory usage: 195.1+ KB\n"
     ]
    },
    {
     "data": {
      "text/plain": [
       "real    2564\n",
       "fake    2431\n",
       "Name: type, dtype: int64"
      ]
     },
     "execution_count": 11,
     "metadata": {
      "tags": []
     },
     "output_type": "execute_result"
    },
    {
     "data": {
      "image/png": "[encoded data removed]",
      "text/plain": [
       "<Figure size 432x288 with 1 Axes>"
      ]
     },
     "metadata": {
      "needs_background": "light",
      "tags": []
     },
     "output_type": "display_data"
    }
   ],
   "source": [
    "data.info()\n",
    "sns.countplot(data.type)\n",
    "plt.xlabel('Label')\n",
    "plt.title('Number of Real and Fake News Instances')\n",
    "data.type.value_counts()"
   ]
  },
  {
   "cell_type": "code",
   "execution_count": 12,
   "metadata": {
    "colab": {
     "base_uri": "https://localhost:8080/",
     "height": 100
    },
    "colab_type": "code",
    "executionInfo": {
     "elapsed": 1347,
     "status": "ok",
     "timestamp": 1589349318004,
     "user": {
      "displayName": "Umesh Saraswat",
      "photoUrl": "https://lh3.googleusercontent.com/a-/AOh14GjYIq2q-RJY9TGYU0oihFsJ-KBX2UQxuLD6z10Y4w=s64",
      "userId": "10527726304653339617"
     },
     "user_tz": -330
    },
    "id": "jndZ-hdjlNEP",
    "outputId": "b893375d-8340-4fcc-d3a0-19647e987713"
   },
   "outputs": [
    {
     "name": "stdout",
     "output_type": "stream",
     "text": [
      "<class 'list'>\n",
      "(4995, 2)\n",
      "4995\n",
      "128\n",
      "128\n"
     ]
    }
   ],
   "source": [
    "print(type(training_data_img))\n",
    "print(np.array(training_data_img).shape)\n",
    "print(len(data))\n",
    "#print(training_data_img[0])\n",
    "print(len(training_data_img[0][0]))\n",
    "print(len(training_data_img[0][0][0]))"
   ]
  },
  {
   "cell_type": "code",
   "execution_count": 0,
   "metadata": {
    "colab": {},
    "colab_type": "code",
    "id": "yzGr6a7d7I3p"
   },
   "outputs": [],
   "source": [
    "from pickle import dump, load\n",
    "# save the scaler\n",
    "dump(training_data_img, open('training_data_img.pkl', 'wb'))\n"
   ]
  },
  {
   "cell_type": "code",
   "execution_count": 25,
   "metadata": {
    "colab": {
     "base_uri": "https://localhost:8080/",
     "height": 100
    },
    "colab_type": "code",
    "executionInfo": {
     "elapsed": 1329,
     "status": "ok",
     "timestamp": 1589262526250,
     "user": {
      "displayName": "Umesh Saraswat",
      "photoUrl": "https://lh3.googleusercontent.com/a-/AOh14GjYIq2q-RJY9TGYU0oihFsJ-KBX2UQxuLD6z10Y4w=s64",
      "userId": "10527726304653339617"
     },
     "user_tz": -330
    },
    "id": "px5ZREPx7LBM",
    "outputId": "a2dd4164-4e6d-4075-c59c-da86442be0d2"
   },
   "outputs": [
    {
     "name": "stdout",
     "output_type": "stream",
     "text": [
      "4992\n",
      "<class 'list'>\n",
      "(4992, 2)\n",
      "128\n",
      "128\n"
     ]
    }
   ],
   "source": [
    "# load the scaler\n",
    "img_data = load(open('training_data_img.pkl', 'rb'))\n",
    "\n",
    "print(len(img_data))\n",
    "print(type(img_data))\n",
    "\n",
    "print(np.array(img_data).shape)\n",
    "#print(img_data[0])\n",
    "\n",
    "print(len(img_data[0][0]))\n",
    "print(len(img_data[0][0][0]))"
   ]
  },
  {
   "cell_type": "code",
   "execution_count": 14,
   "metadata": {
    "colab": {
     "base_uri": "https://localhost:8080/",
     "height": 67
    },
    "colab_type": "code",
    "executionInfo": {
     "elapsed": 2112,
     "status": "ok",
     "timestamp": 1589349334876,
     "user": {
      "displayName": "Umesh Saraswat",
      "photoUrl": "https://lh3.googleusercontent.com/a-/AOh14GjYIq2q-RJY9TGYU0oihFsJ-KBX2UQxuLD6z10Y4w=s64",
      "userId": "10527726304653339617"
     },
     "user_tz": -330
    },
    "id": "euvjyPmy7Za3",
    "outputId": "eb61133a-b97e-406b-d951-f5bea54c420e"
   },
   "outputs": [
    {
     "name": "stdout",
     "output_type": "stream",
     "text": [
      "<class 'numpy.ndarray'>\n",
      "(4995, 128, 128, 3)\n",
      "4995\n"
     ]
    }
   ],
   "source": [
    "X_img = []\n",
    "labels = []\n",
    "IMG_SIZE = 128\n",
    "\n",
    "for features,label in training_data_img:\n",
    "    X_img.append(features)\n",
    "    labels.append(label)\n",
    "\n",
    "X_img = np.array(X_img).reshape(-1, IMG_SIZE, IMG_SIZE, 3)\n",
    "#X_img = X_img/255.0\n",
    "#print(np.array(training_data_img[0]).shape)\n",
    "#print(np.array(X_img[0]).shape)\n",
    "#X_img = np.array(training_data_img).reshape(-1, (IMG_SIZE, IMG_SIZE, 3))\n",
    "#np.array(X_img).reshape(IMG_SIZE,IMG_SIZE,(3))\n",
    "\n",
    "X_img = X_img/255.0\n",
    "print(type(X_img))\n",
    "print((X_img).shape)\n",
    "print(len(training_data_img))\n",
    "#print(X_img[0])\n",
    "\n",
    "###############################################################################################      Image Preprocessing done     #########################################################################"
   ]
  },
  {
   "cell_type": "code",
   "execution_count": 15,
   "metadata": {
    "colab": {
     "base_uri": "https://localhost:8080/",
     "height": 87
    },
    "colab_type": "code",
    "executionInfo": {
     "elapsed": 1231,
     "status": "ok",
     "timestamp": 1589349340869,
     "user": {
      "displayName": "Umesh Saraswat",
      "photoUrl": "https://lh3.googleusercontent.com/a-/AOh14GjYIq2q-RJY9TGYU0oihFsJ-KBX2UQxuLD6z10Y4w=s64",
      "userId": "10527726304653339617"
     },
     "user_tz": -330
    },
    "id": "bzTynUpJCpMJ",
    "outputId": "2773ce21-7505-48bf-f6b2-350ef07574b8"
   },
   "outputs": [
    {
     "name": "stdout",
     "output_type": "stream",
     "text": [
      "They stood in line at Trump Tower, sometimes up to half an hour, handing over their cash for mementos of the president-elect: mini, gold-wrapped chocolate bricks stamped <U+201C>Trump.<U+201D> Trump monogrammed sweaters, towels and glassware. Trump cologne. <U+201C>I bought it for my two sons,<U+201D> said Shanon Loggins, 47, of Lufkin, Tex., showing off a golden shopping bag embossed with the Trump crest that carried two bottles of Success by Trump, a fragrance for men. <U+201C>They need to be successful,<U+201D> she explained. Business is good for Donald J. Trump . People are flocking to his Midtown Manhattan skyscraper, dining in his restaurants and buying his wares. Reporters are fastidiously chronicling the comings and goings of his transition team , his self-branded properties providing the backdrop for television live shots. Mr. Trump has taken the staid task of preparing to assume the presidency and turned it into an exercise in conspicuous self-promotion and carefully choreographed branding. But as the president-elect makes use of his vast real estate holdings, he is also raising questions about whether he is exploiting the high profile and stature of the office to conduct what could be seen as a promotional tour for the Trump Organization. The venues he has picked to conduct his official transition planning attest to his success as a real estate developer: Trump Tower, the Manhattan skyscraper where he lives and works amid Trump-themed eateries and boutiques; Mar-a-Lago, the upscale, private Palm Beach, Fla., club where he has chosen to hold meetings over Thanksgiving; and the Trump National Golf Club in Bedminster, N.J. Mr. Trump especially liked the Bedminster setting, he told his aides, because the images of him receiving potential cabinet appointees at the front door of the clubhouse resembled 10 Downing Street in London. In planning future transition meetings, Mr. Trump and his team are considering other properties of his that might fit his desire for rich, regal symbolism. <U+201C>It stinks,<U+201D> said Norman Eisen , who was the chief White House ethics lawyer for President Obama from 2009 to 2011. Because there is no specific law prohibiting public officeholders from financially beneficial self-promotion, what Mr. Trump is doing is probably not illegal, Mr. Eisen added. <U+201C>But that doesn<U+2019>t make it right,<U+201D> he said. <U+201C>It<U+2019>s part and parcel of the unsavory marketing of his brands that he also did during the campaign.<U+201D> Unsavory or not, it is all part of the stagecraft and spectacle that Mr. Trump has directed from his 26th-floor office in Trump Tower <U+2014> all of which is being ravenously consumed by the news media and his loyal followers. Most days since Mr. Trump became the president-elect, the lobby of Trump Tower has been a public staging area for aspects of the transition that Mr. Trump most wants people to see. Potential cabinet appointees march across its buffed marble floors, past the cameras that stream the scene live to C-Span, and into the gold mirrored elevators. This week there were people like Gov. Mary Fallin of Oklahoma and Rick Perry, the former Texas governor, who disparaged Mr. Trump as <U+201C>a cancer on conservatism<U+201D> when they were battling for the Republican nomination. Mr. Trump and his staff have even devised a proper greeting protocol for arriving guests. As Mr. Perry made his way through the lobby on Monday, a young woman looped her arm around his and escorted him past the cameras. The same woman was also on hand over the weekend to accompany visiting guests when Mr. Trump moved the meetings to Bedminster. The golf club was even more of a display of munificence, with Mr. Trump turning to the cameras to embrace Mitt Romney, who just months ago condemned Mr. Trump as a <U+201C>phony<U+201D> and a <U+201C>fraud.<U+201D> He is now a leading candidate for secretary of state. There were more ethnically diverse potential cabinet candidates there, as well, like T. W. Shannon, the first African-American speaker of the Oklahoma House, and Michelle Rhee, a former schools chancellor in Washington, who is Asian-American. When Mr. Trump was done interviewing them, he would see them off outside and, once again, banter with the news media. <U+201C>Tremendous talent <U+2014> we<U+2019>re seeing tremendous talent,<U+201D> Mr. Trump said on Saturday . <U+201C>People that, as I say, we will <U+2018>make America great again.<U+2019> These are really great people. These are really, really talented people.<U+201D> As the cameras rolled during the weekend at Bedminster, temperatures dropped sharply, sending journalists into the gift shop, where the only cold-weather attire they could find was a winter hat with Trump embroidered on it. The market for anything stamped Trump has been bustling. At the gift kiosk on the lower level of Trump Tower <U+2014> between the Trump Ice Cream Parlor and the Trump Grill, with its $25 prix fixe lunch <U+2014> the line on Monday morning was about two dozen people deep. Cashiers were doing their civic diligence, asking anyone purchasing Trump campaign gear like the <U+201C>Make America Great Again<U+201D> hats ($25) whether they were American citizens. (Law prohibits foreigners from giving money to campaigns.) Marilyn Bryan, 70, of Terre Haute, Ind., was sitting at a table outside the kiosk with her daughter Trisha. In May, Ms. Bryan was at a Trump rally in her hometown when someone passed out next to her, knocked her down and broke her femur. That might have been enough Trump for anyone else. But she decided that as long as she was visiting New York this week, she might as well stop by the tower to take in the scene. <U+201C>What<U+2019>d we spend? $200?<U+201D> she asked her daughter. Inside her shopping bag were a hat, the golden Trump chocolate bars and some other Trump knickknacks she planned to give to her relatives. The chocolate, they were somewhat disappointed to learn, was actually made in Fort Wayne, Ind. Standing nearby were Paul and Lea Foster of Hidden Hills, Calif. After purchasing two hats and two T-shirts, Ms. Foster, 62, marveled at Mr. Trump<U+2019>s ability to cash in on his name. <U+201C>He<U+2019>s sure figured out how to make money,<U+201D> she said. Her husband nodded. <U+201C>He<U+2019>s a businessman, a promoter,<U+201D> said Mr. Foster, 81. <U+201C>Let<U+2019>s hope he knows how to run the country.<U+201D> Michael S. Schmidt contributed reporting. Get politics news updates via Facebook , Twitter and the Morning Briefing newsletter . A version of this article appears in print on November 23, 2016, on Page A17 of the New York edition with the headline: At Trump<U+2019>s Properties, a Showcase for a Brand and a President-Elect. Order Reprints | Today's Paper | Subscribe\n",
      "They stood in line at Trump Tower, sometimes up to half an hour, handing over their cash for mementos of the president-elect: mini, gold-wrapped chocolate bricks stamped <U+201C>Trump.<U+201D> Trump monogrammed sweaters, towels and glassware. Trump cologne. <U+201C>I bought it for my two sons,<U+201D> said Shanon Loggins, 47, of Lufkin, Tex., showing off a golden shopping bag embossed with the Trump crest that carried two bottles of Success by Trump, a fragrance for men. <U+201C>They need to be successful,<U+201D> she explained. Business is good for Donald J. Trump . People are flocking to his Midtown Manhattan skyscraper, dining in his restaurants and buying his wares. Reporters are fastidiously chronicling the comings and goings of his transition team , his self-branded properties providing the backdrop for television live shots. Mr. Trump has taken the staid task of preparing to assume the presidency and turned it into an exercise in conspicuous self-promotion and carefully choreographed branding. But as the president-elect makes use of his vast real estate holdings, he is also raising questions about whether he is exploiting the high profile and stature of the office to conduct what could be seen as a promotional tour for the Trump Organization. The venues he has picked to conduct his official transition planning attest to his success as a real estate developer: Trump Tower, the Manhattan skyscraper where he lives and works amid Trump-themed eateries and boutiques; Mar-a-Lago, the upscale, private Palm Beach, Fla., club where he has chosen to hold meetings over Thanksgiving; and the Trump National Golf Club in Bedminster, N.J. Mr. Trump especially liked the Bedminster setting, he told his aides, because the images of him receiving potential cabinet appointees at the front door of the clubhouse resembled 10 Downing Street in London. In planning future transition meetings, Mr. Trump and his team are considering other properties of his that might fit his desire for rich, regal symbolism. <U+201C>It stinks,<U+201D> said Norman Eisen , who was the chief White House ethics lawyer for President Obama from 2009 to 2011. Because there is no specific law prohibiting public officeholders from financially beneficial self-promotion, what Mr. Trump is doing is probably not illegal, Mr. Eisen added. <U+201C>But that doesn<U+2019>t make it right,<U+201D> he said. <U+201C>It<U+2019>s part and parcel of the unsavory marketing of his brands that he also did during the campaign.<U+201D> Unsavory or not, it is all part of the stagecraft and spectacle that Mr. Trump has directed from his 26th-floor office in Trump Tower <U+2014> all of which is being ravenously consumed by the news media and his loyal followers. Most days since Mr. Trump became the president-elect, the lobby of Trump Tower has been a public staging area for aspects of the transition that Mr. Trump most wants people to see. Potential cabinet appointees march across its buffed marble floors, past the cameras that stream the scene live to C-Span, and into the gold mirrored elevators. This week there were people like Gov. Mary Fallin of Oklahoma and Rick Perry, the former Texas governor, who disparaged Mr. Trump as <U+201C>a cancer on conservatism<U+201D> when they were battling for the Republican nomination. Mr. Trump and his staff have even devised a proper greeting protocol for arriving guests. As Mr. Perry made his way through the lobby on Monday, a young woman looped her arm around his and escorted him past the cameras. The same woman was also on hand over the weekend to accompany visiting guests when Mr. Trump moved the meetings to Bedminster. The golf club was even more of a display of munificence, with Mr. Trump turning to the cameras to embrace Mitt Romney, who just months ago condemned Mr. Trump as a <U+201C>phony<U+201D> and a <U+201C>fraud.<U+201D> He is now a leading candidate for secretary of state. There were more ethnically diverse potential cabinet candidates there, as well, like T. W. Shannon, the first African-American speaker of the Oklahoma House, and Michelle Rhee, a former schools chancellor in Washington, who is Asian-American. When Mr. Trump was done interviewing them, he would see them off outside and, once again, banter with the news media. <U+201C>Tremendous talent <U+2014> we<U+2019>re seeing tremendous talent,<U+201D> Mr. Trump said on Saturday . <U+201C>People that, as I say, we will <U+2018>make America great again.<U+2019> These are really great people. These are really, really talented people.<U+201D> As the cameras rolled during the weekend at Bedminster, temperatures dropped sharply, sending journalists into the gift shop, where the only cold-weather attire they could find was a winter hat with Trump embroidered on it. The market for anything stamped Trump has been bustling. At the gift kiosk on the lower level of Trump Tower <U+2014> between the Trump Ice Cream Parlor and the Trump Grill, with its $25 prix fixe lunch <U+2014> the line on Monday morning was about two dozen people deep. Cashiers were doing their civic diligence, asking anyone purchasing Trump campaign gear like the <U+201C>Make America Great Again<U+201D> hats ($25) whether they were American citizens. (Law prohibits foreigners from giving money to campaigns.) Marilyn Bryan, 70, of Terre Haute, Ind., was sitting at a table outside the kiosk with her daughter Trisha. In May, Ms. Bryan was at a Trump rally in her hometown when someone passed out next to her, knocked her down and broke her femur. That might have been enough Trump for anyone else. But she decided that as long as she was visiting New York this week, she might as well stop by the tower to take in the scene. <U+201C>What<U+2019>d we spend? $200?<U+201D> she asked her daughter. Inside her shopping bag were a hat, the golden Trump chocolate bars and some other Trump knickknacks she planned to give to her relatives. The chocolate, they were somewhat disappointed to learn, was actually made in Fort Wayne, Ind. Standing nearby were Paul and Lea Foster of Hidden Hills, Calif. After purchasing two hats and two T-shirts, Ms. Foster, 62, marveled at Mr. Trump<U+2019>s ability to cash in on his name. <U+201C>He<U+2019>s sure figured out how to make money,<U+201D> she said. Her husband nodded. <U+201C>He<U+2019>s a businessman, a promoter,<U+201D> said Mr. Foster, 81. <U+201C>Let<U+2019>s hope he knows how to run the country.<U+201D> Michael S. Schmidt contributed reporting. Get politics news updates via Facebook , Twitter and the Morning Briefing newsletter . A version of this article appears in print on November 23, 2016, on Page A17 of the New York edition with the headline: At Trump<U+2019>s Properties, a Showcase for a Brand and a President-Elect. Order Reprints | Today's Paper | Subscribe\n",
      "4995\n"
     ]
    }
   ],
   "source": [
    "train_df = data.text\n",
    "print(train_df[0])\n",
    "train_df = train_df.astype(str)\n",
    "print(train_df[0])\n",
    "print(len(data.text))"
   ]
  },
  {
   "cell_type": "code",
   "execution_count": 16,
   "metadata": {
    "colab": {
     "base_uri": "https://localhost:8080/",
     "height": 104
    },
    "colab_type": "code",
    "executionInfo": {
     "elapsed": 4633,
     "status": "ok",
     "timestamp": 1589349354907,
     "user": {
      "displayName": "Umesh Saraswat",
      "photoUrl": "https://lh3.googleusercontent.com/a-/AOh14GjYIq2q-RJY9TGYU0oihFsJ-KBX2UQxuLD6z10Y4w=s64",
      "userId": "10527726304653339617"
     },
     "user_tz": -330
    },
    "id": "IFxXmVwQnTRn",
    "outputId": "a4475b7b-1cef-4feb-ad33-1edad10845b6"
   },
   "outputs": [
    {
     "name": "stderr",
     "output_type": "stream",
     "text": [
      "  2%|▏         | 119/4995 [00:00<00:04, 1187.41it/s]"
     ]
    },
    {
     "name": "stdout",
     "output_type": "stream",
     "text": [
      "Processing text dataset\n"
     ]
    },
    {
     "name": "stderr",
     "output_type": "stream",
     "text": [
      "100%|██████████| 4995/4995 [00:03<00:00, 1586.84it/s]"
     ]
    },
    {
     "name": "stdout",
     "output_type": "stream",
     "text": [
      "['they', 'stood', 'in', 'line', 'at', 'trump', 'tower', ',', 'sometimes', 'up', 'to', 'half', 'an', 'hour', ',', 'handing', 'over', 'their', 'cash', 'for', 'mementos', 'of', 'the', 'president', '-', 'elect', ':', 'mini', ',', 'gold', '-', 'wrapped', 'chocolate', 'bricks', 'stamped', '<', 'u', '+', '201c', '>', 'trump', '.<', 'u', '+', '201d', '>', 'trump', 'monogrammed', 'sweaters', ',', 'towels', 'and', 'glassware', '.', 'trump', 'cologne', '.', '<', 'u', '+', '201c', '>', 'i', 'bought', 'it', 'for', 'my', 'two', 'sons', ',<', 'u', '+', '201d', '>', 'said', 'shanon', 'loggins', ',', '47', ',', 'of', 'lufkin', ',', 'tex', '.,', 'showing', 'off', 'a', 'golden', 'shopping', 'bag', 'embossed', 'with', 'the', 'trump', 'crest', 'that', 'carried', 'two', 'bottles', 'of', 'success', 'by', 'trump', ',', 'a', 'fragrance', 'for', 'men', '.', '<', 'u', '+', '201c', '>', 'they', 'need', 'to', 'be', 'successful', ',<', 'u', '+', '201d', '>', 'she', 'explained', '.', 'business', 'is', 'good', 'for', 'donald', 'j', '.', 'trump', '.', 'people', 'are', 'flocking', 'to', 'his', 'midtown', 'manhattan', 'skyscraper', ',', 'dining', 'in', 'his', 'restaurants', 'and', 'buying', 'his', 'wares', '.', 'reporters', 'are', 'fastidiously', 'chronicling', 'the', 'comings', 'and', 'goings', 'of', 'his', 'transition', 'team', ',', 'his', 'self', '-', 'branded', 'properties', 'providing', 'the', 'backdrop', 'for', 'television', 'live', 'shots', '.', 'mr', '.', 'trump', 'has', 'taken', 'the', 'staid', 'task', 'of', 'preparing', 'to', 'assume', 'the', 'presidency', 'and', 'turned', 'it', 'into', 'an', 'exercise', 'in', 'conspicuous', 'self', '-', 'promotion', 'and', 'carefully', 'choreographed', 'branding', '.', 'but', 'as', 'the', 'president', '-', 'elect', 'makes', 'use', 'of', 'his', 'vast', 'real', 'estate', 'holdings', ',', 'he', 'is', 'also', 'raising', 'questions', 'about', 'whether', 'he', 'is', 'exploiting', 'the', 'high', 'profile', 'and', 'stature', 'of', 'the', 'office', 'to', 'conduct', 'what', 'could', 'be', 'seen', 'as', 'a', 'promotional', 'tour', 'for', 'the', 'trump', 'organization', '.', 'the', 'venues', 'he', 'has', 'picked', 'to', 'conduct', 'his', 'official', 'transition', 'planning', 'attest', 'to', 'his', 'success', 'as', 'a', 'real', 'estate', 'developer', ':', 'trump', 'tower', ',', 'the', 'manhattan', 'skyscraper', 'where', 'he', 'lives', 'and', 'works', 'amid', 'trump', '-', 'themed', 'eateries', 'and', 'boutiques', ';', 'mar', '-', 'a', '-', 'lago', ',', 'the', 'upscale', ',', 'private', 'palm', 'beach', ',', 'fla', '.,', 'club', 'where', 'he', 'has', 'chosen', 'to', 'hold', 'meetings', 'over', 'thanksgiving', ';', 'and', 'the', 'trump', 'national', 'golf', 'club', 'in', 'bedminster', ',', 'n', '.', 'j', '.', 'mr', '.', 'trump', 'especially', 'liked', 'the', 'bedminster', 'setting', ',', 'he', 'told', 'his', 'aides', ',', 'because', 'the', 'images', 'of', 'him', 'receiving', 'potential', 'cabinet', 'appointees', 'at', 'the', 'front', 'door', 'of', 'the', 'clubhouse', 'resembled', '10', 'downing', 'street', 'in', 'london', '.', 'in', 'planning', 'future', 'transition', 'meetings', ',', 'mr', '.', 'trump', 'and', 'his', 'team', 'are', 'considering', 'other', 'properties', 'of', 'his', 'that', 'might', 'fit', 'his', 'desire', 'for', 'rich', ',', 'regal', 'symbolism', '.', '<', 'u', '+', '201c', '>', 'it', 'stinks', ',<', 'u', '+', '201d', '>', 'said', 'norman', 'eisen', ',', 'who', 'was', 'the', 'chief', 'white', 'house', 'ethics', 'lawyer', 'for', 'president', 'obama', 'from', '2009', 'to', '2011', '.', 'because', 'there', 'is', 'no', 'specific', 'law', 'prohibiting', 'public', 'officeholders', 'from', 'financially', 'beneficial', 'self', '-', 'promotion', ',', 'what', 'mr', '.', 'trump', 'is', 'doing', 'is', 'probably', 'not', 'illegal', ',', 'mr', '.', 'eisen', 'added', '.', '<', 'u', '+', '201c', '>', 'but', 'that', 'doesn', '<', 'u', '+', '2019', '>', 't', 'make', 'it', 'right', ',<', 'u', '+', '201d', '>', 'he', 'said', '.', '<', 'u', '+', '201c', '>', 'it', '<', 'u', '+', '2019', '>', 's', 'part', 'and', 'parcel', 'of', 'the', 'unsavory', 'marketing', 'of', 'his', 'brands', 'that', 'he', 'also', 'did', 'during', 'the', 'campaign', '.<', 'u', '+', '201d', '>', 'unsavory', 'or', 'not', ',', 'it', 'is', 'all', 'part', 'of', 'the', 'stagecraft', 'and', 'spectacle', 'that', 'mr', '.', 'trump', 'has', 'directed', 'from', 'his', '26th', '-', 'floor', 'office', 'in', 'trump', 'tower', '<', 'u', '+', '2014', '>', 'all', 'of', 'which', 'is', 'being', 'ravenously', 'consumed', 'by', 'the', 'news', 'media', 'and', 'his', 'loyal', 'followers', '.', 'most', 'days', 'since', 'mr', '.', 'trump', 'became', 'the', 'president', '-', 'elect', ',', 'the', 'lobby', 'of', 'trump', 'tower', 'has', 'been', 'a', 'public', 'staging', 'area', 'for', 'aspects', 'of', 'the', 'transition', 'that', 'mr', '.', 'trump', 'most', 'wants', 'people', 'to', 'see', '.', 'potential', 'cabinet', 'appointees', 'march', 'across', 'its', 'buffed', 'marble', 'floors', ',', 'past', 'the', 'cameras', 'that', 'stream', 'the', 'scene', 'live', 'to', 'c', '-', 'span', ',', 'and', 'into', 'the', 'gold', 'mirrored', 'elevators', '.', 'this', 'week', 'there', 'were', 'people', 'like', 'gov', '.', 'mary', 'fallin', 'of', 'oklahoma', 'and', 'rick', 'perry', ',', 'the', 'former', 'texas', 'governor', ',', 'who', 'disparaged', 'mr', '.', 'trump', 'as', '<', 'u', '+', '201c', '>', 'a', 'cancer', 'on', 'conservatism', '<', 'u', '+', '201d', '>', 'when', 'they', 'were', 'battling', 'for', 'the', 'republican', 'nomination', '.', 'mr', '.', 'trump', 'and', 'his', 'staff', 'have', 'even', 'devised', 'a', 'proper', 'greeting', 'protocol', 'for', 'arriving', 'guests', '.', 'as', 'mr', '.', 'perry', 'made', 'his', 'way', 'through', 'the', 'lobby', 'on', 'monday', ',', 'a', 'young', 'woman', 'looped', 'her', 'arm', 'around', 'his', 'and', 'escorted', 'him', 'past', 'the', 'cameras', '.', 'the', 'same', 'woman', 'was', 'also', 'on', 'hand', 'over', 'the', 'weekend', 'to', 'accompany', 'visiting', 'guests', 'when', 'mr', '.', 'trump', 'moved', 'the', 'meetings', 'to', 'bedminster', '.', 'the', 'golf', 'club', 'was', 'even', 'more', 'of', 'a', 'display', 'of', 'munificence', ',', 'with', 'mr', '.', 'trump', 'turning', 'to', 'the', 'cameras', 'to', 'embrace', 'mitt', 'romney', ',', 'who', 'just', 'months', 'ago', 'condemned', 'mr', '.', 'trump', 'as', 'a', '<', 'u', '+', '201c', '>', 'phony', '<', 'u', '+', '201d', '>', 'and', 'a', '<', 'u', '+', '201c', '>', 'fraud', '.<', 'u', '+', '201d', '>', 'he', 'is', 'now', 'a', 'leading', 'candidate', 'for', 'secretary', 'of', 'state', '.', 'there', 'were', 'more', 'ethnically', 'diverse', 'potential', 'cabinet', 'candidates', 'there', ',', 'as', 'well', ',', 'like', 't', '.', 'w', '.', 'shannon', ',', 'the', 'first', 'african', '-', 'american', 'speaker', 'of', 'the', 'oklahoma', 'house', ',', 'and', 'michelle', 'rhee', ',', 'a', 'former', 'schools', 'chancellor', 'in', 'washington', ',', 'who', 'is', 'asian', '-', 'american', '.', 'when', 'mr', '.', 'trump', 'was', 'done', 'interviewing', 'them', ',', 'he', 'would', 'see', 'them', 'off', 'outside', 'and', ',', 'once', 'again', ',', 'banter', 'with', 'the', 'news', 'media', '.', '<', 'u', '+', '201c', '>', 'tremendous', 'talent', '<', 'u', '+', '2014', '>', 'we', '<', 'u', '+', '2019', '>', 're', 'seeing', 'tremendous', 'talent', ',<', 'u', '+', '201d', '>', 'mr', '.', 'trump', 'said', 'on', 'saturday', '.', '<', 'u', '+', '201c', '>', 'people', 'that', ',', 'as', 'i', 'say', ',', 'we', 'will', '<', 'u', '+', '2018', '>', 'make', 'america', 'great', 'again', '.<', 'u', '+', '2019', '>', 'these', 'are', 'really', 'great', 'people', '.', 'these', 'are', 'really', ',', 'really', 'talented', 'people', '.<', 'u', '+', '201d', '>', 'as', 'the', 'cameras', 'rolled', 'during', 'the', 'weekend', 'at', 'bedminster', ',', 'temperatures', 'dropped', 'sharply', ',', 'sending', 'journalists', 'into', 'the', 'gift', 'shop', ',', 'where', 'the', 'only', 'cold', '-', 'weather', 'attire', 'they', 'could', 'find', 'was', 'a', 'winter', 'hat', 'with', 'trump', 'embroidered', 'on', 'it', '.', 'the', 'market', 'for', 'anything', 'stamped', 'trump', 'has', 'been', 'bustling', '.', 'at', 'the', 'gift', 'kiosk', 'on', 'the', 'lower', 'level', 'of', 'trump', 'tower', '<', 'u', '+', '2014', '>', 'between', 'the', 'trump', 'ice', 'cream', 'parlor', 'and', 'the', 'trump', 'grill', ',', 'with', 'its', '$', '25', 'prix', 'fixe', 'lunch', '<', 'u', '+', '2014', '>', 'the', 'line', 'on', 'monday', 'morning', 'was', 'about', 'two', 'dozen', 'people', 'deep', '.', 'cashiers', 'were', 'doing', 'their', 'civic', 'diligence', ',', 'asking', 'anyone', 'purchasing', 'trump', 'campaign', 'gear', 'like', 'the', '<', 'u', '+', '201c', '>', 'make', 'america', 'great', 'again', '<', 'u', '+', '201d', '>', 'hats', '($', '25', ')', 'whether', 'they', 'were', 'american', 'citizens', '.', '(', 'law', 'prohibits', 'foreigners', 'from', 'giving', 'money', 'to', 'campaigns', '.)', 'marilyn', 'bryan', ',', '70', ',', 'of', 'terre', 'haute', ',', 'ind', '.,', 'was', 'sitting', 'at', 'a', 'table', 'outside', 'the', 'kiosk', 'with', 'her', 'daughter', 'trisha', '.', 'in', 'may', ',', 'ms', '.', 'bryan', 'was', 'at', 'a', 'trump', 'rally', 'in', 'her', 'hometown', 'when', 'someone', 'passed', 'out', 'next', 'to', 'her', ',', 'knocked', 'her', 'down', 'and', 'broke', 'her', 'femur', '.', 'that', 'might', 'have', 'been', 'enough', 'trump', 'for', 'anyone', 'else', '.', 'but', 'she', 'decided', 'that', 'as', 'long', 'as', 'she', 'was', 'visiting', 'new', 'york', 'this', 'week', ',', 'she', 'might', 'as', 'well', 'stop', 'by', 'the', 'tower', 'to', 'take', 'in', 'the', 'scene', '.', '<', 'u', '+', '201c', '>', 'what', '<', 'u', '+', '2019', '>', 'd', 'we', 'spend', '?', '$', '200', '?<', 'u', '+', '201d', '>', 'she', 'asked', 'her', 'daughter', '.', 'inside', 'her', 'shopping', 'bag', 'were', 'a', 'hat', ',', 'the', 'golden', 'trump', 'chocolate', 'bars', 'and', 'some', 'other', 'trump', 'knickknacks', 'she', 'planned', 'to', 'give', 'to', 'her', 'relatives', '.', 'the', 'chocolate', ',', 'they', 'were', 'somewhat', 'disappointed', 'to', 'learn', ',', 'was', 'actually', 'made', 'in', 'fort', 'wayne', ',', 'ind', '.', 'standing', 'nearby', 'were', 'paul', 'and', 'lea', 'foster', 'of', 'hidden', 'hills', ',', 'calif', '.', 'after', 'purchasing', 'two', 'hats', 'and', 'two', 't', '-', 'shirts', ',', 'ms', '.', 'foster', ',', '62', ',', 'marveled', 'at', 'mr', '.', 'trump', '<', 'u', '+', '2019', '>', 's', 'ability', 'to', 'cash', 'in', 'on', 'his', 'name', '.', '<', 'u', '+', '201c', '>', 'he', '<', 'u', '+', '2019', '>', 's', 'sure', 'figured', 'out', 'how', 'to', 'make', 'money', ',<', 'u', '+', '201d', '>', 'she', 'said', '.', 'her', 'husband', 'nodded', '.', '<', 'u', '+', '201c', '>', 'he', '<', 'u', '+', '2019', '>', 's', 'a', 'businessman', ',', 'a', 'promoter', ',<', 'u', '+', '201d', '>', 'said', 'mr', '.', 'foster', ',', '81', '.', '<', 'u', '+', '201c', '>', 'let', '<', 'u', '+', '2019', '>', 's', 'hope', 'he', 'knows', 'how', 'to', 'run', 'the', 'country', '.<', 'u', '+', '201d', '>', 'michael', 's', '.', 'schmidt', 'contributed', 'reporting', '.', 'get', 'politics', 'news', 'updates', 'via', 'facebook', ',', 'twitter', 'and', 'the', 'morning', 'briefing', 'newsletter', '.', 'a', 'version', 'of', 'this', 'article', 'appears', 'in', 'print', 'on', 'november', '23', ',', '2016', ',', 'on', 'page', 'a17', 'of', 'the', 'new', 'york', 'edition', 'with', 'the', 'headline', ':', 'at', 'trump', '<', 'u', '+', '2019', '>', 's', 'properties', ',', 'a', 'showcase', 'for', 'a', 'brand', 'and', 'a', 'president', '-', 'elect', '.', 'order', 'reprints', '|', 'today', \"'\", 's', 'paper', '|', 'subscribe']\n"
     ]
    },
    {
     "name": "stderr",
     "output_type": "stream",
     "text": [
      "\n"
     ]
    }
   ],
   "source": [
    "#############################################################################################      Reading and preprocessing Text       ##################################################################################\n",
    "# import warnings\n",
    "# warnings.filterwarnings(\"ignore\")                     #Ignoring unnecessory warnings\n",
    "\n",
    "import numpy as np                                  \n",
    "import pandas as pd                                 \n",
    "import nltk       \n",
    "import gensim                                  \n",
    "\n",
    "from nltk.corpus import stopwords                   #Stopwords corpus\n",
    "from nltk.stem import PorterStemmer                 # Stemmer\n",
    "\n",
    "from sklearn.feature_extraction.text import CountVectorizer          #For Bag of words\n",
    "from sklearn.feature_extraction.text import TfidfVectorizer          #For TF-IDF\n",
    "\n",
    "from gensim.models import Word2Vec                                   #For Word2Vec\n",
    "\n",
    "X_text = data.text\n",
    "\n",
    "#X1,X2,Y1,Y2 = train_test_split(X_text,y_text,test_size=0.30)\n",
    "X_text = X_text.astype(str)\n",
    "\n",
    "########################################\n",
    "## process texts in datasets\n",
    "########################################\n",
    "print('Processing text dataset')\n",
    "from nltk.tokenize import WordPunctTokenizer\n",
    "from collections import Counter\n",
    "from string import punctuation, ascii_lowercase\n",
    "import regex as re\n",
    "from tqdm import tqdm\n",
    "\n",
    "# replace urls\n",
    "re_url = re.compile(r\"((http|https)\\:\\/\\/)?[a-zA-Z0-9\\.\\/\\?\\:@\\-_=#]+\\\n",
    "                    .([a-zA-Z]){2,6}([a-zA-Z0-9\\.\\&\\/\\?\\:@\\-_=#])*\",\n",
    "                    re.MULTILINE|re.UNICODE)\n",
    "# replace ips\n",
    "re_ip = re.compile(\"\\d{1,3}\\.\\d{1,3}\\.\\d{1,3}\\.\\d{1,3}\")\n",
    "\n",
    "# setup tokenizer\n",
    "tokenizer = WordPunctTokenizer()\n",
    "\n",
    "vocab = Counter()\n",
    "\n",
    "def text_to_wordlist(text, lower=False):\n",
    "    # replace URLs\n",
    "    text = re_url.sub(\"URL\", text)\n",
    "    \n",
    "    # replace IPs\n",
    "    text = re_ip.sub(\"IPADDRESS\", text)\n",
    "    \n",
    "    # Tokenize\n",
    "    text = tokenizer.tokenize(text)\n",
    "    \n",
    "    # optional: lower case\n",
    "    if lower:\n",
    "        text = [t.lower() for t in text]\n",
    "    \n",
    "    # Return a list of words\n",
    "    vocab.update(text)\n",
    "    return text\n",
    "\n",
    "def process_comments(list_sentences, lower=False):\n",
    "    comments = []\n",
    "    for text in tqdm(list_sentences):\n",
    "        txt = text_to_wordlist(text, lower=lower)\n",
    "        comments.append(txt)\n",
    "    return comments\n",
    "\n",
    "                \n",
    "comments_text = process_comments(X_text, lower=True)\n",
    "\n",
    "print(comments_text[0])"
   ]
  },
  {
   "cell_type": "code",
   "execution_count": 17,
   "metadata": {
    "colab": {
     "base_uri": "https://localhost:8080/",
     "height": 288
    },
    "colab_type": "code",
    "executionInfo": {
     "elapsed": 442049,
     "status": "ok",
     "timestamp": 1589349809800,
     "user": {
      "displayName": "Umesh Saraswat",
      "photoUrl": "https://lh3.googleusercontent.com/a-/AOh14GjYIq2q-RJY9TGYU0oihFsJ-KBX2UQxuLD6z10Y4w=s64",
      "userId": "10527726304653339617"
     },
     "user_tz": -330
    },
    "id": "vtr-8Z4auZny",
    "outputId": "2edffb78-61fe-4227-f84b-98363b94abe0"
   },
   "outputs": [
    {
     "name": "stderr",
     "output_type": "stream",
     "text": [
      "  0%|          | 1/4995 [00:00<09:56,  8.37it/s]"
     ]
    },
    {
     "name": "stdout",
     "output_type": "stream",
     "text": [
      "[nltk_data] Downloading package stopwords to /root/nltk_data...\n",
      "[nltk_data]   Unzipping corpora/stopwords.zip.\n",
      "{'a', 'ain', 're', 'y', \"hasn't\", 'we', 'yours', 'through', 'can', 'again', 'off', 'during', 'about', 'do', 'couldn', 'shouldn', 'when', 'until', 'their', 'doing', 'hasn', \"needn't\", 'its', 'did', \"aren't\", 'ma', 'for', 'up', 'all', \"mightn't\", 'nor', 'her', \"shan't\", 'has', 'me', 'there', 'mightn', 'doesn', 'our', 'i', 'them', \"doesn't\", 'shan', 'herself', 'those', 'as', 'who', 'ourselves', 'an', 'same', \"shouldn't\", 'here', 'the', 'are', \"it's\", 'to', 'now', 'that', 've', 'between', 'was', 'he', 'have', \"weren't\", 'being', 's', 'yourself', 'm', 'most', \"wouldn't\", 'not', 'what', 'd', 'whom', 'these', 'o', 'out', 'himself', \"you'll\", 'be', 'each', 'll', 'my', 'more', 'very', 'does', 'wasn', 'at', 'hadn', 'you', 'weren', 'any', 'hers', 'theirs', \"haven't\", 'it', 'before', 'didn', 'other', 'will', \"isn't\", 'too', 'and', 'wouldn', 'am', 'been', 'why', 'or', 'then', 'him', 'above', 'only', 'isn', 'own', 'where', \"wasn't\", 'haven', 'how', \"you've\", 'while', 'themselves', 'just', \"hadn't\", \"you're\", 'by', 'some', 'so', 'ours', \"won't\", 'in', 'they', 'with', 'your', 'were', 'mustn', 'under', \"don't\", \"she's\", 'his', 'she', 'if', \"didn't\", 't', 'after', 'into', 'from', 'because', 'further', \"should've\", 'but', 'this', 'aren', 'over', 'than', 'itself', 'few', 'don', 'is', 'had', 'no', \"couldn't\", 'should', 'down', 'once', 'such', 'having', 'of', 'which', \"that'll\", 'won', 'yourselves', \"mustn't\", 'needn', 'myself', 'both', 'against', 'on', 'below', \"you'd\"}\n",
      "4995\n",
      "(4995,)\n",
      "0    They stood in line at Trump Tower, sometimes u...\n",
      "1    Donald J. Trump <U+2019>s foundation informed ...\n",
      "2    President-elect Donald J. Trump won the White ...\n",
      "3    An investment pitch for a new Texas hotel is t...\n",
      "4    President-elect Donald J. Trump <U+2019>s wife...\n",
      "Name: text, dtype: object\n",
      "<class 'pandas.core.series.Series'>\n"
     ]
    },
    {
     "name": "stderr",
     "output_type": "stream",
     "text": [
      "100%|██████████| 4995/4995 [07:20<00:00, 11.34it/s]"
     ]
    },
    {
     "name": "stdout",
     "output_type": "stream",
     "text": [
      "['stood', 'line', 'trump', 'tower', 'sometim', 'half', 'hour', 'hand', 'cash', 'memento', 'president-elect:', 'mini', 'gold-wrap', 'chocol', 'brick', 'stamp', 'trump', 'trump', 'monogram', 'sweater', 'towel', 'glasswar', 'trump', 'cologn', 'bought', 'two', 'son', 'said', 'shanon', 'loggin', '47', 'lufkin', 'tex', 'show', 'golden', 'shop', 'bag', 'emboss', 'trump', 'crest', 'carri', 'two', 'bottl', 'success', 'trump', 'fragranc', 'men', 'need', 'success', 'explain', 'busi', 'good', 'donald', 'j', 'trump', 'peopl', 'flock', 'midtown', 'manhattan', 'skyscrap', 'dine', 'restaur', 'buy', 'ware', 'report', 'fastidi', 'chronicl', 'come', 'go', 'transit', 'team', 'self-brand', 'properti', 'provid', 'backdrop', 'televis', 'live', 'shot', 'mr', 'trump', 'taken', 'staid', 'task', 'prepar', 'assum', 'presid', 'turn', 'exercis', 'conspicu', 'self-promot', 'care', 'choreograph', 'brand', 'president-elect', 'make', 'use', 'vast', 'real', 'estat', 'hold', 'also', 'rais', 'question', 'whether', 'exploit', 'high', 'profil', 'statur', 'offic', 'conduct', 'could', 'seen', 'promot', 'tour', 'trump', 'organ', 'venu', 'pick', 'conduct', 'offici', 'transit', 'plan', 'attest', 'success', 'real', 'estat', 'developer:', 'trump', 'tower', 'manhattan', 'skyscrap', 'live', 'work', 'amid', 'trump-them', 'eateri', 'boutiques;', 'mar-a-lago', 'upscal', 'privat', 'palm', 'beach', 'fla', 'club', 'chosen', 'hold', 'meet', 'thanksgiving;', 'trump', 'nation', 'golf', 'club', 'bedminst', 'n', 'j', 'mr', 'trump', 'especi', 'like', 'bedminst', 'set', 'told', 'aid', 'imag', 'receiv', 'potenti', 'cabinet', 'appointe', 'front', 'door', 'clubhous', 'resembl', '10', 'down', 'street', 'london', 'plan', 'futur', 'transit', 'meet', 'mr', 'trump', 'team', 'consid', 'properti', 'might', 'fit', 'desir', 'rich', 'regal', 'symbol', 'stink', 'said', 'norman', 'eisen', 'chief', 'white', 'hous', 'ethic', 'lawyer', 'presid', 'obama', '2009', '2011', 'specif', 'law', 'prohibit', 'public', 'officehold', 'financi', 'benefici', 'self-promot', 'mr', 'trump', 'probabl', 'illeg', 'mr', 'eisen', 'ad', 'make', 'right', 'said', 'part', 'parcel', 'unsavori', 'market', 'brand', 'also', 'campaign', 'unsavori', 'part', 'stagecraft', 'spectacl', 'mr', 'trump', 'direct', '26th-floor', 'offic', 'trump', 'tower', 'raven', 'consum', 'news', 'media', 'loyal', 'follow', 'day', 'sinc', 'mr', 'trump', 'becam', 'president-elect', 'lobbi', 'trump', 'tower', 'public', 'stage', 'area', 'aspect', 'transit', 'mr', 'trump', 'want', 'peopl', 'see', 'potenti', 'cabinet', 'appointe', 'march', 'across', 'buf', 'marbl', 'floor', 'past', 'camera', 'stream', 'scene', 'live', 'c-span', 'gold', 'mirror', 'elev', 'week', 'peopl', 'like', 'gov', 'mari', 'fallin', 'oklahoma', 'rick', 'perri', 'former', 'texa', 'governor', 'disparag', 'mr', 'trump', 'cancer', 'conservat', 'battl', 'republican', 'nomin', 'mr', 'trump', 'staff', 'even', 'devis', 'proper', 'greet', 'protocol', 'arriv', 'guest', 'mr', 'perri', 'made', 'way', 'lobbi', 'monday', 'young', 'woman', 'loop', 'arm', 'around', 'escort', 'past', 'camera', 'woman', 'also', 'hand', 'weekend', 'accompani', 'visit', 'guest', 'mr', 'trump', 'move', 'meet', 'bedminst', 'golf', 'club', 'even', 'display', 'munific', 'mr', 'trump', 'turn', 'camera', 'embrac', 'mitt', 'romney', 'month', 'ago', 'condemn', 'mr', 'trump', 'phoni', 'fraud', 'lead', 'candid', 'secretari', 'state', 'ethnic', 'divers', 'potenti', 'cabinet', 'candid', 'well', 'like', 'w', 'shannon', 'first', 'african-american', 'speaker', 'oklahoma', 'hous', 'michell', 'rhee', 'former', 'school', 'chancellor', 'washington', 'asian-american', 'mr', 'trump', 'done', 'interview', 'would', 'see', 'outsid', 'banter', 'news', 'media', 'tremend', 'talent', 'see', 'tremend', 'talent', 'mr', 'trump', 'said', 'saturday', 'peopl', 'say', 'make', 'america', 'great', 'realli', 'great', 'peopl', 'realli', 'realli', 'talent', 'peopl', 'camera', 'roll', 'weekend', 'bedminst', 'temperatur', 'drop', 'sharpli', 'send', 'journalist', 'gift', 'shop', 'cold-weath', 'attir', 'could', 'find', 'winter', 'hat', 'trump', 'embroid', 'market', 'anyth', 'stamp', 'trump', 'bustl', 'gift', 'kiosk', 'lower', 'level', 'trump', 'tower', 'trump', 'ice', 'cream', 'parlor', 'trump', 'grill', '$25', 'prix', 'fix', 'lunch', 'line', 'monday', 'morn', 'two', 'dozen', 'peopl', 'deep', 'cashier', 'civic', 'dilig', 'ask', 'anyon', 'purchas', 'trump', 'campaign', 'gear', 'like', 'make', 'america', 'great', 'hat', '$25', 'whether', 'american', 'citizen', 'law', 'prohibit', 'foreign', 'give', 'money', 'campaign', 'marilyn', 'bryan', '70', 'terr', 'haut', 'ind', 'sit', 'tabl', 'outsid', 'kiosk', 'daughter', 'trisha', 'may', 'ms', 'bryan', 'trump', 'ralli', 'hometown', 'someon', 'pass', 'next', 'knock', 'broke', 'femur', 'might', 'enough', 'trump', 'anyon', 'els', 'decid', 'long', 'visit', 'new', 'york', 'week', 'might', 'well', 'stop', 'tower', 'take', 'scene', 'spend', '$200', 'ask', 'daughter', 'insid', 'shop', 'bag', 'hat', 'golden', 'trump', 'chocol', 'bar', 'trump', 'knickknack', 'plan', 'give', 'relat', 'chocol', 'somewhat', 'disappoint', 'learn', 'actual', 'made', 'fort', 'wayn', 'ind', 'stand', 'nearbi', 'paul', 'lea', 'foster', 'hidden', 'hill', 'calif', 'purchas', 'two', 'hat', 'two', 't-shirt', 'ms', 'foster', '62', 'marvel', 'mr', 'trump', 'abil', 'cash', 'name', 'sure', 'figur', 'make', 'money', 'said', 'husband', 'nod', 'businessman', 'promot', 'said', 'mr', 'foster', '81', 'let', 'hope', 'know', 'run', 'countri', 'michael', 'schmidt', 'contribut', 'report', 'get', 'polit', 'news', 'updat', 'via', 'facebook', 'twitter', 'morn', 'brief', 'newslett', 'version', 'articl', 'appear', 'print', 'novemb', '23', '2016', 'page', 'a17', 'new', 'york', 'edit', 'headline:', 'trump', 'properti', 'showcas', 'brand', 'president-elect', 'order', 'reprint', 'today', 'paper', 'subscrib']\n"
     ]
    },
    {
     "name": "stderr",
     "output_type": "stream",
     "text": [
      "\n"
     ]
    }
   ],
   "source": [
    "################################################     1.  Remove stopwords         ######################################################\n",
    "nltk.download(\"stopwords\")\n",
    "stop = set(stopwords.words('english')) \n",
    "print(stop)\n",
    "print(len(X_text))\n",
    "print(X_text.shape)\n",
    "print(X_text.head())\n",
    "print(type(X_text))\n",
    "\n",
    "X_text_copy = X_text\n",
    "\n",
    "import re               \n",
    "temp =[]\n",
    "snow = nltk.stem.SnowballStemmer('english')\n",
    "for sentence in tqdm(X_text_copy):\n",
    "    sentence = sentence.lower()                 # Converting to lowercase\n",
    "    cleanr = re.compile('<.*?>')\n",
    "    sentence = re.sub(cleanr, ' ', sentence)        #Removing HTML tags\n",
    "    sentence = re.sub(r'[?|!|\\'|\"|#]',r'',sentence)\n",
    "    sentence = re.sub(r'[.|,|)|(|\\|/]',r' ',sentence)        #Removing Punctuations\n",
    "    \n",
    "    words = [snow.stem(word) for word in sentence.split() if word not in stopwords.words('english')]   # Stemming and removing stopwords\n",
    "    temp.append(words)\n",
    "    \n",
    "X_text_copy = temp    \n",
    "\n",
    "print(X_text_copy[0])\n",
    "\n",
    "# sent = []\n",
    "# for row in X_text:\n",
    "#     sequ = ''\n",
    "#     for word in row:\n",
    "#         sequ = sequ + ' ' + word\n",
    "#     sent.append(sequ)\n",
    "\n",
    "# X_text = sent\n",
    "\n",
    "# print(X_text[0])"
   ]
  },
  {
   "cell_type": "code",
   "execution_count": 18,
   "metadata": {
    "colab": {
     "base_uri": "https://localhost:8080/",
     "height": 134
    },
    "colab_type": "code",
    "executionInfo": {
     "elapsed": 3280,
     "status": "ok",
     "timestamp": 1589349976337,
     "user": {
      "displayName": "Umesh Saraswat",
      "photoUrl": "https://lh3.googleusercontent.com/a-/AOh14GjYIq2q-RJY9TGYU0oihFsJ-KBX2UQxuLD6z10Y4w=s64",
      "userId": "10527726304653339617"
     },
     "user_tz": -330
    },
    "id": "kj7jeIb6GT8_",
    "outputId": "1c96307c-25cf-4289-8b31-de837f915912"
   },
   "outputs": [
    {
     "name": "stdout",
     "output_type": "stream",
     "text": [
      "4995\n",
      "4995\n",
      "(4995,)\n",
      "(4995,)\n",
      "1513\n",
      "628\n",
      "The vocabulary contains 74416 unique tokens\n"
     ]
    }
   ],
   "source": [
    "print(len(comments_text))\n",
    "print(len(X_text_copy))\n",
    "print(np.array(comments_text).shape)\n",
    "print(np.array(X_text_copy).shape)\n",
    "print(len(comments_text[0]))\n",
    "print(len(X_text_copy[0]))\n",
    "\n",
    "print(\"The vocabulary contains {} unique tokens\".format(len(vocab)))"
   ]
  },
  {
   "cell_type": "code",
   "execution_count": 19,
   "metadata": {
    "colab": {
     "base_uri": "https://localhost:8080/",
     "height": 201
    },
    "colab_type": "code",
    "executionInfo": {
     "elapsed": 27999,
     "status": "ok",
     "timestamp": 1589350024347,
     "user": {
      "displayName": "Umesh Saraswat",
      "photoUrl": "https://lh3.googleusercontent.com/a-/AOh14GjYIq2q-RJY9TGYU0oihFsJ-KBX2UQxuLD6z10Y4w=s64",
      "userId": "10527726304653339617"
     },
     "user_tz": -330
    },
    "id": "mbnyEFCXEgTX",
    "outputId": "f610ace7-fad4-40a8-d612-7f21350c30c8"
   },
   "outputs": [
    {
     "name": "stdout",
     "output_type": "stream",
     "text": [
      "Number of word vectors: 26086\n"
     ]
    },
    {
     "data": {
      "text/plain": [
       "[('richard', 0.9308004975318909),\n",
       " ('william', 0.9300808310508728),\n",
       " ('smith', 0.9259020686149597),\n",
       " ('sarah', 0.9257254600524902),\n",
       " ('tom', 0.922244131565094),\n",
       " ('scott', 0.9174560904502869),\n",
       " ('jackson', 0.9162620306015015),\n",
       " ('jon', 0.9144595861434937),\n",
       " ('henry', 0.9139717817306519),\n",
       " ('queen', 0.9125683307647705)]"
      ]
     },
     "execution_count": 19,
     "metadata": {
      "tags": []
     },
     "output_type": "execute_result"
    }
   ],
   "source": [
    "############################################     2.   Preparing Word vectors from Word2vec      #################################################\n",
    "comments_backup = comments_text\n",
    "comments_text = X_text_copy\n",
    "\n",
    "import gensim\n",
    "from gensim.models import Word2Vec\n",
    "model_text = Word2Vec(comments_backup, size=100, window=5, min_count=5, workers=16, sg=0, negative=5)\n",
    "word_vectors = model_text.wv\n",
    "print(\"Number of word vectors: {}\".format(len(word_vectors.vocab)))         ##\n",
    "\n",
    "model_text.wv.most_similar_cosmul(positive=['woman', 'king'], negative=['man'])   #### Example"
   ]
  },
  {
   "cell_type": "code",
   "execution_count": 20,
   "metadata": {
    "colab": {
     "base_uri": "https://localhost:8080/",
     "height": 53
    },
    "colab_type": "code",
    "executionInfo": {
     "elapsed": 1318,
     "status": "ok",
     "timestamp": 1589350052962,
     "user": {
      "displayName": "Umesh Saraswat",
      "photoUrl": "https://lh3.googleusercontent.com/a-/AOh14GjYIq2q-RJY9TGYU0oihFsJ-KBX2UQxuLD6z10Y4w=s64",
      "userId": "10527726304653339617"
     },
     "user_tz": -330
    },
    "id": "y9LqXp2oH7ww",
    "outputId": "68c3741e-9a8a-430b-de4e-176140dd1a31"
   },
   "outputs": [
    {
     "name": "stdout",
     "output_type": "stream",
     "text": [
      "['they', 'stood', 'in', 'line', 'at', 'trump', 'tower', ',', 'sometimes', 'up', 'to', 'half', 'an', 'hour', ',', 'handing', 'over', 'their', 'cash', 'for', 'mementos', 'of', 'the', 'president', '-', 'elect', ':', 'mini', ',', 'gold', '-', 'wrapped', 'chocolate', 'bricks', 'stamped', '<', 'u', '+', '201c', '>', 'trump', '.<', 'u', '+', '201d', '>', 'trump', 'monogrammed', 'sweaters', ',', 'towels', 'and', 'glassware', '.', 'trump', 'cologne', '.', '<', 'u', '+', '201c', '>', 'i', 'bought', 'it', 'for', 'my', 'two', 'sons', ',<', 'u', '+', '201d', '>', 'said', 'shanon', 'loggins', ',', '47', ',', 'of', 'lufkin', ',', 'tex', '.,', 'showing', 'off', 'a', 'golden', 'shopping', 'bag', 'embossed', 'with', 'the', 'trump', 'crest', 'that', 'carried', 'two', 'bottles', 'of', 'success', 'by', 'trump', ',', 'a', 'fragrance', 'for', 'men', '.', '<', 'u', '+', '201c', '>', 'they', 'need', 'to', 'be', 'successful', ',<', 'u', '+', '201d', '>', 'she', 'explained', '.', 'business', 'is', 'good', 'for', 'donald', 'j', '.', 'trump', '.', 'people', 'are', 'flocking', 'to', 'his', 'midtown', 'manhattan', 'skyscraper', ',', 'dining', 'in', 'his', 'restaurants', 'and', 'buying', 'his', 'wares', '.', 'reporters', 'are', 'fastidiously', 'chronicling', 'the', 'comings', 'and', 'goings', 'of', 'his', 'transition', 'team', ',', 'his', 'self', '-', 'branded', 'properties', 'providing', 'the', 'backdrop', 'for', 'television', 'live', 'shots', '.', 'mr', '.', 'trump', 'has', 'taken', 'the', 'staid', 'task', 'of', 'preparing', 'to', 'assume', 'the', 'presidency', 'and', 'turned', 'it', 'into', 'an', 'exercise', 'in', 'conspicuous', 'self', '-', 'promotion', 'and', 'carefully', 'choreographed', 'branding', '.', 'but', 'as', 'the', 'president', '-', 'elect', 'makes', 'use', 'of', 'his', 'vast', 'real', 'estate', 'holdings', ',', 'he', 'is', 'also', 'raising', 'questions', 'about', 'whether', 'he', 'is', 'exploiting', 'the', 'high', 'profile', 'and', 'stature', 'of', 'the', 'office', 'to', 'conduct', 'what', 'could', 'be', 'seen', 'as', 'a', 'promotional', 'tour', 'for', 'the', 'trump', 'organization', '.', 'the', 'venues', 'he', 'has', 'picked', 'to', 'conduct', 'his', 'official', 'transition', 'planning', 'attest', 'to', 'his', 'success', 'as', 'a', 'real', 'estate', 'developer', ':', 'trump', 'tower', ',', 'the', 'manhattan', 'skyscraper', 'where', 'he', 'lives', 'and', 'works', 'amid', 'trump', '-', 'themed', 'eateries', 'and', 'boutiques', ';', 'mar', '-', 'a', '-', 'lago', ',', 'the', 'upscale', ',', 'private', 'palm', 'beach', ',', 'fla', '.,', 'club', 'where', 'he', 'has', 'chosen', 'to', 'hold', 'meetings', 'over', 'thanksgiving', ';', 'and', 'the', 'trump', 'national', 'golf', 'club', 'in', 'bedminster', ',', 'n', '.', 'j', '.', 'mr', '.', 'trump', 'especially', 'liked', 'the', 'bedminster', 'setting', ',', 'he', 'told', 'his', 'aides', ',', 'because', 'the', 'images', 'of', 'him', 'receiving', 'potential', 'cabinet', 'appointees', 'at', 'the', 'front', 'door', 'of', 'the', 'clubhouse', 'resembled', '10', 'downing', 'street', 'in', 'london', '.', 'in', 'planning', 'future', 'transition', 'meetings', ',', 'mr', '.', 'trump', 'and', 'his', 'team', 'are', 'considering', 'other', 'properties', 'of', 'his', 'that', 'might', 'fit', 'his', 'desire', 'for', 'rich', ',', 'regal', 'symbolism', '.', '<', 'u', '+', '201c', '>', 'it', 'stinks', ',<', 'u', '+', '201d', '>', 'said', 'norman', 'eisen', ',', 'who', 'was', 'the', 'chief', 'white', 'house', 'ethics', 'lawyer', 'for', 'president', 'obama', 'from', '2009', 'to', '2011', '.', 'because', 'there', 'is', 'no', 'specific', 'law', 'prohibiting', 'public', 'officeholders', 'from', 'financially', 'beneficial', 'self', '-', 'promotion', ',', 'what', 'mr', '.', 'trump', 'is', 'doing', 'is', 'probably', 'not', 'illegal', ',', 'mr', '.', 'eisen', 'added', '.', '<', 'u', '+', '201c', '>', 'but', 'that', 'doesn', '<', 'u', '+', '2019', '>', 't', 'make', 'it', 'right', ',<', 'u', '+', '201d', '>', 'he', 'said', '.', '<', 'u', '+', '201c', '>', 'it', '<', 'u', '+', '2019', '>', 's', 'part', 'and', 'parcel', 'of', 'the', 'unsavory', 'marketing', 'of', 'his', 'brands', 'that', 'he', 'also', 'did', 'during', 'the', 'campaign', '.<', 'u', '+', '201d', '>', 'unsavory', 'or', 'not', ',', 'it', 'is', 'all', 'part', 'of', 'the', 'stagecraft', 'and', 'spectacle', 'that', 'mr', '.', 'trump', 'has', 'directed', 'from', 'his', '26th', '-', 'floor', 'office', 'in', 'trump', 'tower', '<', 'u', '+', '2014', '>', 'all', 'of', 'which', 'is', 'being', 'ravenously', 'consumed', 'by', 'the', 'news', 'media', 'and', 'his', 'loyal', 'followers', '.', 'most', 'days', 'since', 'mr', '.', 'trump', 'became', 'the', 'president', '-', 'elect', ',', 'the', 'lobby', 'of', 'trump', 'tower', 'has', 'been', 'a', 'public', 'staging', 'area', 'for', 'aspects', 'of', 'the', 'transition', 'that', 'mr', '.', 'trump', 'most', 'wants', 'people', 'to', 'see', '.', 'potential', 'cabinet', 'appointees', 'march', 'across', 'its', 'buffed', 'marble', 'floors', ',', 'past', 'the', 'cameras', 'that', 'stream', 'the', 'scene', 'live', 'to', 'c', '-', 'span', ',', 'and', 'into', 'the', 'gold', 'mirrored', 'elevators', '.', 'this', 'week', 'there', 'were', 'people', 'like', 'gov', '.', 'mary', 'fallin', 'of', 'oklahoma', 'and', 'rick', 'perry', ',', 'the', 'former', 'texas', 'governor', ',', 'who', 'disparaged', 'mr', '.', 'trump', 'as', '<', 'u', '+', '201c', '>', 'a', 'cancer', 'on', 'conservatism', '<', 'u', '+', '201d', '>', 'when', 'they', 'were', 'battling', 'for', 'the', 'republican', 'nomination', '.', 'mr', '.', 'trump', 'and', 'his', 'staff', 'have', 'even', 'devised', 'a', 'proper', 'greeting', 'protocol', 'for', 'arriving', 'guests', '.', 'as', 'mr', '.', 'perry', 'made', 'his', 'way', 'through', 'the', 'lobby', 'on', 'monday', ',', 'a', 'young', 'woman', 'looped', 'her', 'arm', 'around', 'his', 'and', 'escorted', 'him', 'past', 'the', 'cameras', '.', 'the', 'same', 'woman', 'was', 'also', 'on', 'hand', 'over', 'the', 'weekend', 'to', 'accompany', 'visiting', 'guests', 'when', 'mr', '.', 'trump', 'moved', 'the', 'meetings', 'to', 'bedminster', '.', 'the', 'golf', 'club', 'was', 'even', 'more', 'of', 'a', 'display', 'of', 'munificence', ',', 'with', 'mr', '.', 'trump', 'turning', 'to', 'the', 'cameras', 'to', 'embrace', 'mitt', 'romney', ',', 'who', 'just', 'months', 'ago', 'condemned', 'mr', '.', 'trump', 'as', 'a', '<', 'u', '+', '201c', '>', 'phony', '<', 'u', '+', '201d', '>', 'and', 'a', '<', 'u', '+', '201c', '>', 'fraud', '.<', 'u', '+', '201d', '>', 'he', 'is', 'now', 'a', 'leading', 'candidate', 'for', 'secretary', 'of', 'state', '.', 'there', 'were', 'more', 'ethnically', 'diverse', 'potential', 'cabinet', 'candidates', 'there', ',', 'as', 'well', ',', 'like', 't', '.', 'w', '.', 'shannon', ',', 'the', 'first', 'african', '-', 'american', 'speaker', 'of', 'the', 'oklahoma', 'house', ',', 'and', 'michelle', 'rhee', ',', 'a', 'former', 'schools', 'chancellor', 'in', 'washington', ',', 'who', 'is', 'asian', '-', 'american', '.', 'when', 'mr', '.', 'trump', 'was', 'done', 'interviewing', 'them', ',', 'he', 'would', 'see', 'them', 'off', 'outside', 'and', ',', 'once', 'again', ',', 'banter', 'with', 'the', 'news', 'media', '.', '<', 'u', '+', '201c', '>', 'tremendous', 'talent', '<', 'u', '+', '2014', '>', 'we', '<', 'u', '+', '2019', '>', 're', 'seeing', 'tremendous', 'talent', ',<', 'u', '+', '201d', '>', 'mr', '.', 'trump', 'said', 'on', 'saturday', '.', '<', 'u', '+', '201c', '>', 'people', 'that', ',', 'as', 'i', 'say', ',', 'we', 'will', '<', 'u', '+', '2018', '>', 'make', 'america', 'great', 'again', '.<', 'u', '+', '2019', '>', 'these', 'are', 'really', 'great', 'people', '.', 'these', 'are', 'really', ',', 'really', 'talented', 'people', '.<', 'u', '+', '201d', '>', 'as', 'the', 'cameras', 'rolled', 'during', 'the', 'weekend', 'at', 'bedminster', ',', 'temperatures', 'dropped', 'sharply', ',', 'sending', 'journalists', 'into', 'the', 'gift', 'shop', ',', 'where', 'the', 'only', 'cold', '-', 'weather', 'attire', 'they', 'could', 'find', 'was', 'a', 'winter', 'hat', 'with', 'trump', 'embroidered', 'on', 'it', '.', 'the', 'market', 'for', 'anything', 'stamped', 'trump', 'has', 'been', 'bustling', '.', 'at', 'the', 'gift', 'kiosk', 'on', 'the', 'lower', 'level', 'of', 'trump', 'tower', '<', 'u', '+', '2014', '>', 'between', 'the', 'trump', 'ice', 'cream', 'parlor', 'and', 'the', 'trump', 'grill', ',', 'with', 'its', '$', '25', 'prix', 'fixe', 'lunch', '<', 'u', '+', '2014', '>', 'the', 'line', 'on', 'monday', 'morning', 'was', 'about', 'two', 'dozen', 'people', 'deep', '.', 'cashiers', 'were', 'doing', 'their', 'civic', 'diligence', ',', 'asking', 'anyone', 'purchasing', 'trump', 'campaign', 'gear', 'like', 'the', '<', 'u', '+', '201c', '>', 'make', 'america', 'great', 'again', '<', 'u', '+', '201d', '>', 'hats', '($', '25', ')', 'whether', 'they', 'were', 'american', 'citizens', '.', '(', 'law', 'prohibits', 'foreigners', 'from', 'giving', 'money', 'to', 'campaigns', '.)', 'marilyn', 'bryan', ',', '70', ',', 'of', 'terre', 'haute', ',', 'ind', '.,', 'was', 'sitting', 'at', 'a', 'table', 'outside', 'the', 'kiosk', 'with', 'her', 'daughter', 'trisha', '.', 'in', 'may', ',', 'ms', '.', 'bryan', 'was', 'at', 'a', 'trump', 'rally', 'in', 'her', 'hometown', 'when', 'someone', 'passed', 'out', 'next', 'to', 'her', ',', 'knocked', 'her', 'down', 'and', 'broke', 'her', 'femur', '.', 'that', 'might', 'have', 'been', 'enough', 'trump', 'for', 'anyone', 'else', '.', 'but', 'she', 'decided', 'that', 'as', 'long', 'as', 'she', 'was', 'visiting', 'new', 'york', 'this', 'week', ',', 'she', 'might', 'as', 'well', 'stop', 'by', 'the', 'tower', 'to', 'take', 'in', 'the', 'scene', '.', '<', 'u', '+', '201c', '>', 'what', '<', 'u', '+', '2019', '>', 'd', 'we', 'spend', '?', '$', '200', '?<', 'u', '+', '201d', '>', 'she', 'asked', 'her', 'daughter', '.', 'inside', 'her', 'shopping', 'bag', 'were', 'a', 'hat', ',', 'the', 'golden', 'trump', 'chocolate', 'bars', 'and', 'some', 'other', 'trump', 'knickknacks', 'she', 'planned', 'to', 'give', 'to', 'her', 'relatives', '.', 'the', 'chocolate', ',', 'they', 'were', 'somewhat', 'disappointed', 'to', 'learn', ',', 'was', 'actually', 'made', 'in', 'fort', 'wayne', ',', 'ind', '.', 'standing', 'nearby', 'were', 'paul', 'and', 'lea', 'foster', 'of', 'hidden', 'hills', ',', 'calif', '.', 'after', 'purchasing', 'two', 'hats', 'and', 'two', 't', '-', 'shirts', ',', 'ms', '.', 'foster', ',', '62', ',', 'marveled', 'at', 'mr', '.', 'trump', '<', 'u', '+', '2019', '>', 's', 'ability', 'to', 'cash', 'in', 'on', 'his', 'name', '.', '<', 'u', '+', '201c', '>', 'he', '<', 'u', '+', '2019', '>', 's', 'sure', 'figured', 'out', 'how', 'to', 'make', 'money', ',<', 'u', '+', '201d', '>', 'she', 'said', '.', 'her', 'husband', 'nodded', '.', '<', 'u', '+', '201c', '>', 'he', '<', 'u', '+', '2019', '>', 's', 'a', 'businessman', ',', 'a', 'promoter', ',<', 'u', '+', '201d', '>', 'said', 'mr', '.', 'foster', ',', '81', '.', '<', 'u', '+', '201c', '>', 'let', '<', 'u', '+', '2019', '>', 's', 'hope', 'he', 'knows', 'how', 'to', 'run', 'the', 'country', '.<', 'u', '+', '201d', '>', 'michael', 's', '.', 'schmidt', 'contributed', 'reporting', '.', 'get', 'politics', 'news', 'updates', 'via', 'facebook', ',', 'twitter', 'and', 'the', 'morning', 'briefing', 'newsletter', '.', 'a', 'version', 'of', 'this', 'article', 'appears', 'in', 'print', 'on', 'november', '23', ',', '2016', ',', 'on', 'page', 'a17', 'of', 'the', 'new', 'york', 'edition', 'with', 'the', 'headline', ':', 'at', 'trump', '<', 'u', '+', '2019', '>', 's', 'properties', ',', 'a', 'showcase', 'for', 'a', 'brand', 'and', 'a', 'president', '-', 'elect', '.', 'order', 'reprints', '|', 'today', \"'\", 's', 'paper', '|', 'subscribe']\n"
     ]
    }
   ],
   "source": [
    "print(comments_backup[0])"
   ]
  },
  {
   "cell_type": "code",
   "execution_count": 21,
   "metadata": {
    "colab": {
     "base_uri": "https://localhost:8080/",
     "height": 50
    },
    "colab_type": "code",
    "executionInfo": {
     "elapsed": 3039,
     "status": "ok",
     "timestamp": 1589350147846,
     "user": {
      "displayName": "Umesh Saraswat",
      "photoUrl": "https://lh3.googleusercontent.com/a-/AOh14GjYIq2q-RJY9TGYU0oihFsJ-KBX2UQxuLD6z10Y4w=s64",
      "userId": "10527726304653339617"
     },
     "user_tz": -330
    },
    "id": "kyqx43bvEsSo",
    "outputId": "d979960a-312d-42f6-f433-f0580aab9c7d"
   },
   "outputs": [
    {
     "name": "stdout",
     "output_type": "stream",
     "text": [
      "Shape of data tensor: (4995, 200)\n",
      "Shape of label tensor: (4995,)\n"
     ]
    }
   ],
   "source": [
    "############################################      3.   Prepare sequence matrix from vocab         ###############################################\n",
    "MAX_NB_WORDS = len(word_vectors.vocab)\n",
    "MAX_SEQUENCE_LENGTH = 200\n",
    "\n",
    "from keras.preprocessing.sequence import pad_sequences\n",
    "\n",
    "word_index = {t[0]: i+1 for i,t in enumerate(vocab.most_common(MAX_NB_WORDS))}    ##\n",
    "sequences_text = [[word_index.get(t, 0) for t in comment]\n",
    "             for comment in comments_backup[:len(X_text)]]  ##\n",
    "\n",
    "# pad\n",
    "training_data_text = pad_sequences(sequences_text, maxlen=MAX_SEQUENCE_LENGTH,    \n",
    "                     padding=\"pre\", truncating=\"post\")     ##\n",
    "# list_classes = [\"real\", \"fake\"]\n",
    "# y = train_df[list_classes].values\n",
    "y = np.array(labels)\n",
    "print('Shape of data tensor:', training_data_text.shape)\n",
    "print('Shape of label tensor:', y.shape)\n",
    "\n",
    "# test_data = pad_sequences(test_sequences, maxlen=MAX_SEQUENCE_LENGTH, padding=\"pre\",\n",
    "#                           truncating=\"post\")\n",
    "# print('Shape of test_data tensor:', test_data.shape)\n",
    "\n",
    "#print(training_data_text[0])"
   ]
  },
  {
   "cell_type": "code",
   "execution_count": 0,
   "metadata": {
    "colab": {},
    "colab_type": "code",
    "id": "Cas6f_wHu5fI"
   },
   "outputs": [],
   "source": [
    "##########################################        4.   Prepare Text embedding vector for embedding layer in Bi-LSTM    #################################\n",
    "WV_DIM = 100\n",
    "nb_words_text = min(MAX_NB_WORDS, len(word_vectors.vocab))          ##\n",
    "# we initialize the matrix with random numbers\n",
    "wv_matrix_text = (np.random.rand(nb_words_text, WV_DIM) - 0.5) / 5.0     ##\n",
    "for word, i in word_index.items():\n",
    "    if i >= MAX_NB_WORDS:\n",
    "        continue\n",
    "    try:\n",
    "        embedding_vector = word_vectors[word]\n",
    "        # words not found in embedding index will be all-zeros.\n",
    "        wv_matrix_text[i] = embedding_vector\n",
    "    except:\n",
    "        pass      "
   ]
  },
  {
   "cell_type": "code",
   "execution_count": 23,
   "metadata": {
    "colab": {
     "base_uri": "https://localhost:8080/",
     "height": 369
    },
    "colab_type": "code",
    "executionInfo": {
     "elapsed": 1472,
     "status": "ok",
     "timestamp": 1589350169922,
     "user": {
      "displayName": "Umesh Saraswat",
      "photoUrl": "https://lh3.googleusercontent.com/a-/AOh14GjYIq2q-RJY9TGYU0oihFsJ-KBX2UQxuLD6z10Y4w=s64",
      "userId": "10527726304653339617"
     },
     "user_tz": -330
    },
    "id": "GqqoQOuEndnT",
    "outputId": "21641e04-beac-472b-9342-3a0d5ce458e5"
   },
   "outputs": [
    {
     "name": "stdout",
     "output_type": "stream",
     "text": [
      "<class 'numpy.ndarray'>\n",
      "<class 'numpy.ndarray'>\n",
      "(4995, 200)\n",
      "4995\n",
      "[   42  2507    12   619    36    23  1592     3  1164    76     8   633\n",
      "    44  1645     3  7819    90    57  1180    18     0     9     2    71\n",
      "    17   316    53  9422     3  1456    17  7678  6720 17412 18504     7\n",
      "     4     5    19     6    23    45     4     5    20     6    23     0\n",
      "     0     3 23492    10     0     1    23     0     1     7     4     5\n",
      "    19     6    38  2365    22    18   136   118  4864    50     4     5\n",
      "    20     6    35     0     0     3  3452     3     9     0     3 11424\n",
      "   259  1421   211    11  4271  4644  4051     0    25     2    23     0\n",
      "    14  1633   118  9209     9  1504    34    23     3    11     0    18\n",
      "   486     1     7     4     5    19     6    42   204     8    30  1706\n",
      "    50     4     5    20     6    59  1721     1   262    16   232    18\n",
      "   111   367     1    23     1    69    31 19865     8    39  6610  2144\n",
      " 11755     3 11756    12    39  5683    10  1829    39     0     1  1146\n",
      "    31     0     0     2     0    10 21439     9    39   845   523     3\n",
      "    39   654    17  5324  2573  2366     2  6215    18  1035   585  5325\n",
      "     1    26     1    23    33   642     2 23493  2449     9  2758     8\n",
      "  2711     2   524    10   859    22   100    44]\n"
     ]
    }
   ],
   "source": [
    "print(type(training_data_text))\n",
    "training_data_text = np.array(training_data_text)\n",
    "print(type(training_data_text))\n",
    "print((training_data_text).shape)\n",
    "print(len(training_data_text))\n",
    "print(training_data_text[0])\n",
    "\n",
    "######################################################################################       Text Preprocessing ends    #########################################################################################"
   ]
  },
  {
   "cell_type": "code",
   "execution_count": 45,
   "metadata": {
    "colab": {
     "base_uri": "https://localhost:8080/",
     "height": 369
    },
    "colab_type": "code",
    "executionInfo": {
     "elapsed": 1601,
     "status": "ok",
     "timestamp": 1589351873930,
     "user": {
      "displayName": "Umesh Saraswat",
      "photoUrl": "https://lh3.googleusercontent.com/a-/AOh14GjYIq2q-RJY9TGYU0oihFsJ-KBX2UQxuLD6z10Y4w=s64",
      "userId": "10527726304653339617"
     },
     "user_tz": -330
    },
    "id": "ZjKvnq-enoPk",
    "outputId": "d564edba-8497-4853-eec2-74cc3a904296"
   },
   "outputs": [
    {
     "name": "stdout",
     "output_type": "stream",
     "text": [
      "<class 'numpy.ndarray'>\n",
      "<class 'numpy.ndarray'>\n",
      "(4995, 300)\n",
      "4995\n",
      "[  0   0   0   0   0   0   0   0   0   0   0   0   0   0   0   0   0   0\n",
      "   0   0   0   0   0   0   0   0   0   0   0   0   0   0   0   0   0   0\n",
      "   0   0   0   0   0   0   0   0   0   0   0   0   0   0   0   0   0   0\n",
      "   0   0   0   0   0   0   0   0   0   0   0   0   0   0   0   0   0   0\n",
      "   0   0   0   0   0   0   0   0   0   0   0   0   0   0   0   0   0   0\n",
      "   0   0   0   0   0   0   0   0   0   0   0   0   0   0   0   0   0   0\n",
      "   0   0   0   0   0   0   0   0   0   0   0   0   0   0   0   0   0   0\n",
      "   0   0   0   0   0   0   0   0   0   0   0   0   0   0   0   0   0   0\n",
      "   0   0   0   0   0   0   0   0   0   0   0   0   0   0   0   0   0   0\n",
      "   0   0   0   0   0   0   0   0   0   0   0   0   0   0   0   0   0   0\n",
      "   0   0   0   0   0   0   0   0   0   0   0   0   0   0   0   0   0   0\n",
      "   0   0   0   0   0   0   0   0   0   0   0   0   0   0   0   0   0   0\n",
      "   0   0   0   0   0   0   0   0   0   0   0   0   0   0   0   0   0   0\n",
      "   0   0   0   0   0   0   0   0   0   0   0   0   0   0   0   0   0   0\n",
      "   0   0   0   0   0   0   0   0   0   0   0   0   0   0   0   0   0   0\n",
      "   0   0   0   0   0   0   0   0   0   0   0   0   0   0   0   0   0  25\n",
      "  14   5   1   3   7  10  13  10  12  10  62 496]\n"
     ]
    }
   ],
   "source": [
    "##########################################################################################      Reading and preprocessing Title      ##############################################################################\n",
    "import numpy as np                                  \n",
    "import pandas as pd                                 \n",
    "import nltk       \n",
    "import gensim                                  \n",
    "\n",
    "X_title = data.title\n",
    "\n",
    "#X1,X2,Y1,Y2 = train_test_split(X_text,y_text,test_size=0.30)\n",
    "X_title = X_title.astype(str)\n",
    "\n",
    "comments_title = X_title\n",
    "###################   1. Tokenisation  #########################\n",
    "from keras.preprocessing.text import Tokenizer\n",
    "max_words = 1000\n",
    "max_len = 300\n",
    "tok = Tokenizer(num_words=max_words)\n",
    "tok.fit_on_texts(comments_title)\n",
    "sequences_2 = tok.texts_to_sequences(comments_title) ###### name training_data_title\n",
    "training_data_title = sequence.pad_sequences(sequences_2,maxlen=max_len)\n",
    "\n",
    "\n",
    "print(type(training_data_title))\n",
    "training_data_title = np.array(training_data_title)\n",
    "print(type(training_data_title))\n",
    "print((training_data_title).shape)\n",
    "print(len(training_data_title))\n",
    "print(training_data_title[0])\n",
    "\n",
    "###########################################################################################         Title Preprocessing Ends          ################################################################################"
   ]
  },
  {
   "cell_type": "code",
   "execution_count": 26,
   "metadata": {
    "colab": {
     "base_uri": "https://localhost:8080/",
     "height": 33
    },
    "colab_type": "code",
    "executionInfo": {
     "elapsed": 1558,
     "status": "ok",
     "timestamp": 1589350216026,
     "user": {
      "displayName": "Umesh Saraswat",
      "photoUrl": "https://lh3.googleusercontent.com/a-/AOh14GjYIq2q-RJY9TGYU0oihFsJ-KBX2UQxuLD6z10Y4w=s64",
      "userId": "10527726304653339617"
     },
     "user_tz": -330
    },
    "id": "k5jKPSGnJ1ZO",
    "outputId": "a8d07201-5f57-4920-b44b-548e7322e759"
   },
   "outputs": [
    {
     "name": "stdout",
     "output_type": "stream",
     "text": [
      "At Donald Trump<U+2019>s Properties, a Showcase for a Brand and a President-Elect\n"
     ]
    }
   ],
   "source": [
    "print(comments_title[0])"
   ]
  },
  {
   "cell_type": "code",
   "execution_count": 32,
   "metadata": {
    "colab": {
     "base_uri": "https://localhost:8080/",
     "height": 272
    },
    "colab_type": "code",
    "executionInfo": {
     "elapsed": 7501,
     "status": "ok",
     "timestamp": 1589262589783,
     "user": {
      "displayName": "Umesh Saraswat",
      "photoUrl": "https://lh3.googleusercontent.com/a-/AOh14GjYIq2q-RJY9TGYU0oihFsJ-KBX2UQxuLD6z10Y4w=s64",
      "userId": "10527726304653339617"
     },
     "user_tz": -330
    },
    "id": "E5n4eQtnKBjV",
    "outputId": "cdd1ea1c-8626-4f92-a2d3-d7315a449e18"
   },
   "outputs": [
    {
     "name": "stderr",
     "output_type": "stream",
     "text": [
      "  1%|▏         | 73/4992 [00:00<00:06, 729.88it/s]"
     ]
    },
    {
     "name": "stdout",
     "output_type": "stream",
     "text": [
      "[nltk_data] Downloading package stopwords to /root/nltk_data...\n",
      "[nltk_data]   Package stopwords is already up-to-date!\n",
      "{'because', 'theirs', 'am', 'in', 'more', 'where', 'out', 'after', 'it', 'his', 'which', \"you'd\", \"it's\", \"should've\", 'll', \"wasn't\", 'yours', 'were', 'your', \"doesn't\", 'between', 'aren', 'such', 'ours', 'during', 'can', 'by', \"isn't\", \"mustn't\", 'itself', 'doesn', 'up', 'did', 'they', 'from', 'hadn', 'now', 'is', \"she's\", 'on', 'against', 'into', 'for', \"haven't\", 'shouldn', 'been', 'these', 'again', 'me', 'until', 'this', 'our', 'nor', 're', 'all', \"didn't\", 'at', \"hasn't\", 'each', 'myself', 'of', 'had', 'was', 'just', 'to', 'few', 'before', 't', 'ain', \"needn't\", 'my', 'those', 'yourselves', 'once', 'then', 'no', 'their', \"won't\", 'any', 'who', 'be', \"shouldn't\", 'we', 'the', 'than', 'm', \"weren't\", 'with', 'he', 'isn', 'weren', \"you'll\", 'hers', 'being', 'that', 'below', 'him', 'not', 'a', 's', 'herself', 'about', 'wasn', 'as', 'couldn', \"you're\", 'yourself', 'having', 'didn', 'them', 'both', 'has', 've', 'himself', 'she', 'but', 'off', 'down', 'same', 'o', 'through', 'you', \"shan't\", 'there', 'and', 'ourselves', 'hasn', 'other', \"couldn't\", 'so', 'only', 'themselves', 'i', 'what', 'while', 'whom', 'over', 'here', 'd', 'y', 'haven', 'wouldn', 'above', 'too', 'very', 'when', 'does', \"that'll\", 'don', \"hadn't\", \"you've\", 'if', \"mightn't\", 'her', 'do', \"don't\", \"aren't\", \"wouldn't\", 'mightn', 'or', 'further', 'doing', 'own', 'shan', 'will', 'needn', 'most', 'are', 'some', 'its', 'mustn', 'have', 'an', 'under', 'won', 'should', 'why', 'ma', 'how'}\n",
      "4992\n",
      "(4992,)\n",
      "0    At Donald Trump<U+2019>s Properties, a Showcas...\n",
      "1    Trump Foundation Tells New York It Has Stopped...\n",
      "2    Donald Trump Prepares for White House Move, bu...\n",
      "3    Luring Chinese Investors With Trump<U+2019>s N...\n",
      "4    Melania and Barron Trump Won<U+2019>t Immediat...\n",
      "Name: title, dtype: object\n",
      "<class 'pandas.core.series.Series'>\n"
     ]
    },
    {
     "name": "stderr",
     "output_type": "stream",
     "text": [
      "100%|██████████| 4992/4992 [00:06<00:00, 831.58it/s]"
     ]
    },
    {
     "name": "stdout",
     "output_type": "stream",
     "text": [
      "['donald', 'trump', 'properti', 'showcas', 'brand', 'president-elect']\n"
     ]
    },
    {
     "name": "stderr",
     "output_type": "stream",
     "text": [
      "\n"
     ]
    }
   ],
   "source": [
    "# ################################################       Remove stopwords         ##############################\n",
    "# nltk.download(\"stopwords\")\n",
    "# stop = set(stopwords.words('english')) \n",
    "# print(stop)\n",
    "# print(len(X_title))\n",
    "# print(X_title.shape)\n",
    "# print(X_title.head())\n",
    "# print(type(X_title))\n",
    "\n",
    "# X_title_copy = X_title\n",
    "\n",
    "# import re               \n",
    "# temp =[]\n",
    "# snow = nltk.stem.SnowballStemmer('english')\n",
    "# for sentence in tqdm(X_title_copy):\n",
    "#     sentence = sentence.lower()                 # Converting to lowercase\n",
    "#     cleanr = re.compile('<.*?>')\n",
    "#     sentence = re.sub(cleanr, ' ', sentence)        #Removing HTML tags\n",
    "#     sentence = re.sub(r'[?|!|\\'|\"|#]',r'',sentence)\n",
    "#     sentence = re.sub(r'[.|,|)|(|\\|/]',r' ',sentence)        #Removing Punctuations\n",
    "    \n",
    "#     words = [snow.stem(word) for word in sentence.split() if word not in stopwords.words('english')]   # Stemming and removing stopwords\n",
    "#     temp.append(words)\n",
    "    \n",
    "# X_title_copy = temp    \n",
    "\n",
    "# print(X_title_copy[0])\n",
    "\n",
    "# # sent = []\n",
    "# # for row in X_text:\n",
    "# #     sequ = ''\n",
    "# #     for word in row:\n",
    "# #         sequ = sequ + ' ' + word\n",
    "# #     sent.append(sequ)\n",
    "\n",
    "# # X_text = sent\n",
    "\n",
    "# # print(X_text[0])"
   ]
  },
  {
   "cell_type": "code",
   "execution_count": 178,
   "metadata": {
    "colab": {
     "base_uri": "https://localhost:8080/",
     "height": 134
    },
    "colab_type": "code",
    "executionInfo": {
     "elapsed": 1421,
     "status": "ok",
     "timestamp": 1589275084903,
     "user": {
      "displayName": "Umesh Saraswat",
      "photoUrl": "https://lh3.googleusercontent.com/a-/AOh14GjYIq2q-RJY9TGYU0oihFsJ-KBX2UQxuLD6z10Y4w=s64",
      "userId": "10527726304653339617"
     },
     "user_tz": -330
    },
    "id": "xRaoDlL3KYig",
    "outputId": "2737dc13-7957-453d-9361-167630abc1f5"
   },
   "outputs": [
    {
     "name": "stdout",
     "output_type": "stream",
     "text": [
      "4992\n",
      "4992\n",
      "(4992,)\n",
      "(4992,)\n",
      "6\n",
      "6\n",
      "The vocabulary contains 9333 unique tokens\n"
     ]
    }
   ],
   "source": [
    "# print(len(comments_title))\n",
    "# print(len(X_title_copy))\n",
    "# print(np.array(comments_title).shape)\n",
    "# print(np.array(X_title_copy).shape)\n",
    "# print(len(comments_title[0]))\n",
    "# print(len(X_title_copy[0]))\n",
    "\n",
    "# print(\"The vocabulary contains {} unique tokens\".format(len(vocab)))\n",
    "# comments_backup2 = comments_title\n",
    "# comments_title = X_title_copy"
   ]
  },
  {
   "cell_type": "code",
   "execution_count": 179,
   "metadata": {
    "colab": {
     "base_uri": "https://localhost:8080/",
     "height": 33
    },
    "colab_type": "code",
    "executionInfo": {
     "elapsed": 1631,
     "status": "ok",
     "timestamp": 1589275116713,
     "user": {
      "displayName": "Umesh Saraswat",
      "photoUrl": "https://lh3.googleusercontent.com/a-/AOh14GjYIq2q-RJY9TGYU0oihFsJ-KBX2UQxuLD6z10Y4w=s64",
      "userId": "10527726304653339617"
     },
     "user_tz": -330
    },
    "id": "6k9ccdr2wAp8",
    "outputId": "134d2105-ade2-4fd5-b241-78197ac86e99"
   },
   "outputs": [
    {
     "name": "stdout",
     "output_type": "stream",
     "text": [
      "Number of word vectors: 1455\n"
     ]
    }
   ],
   "source": [
    "# comments_backup2 = comments_title\n",
    "# comments_title = X_title_copy\n",
    "\n",
    "# import gensim\n",
    "# from gensim.models import Word2Vec\n",
    "# model_title = Word2Vec(comments_backup2, size=100, window=5, min_count=5, workers=16, sg=0, negative=5)\n",
    "# word_vectors = model_title.wv\n",
    "# print(\"Number of word vectors: {}\".format(len(word_vectors.vocab)))         ##\n"
   ]
  },
  {
   "cell_type": "code",
   "execution_count": 0,
   "metadata": {
    "colab": {},
    "colab_type": "code",
    "id": "fOto_Po3wiIn"
   },
   "outputs": [],
   "source": [
    "# MAX_NB_WORDS = len(word_vectors.vocab)\n",
    "# MAX_SEQUENCE_LENGTH = 200\n",
    "\n",
    "# from keras.preprocessing.sequence import pad_sequences\n",
    "\n",
    "# word_index = {t[0]: i+1 for i,t in enumerate(vocab.most_common(MAX_NB_WORDS))}    ##\n",
    "# sequences_title = [[word_index.get(t, 0) for t in comment]\n",
    "#              for comment in comments_backup2[:len(X_title)]]  ##\n",
    "\n",
    "# # pad\n",
    "# training_data_title = pad_sequences(sequences_title, maxlen=MAX_SEQUENCE_LENGTH,    \n",
    "#                      padding=\"pre\", truncating=\"post\")     ##\n",
    "# # list_classes = [\"real\", \"fake\"]\n",
    "# # y = train_df[list_classes].values\n",
    "# y = np.array(labels)\n",
    "# print('Shape of data tensor:', training_data_title.shape)\n",
    "# print('Shape of label tensor:', y.shape)\n",
    "\n",
    "# # test_data = pad_sequences(test_sequences, maxlen=MAX_SEQUENCE_LENGTH, padding=\"pre\",\n",
    "# #                           truncating=\"post\")\n",
    "# # print('Shape of test_data tensor:', test_data.shape)\n",
    "\n",
    "# print(training_data_title[0])"
   ]
  },
  {
   "cell_type": "code",
   "execution_count": 0,
   "metadata": {
    "colab": {},
    "colab_type": "code",
    "id": "817cm9urMKbV"
   },
   "outputs": [],
   "source": [
    "# WV_DIM = 100\n",
    "# nb_words_title = min(MAX_NB_WORDS, len(word_vectors.vocab))          ##\n",
    "# # we initialize the matrix with random numbers\n",
    "# wv_matrix_title = (np.random.rand(nb_words_title, WV_DIM) - 0.5) / 5.0     ##\n",
    "# for word, i in word_index.items():\n",
    "#     if i >= MAX_NB_WORDS:\n",
    "#         continue\n",
    "#     try:\n",
    "#         embedding_vector = word_vectors[word]\n",
    "#         # words not found in embedding index will be all-zeros.\n",
    "#         wv_matrix_title[i] = embedding_vector\n",
    "#     except:\n",
    "#         pass      "
   ]
  },
  {
   "cell_type": "code",
   "execution_count": 46,
   "metadata": {
    "colab": {
     "base_uri": "https://localhost:8080/",
     "height": 67
    },
    "colab_type": "code",
    "executionInfo": {
     "elapsed": 2488,
     "status": "ok",
     "timestamp": 1589351886753,
     "user": {
      "displayName": "Umesh Saraswat",
      "photoUrl": "https://lh3.googleusercontent.com/a-/AOh14GjYIq2q-RJY9TGYU0oihFsJ-KBX2UQxuLD6z10Y4w=s64",
      "userId": "10527726304653339617"
     },
     "user_tz": -330
    },
    "id": "whSnd1qwoJ_7",
    "outputId": "5dc2d182-4dd9-48fe-bc9e-3363ca8fc149"
   },
   "outputs": [
    {
     "name": "stdout",
     "output_type": "stream",
     "text": [
      "4995\n",
      "(4995, 3)\n",
      "[1, 1, 1, 1, 1]\n"
     ]
    }
   ],
   "source": [
    "#####################################################################################        Final Train and Test set             ##########################################################################\n",
    "\n",
    "#fin_X = [X_img, training_data_text, training_data_title, labels]\n",
    "\n",
    "fin_X = []\n",
    "\n",
    "total_data = len(training_data_text)\n",
    "for i in range(len(data)):\n",
    "  fin_X.append([X_img[i], training_data_text[i], training_data_title[i]])\n",
    "\n",
    "\n",
    "print(len(fin_X))\n",
    "print(np.array(fin_X).shape)\n",
    "print(labels[0:5])\n",
    "# print(fin_X[0])"
   ]
  },
  {
   "cell_type": "code",
   "execution_count": 47,
   "metadata": {
    "colab": {
     "base_uri": "https://localhost:8080/",
     "height": 1000
    },
    "colab_type": "code",
    "executionInfo": {
     "elapsed": 1473,
     "status": "ok",
     "timestamp": 1589351890277,
     "user": {
      "displayName": "Umesh Saraswat",
      "photoUrl": "https://lh3.googleusercontent.com/a-/AOh14GjYIq2q-RJY9TGYU0oihFsJ-KBX2UQxuLD6z10Y4w=s64",
      "userId": "10527726304653339617"
     },
     "user_tz": -330
    },
    "id": "PUfewIVKoU9m",
    "outputId": "9fe93a35-9fc9-4e19-b32c-739408eea0dd"
   },
   "outputs": [
    {
     "name": "stdout",
     "output_type": "stream",
     "text": [
      "<class 'list'>\n",
      "(3,)\n",
      "4995\n",
      "[[[0.45490196 0.47843137 0.50588235]\n",
      "  [0.47843137 0.50196078 0.52156863]\n",
      "  [0.48627451 0.50980392 0.52941176]\n",
      "  ...\n",
      "  [0.09803922 0.11764706 0.14117647]\n",
      "  [0.09411765 0.11372549 0.1372549 ]\n",
      "  [0.07843137 0.09803922 0.11764706]]\n",
      "\n",
      " [[0.47058824 0.49411765 0.52156863]\n",
      "  [0.48627451 0.50588235 0.5372549 ]\n",
      "  [0.49411765 0.51764706 0.54901961]\n",
      "  ...\n",
      "  [0.09803922 0.11372549 0.1254902 ]\n",
      "  [0.09411765 0.10980392 0.12156863]\n",
      "  [0.09019608 0.10196078 0.12156863]]\n",
      "\n",
      " [[0.47843137 0.50196078 0.52941176]\n",
      "  [0.49411765 0.51764706 0.54509804]\n",
      "  [0.50980392 0.53333333 0.56078431]\n",
      "  ...\n",
      "  [0.10196078 0.11764706 0.13333333]\n",
      "  [0.09803922 0.11372549 0.12941176]\n",
      "  [0.09019608 0.10980392 0.1254902 ]]\n",
      "\n",
      " ...\n",
      "\n",
      " [[0.0627451  0.0627451  0.0627451 ]\n",
      "  [0.09803922 0.10980392 0.11372549]\n",
      "  [0.14117647 0.15294118 0.15686275]\n",
      "  ...\n",
      "  [0.21568627 0.22745098 0.24313725]\n",
      "  [0.20784314 0.21960784 0.23529412]\n",
      "  [0.14901961 0.16470588 0.16862745]]\n",
      "\n",
      " [[0.03921569 0.03921569 0.03921569]\n",
      "  [0.04313725 0.04313725 0.04705882]\n",
      "  [0.05882353 0.0627451  0.07843137]\n",
      "  ...\n",
      "  [0.21176471 0.22352941 0.23921569]\n",
      "  [0.2        0.21176471 0.22745098]\n",
      "  [0.1372549  0.14901961 0.16078431]]\n",
      "\n",
      " [[0.01568627 0.01568627 0.01568627]\n",
      "  [0.01960784 0.01568627 0.01960784]\n",
      "  [0.03529412 0.03921569 0.05490196]\n",
      "  ...\n",
      "  [0.2        0.21176471 0.22745098]\n",
      "  [0.2        0.21176471 0.22745098]\n",
      "  [0.12941176 0.14117647 0.16078431]]]\n",
      "Hello\n",
      "[   42  2507    12   619    36    23  1592     3  1164    76     8   633\n",
      "    44  1645     3  7819    90    57  1180    18     0     9     2    71\n",
      "    17   316    53  9422     3  1456    17  7678  6720 17412 18504     7\n",
      "     4     5    19     6    23    45     4     5    20     6    23     0\n",
      "     0     3 23492    10     0     1    23     0     1     7     4     5\n",
      "    19     6    38  2365    22    18   136   118  4864    50     4     5\n",
      "    20     6    35     0     0     3  3452     3     9     0     3 11424\n",
      "   259  1421   211    11  4271  4644  4051     0    25     2    23     0\n",
      "    14  1633   118  9209     9  1504    34    23     3    11     0    18\n",
      "   486     1     7     4     5    19     6    42   204     8    30  1706\n",
      "    50     4     5    20     6    59  1721     1   262    16   232    18\n",
      "   111   367     1    23     1    69    31 19865     8    39  6610  2144\n",
      " 11755     3 11756    12    39  5683    10  1829    39     0     1  1146\n",
      "    31     0     0     2     0    10 21439     9    39   845   523     3\n",
      "    39   654    17  5324  2573  2366     2  6215    18  1035   585  5325\n",
      "     1    26     1    23    33   642     2 23493  2449     9  2758     8\n",
      "  2711     2   524    10   859    22   100    44]\n",
      "Hello\n",
      "[  0   0   0   0   0   0   0   0   0   0   0   0   0   0   0   0   0   0\n",
      "   0   0   0   0   0   0   0   0   0   0   0   0   0   0   0   0   0   0\n",
      "   0   0   0   0   0   0   0   0   0   0   0   0   0   0   0   0   0   0\n",
      "   0   0   0   0   0   0   0   0   0   0   0   0   0   0   0   0   0   0\n",
      "   0   0   0   0   0   0   0   0   0   0   0   0   0   0   0   0   0   0\n",
      "   0   0   0   0   0   0   0   0   0   0   0   0   0   0   0   0   0   0\n",
      "   0   0   0   0   0   0   0   0   0   0   0   0   0   0   0   0   0   0\n",
      "   0   0   0   0   0   0   0   0   0   0   0   0   0   0   0   0   0   0\n",
      "   0   0   0   0   0   0   0   0   0   0   0   0   0   0   0   0   0   0\n",
      "   0   0   0   0   0   0   0   0   0   0   0   0   0   0   0   0   0   0\n",
      "   0   0   0   0   0   0   0   0   0   0   0   0   0   0   0   0   0   0\n",
      "   0   0   0   0   0   0   0   0   0   0   0   0   0   0   0   0   0   0\n",
      "   0   0   0   0   0   0   0   0   0   0   0   0   0   0   0   0   0   0\n",
      "   0   0   0   0   0   0   0   0   0   0   0   0   0   0   0   0   0   0\n",
      "   0   0   0   0   0   0   0   0   0   0   0   0   0   0   0   0   0   0\n",
      "   0   0   0   0   0   0   0   0   0   0   0   0   0   0   0   0   0   0\n",
      "   0   0   5 209 592  22 166  34  70  36  87 497]\n"
     ]
    }
   ],
   "source": [
    "print(type(fin_X))\n",
    "print(np.array(fin_X[0]).shape)\n",
    "print(len(fin_X))\n",
    "print(fin_X[0][0])\n",
    "print(\"Hello\")\n",
    "print(fin_X[0][1])\n",
    "print(\"Hello\")\n",
    "print(fin_X[1][2])\n",
    "# print(\"Hello\")\n",
    "# print(fin_X[0][1])\n",
    "# print(\"Hello\")\n",
    "# print(fin_X[0][2])"
   ]
  },
  {
   "cell_type": "code",
   "execution_count": 0,
   "metadata": {
    "colab": {},
    "colab_type": "code",
    "id": "W6qXkz2qolou"
   },
   "outputs": [],
   "source": [
    "###########################################################################################     Splitting final set to train and test     ###########################################################\n",
    "\n",
    "from sklearn.model_selection import train_test_split\n",
    "X_train_val,X_test,Y_train_val,Y_test = train_test_split(fin_X,labels,test_size=0.20)\n",
    "\n",
    "from sklearn.model_selection import train_test_split\n",
    "X_train,X_val,Y_train,Y_val = train_test_split(X_train_val,Y_train_val,test_size=0.25)"
   ]
  },
  {
   "cell_type": "code",
   "execution_count": 49,
   "metadata": {
    "colab": {
     "base_uri": "https://localhost:8080/",
     "height": 537
    },
    "colab_type": "code",
    "executionInfo": {
     "elapsed": 1337,
     "status": "ok",
     "timestamp": 1589351901045,
     "user": {
      "displayName": "Umesh Saraswat",
      "photoUrl": "https://lh3.googleusercontent.com/a-/AOh14GjYIq2q-RJY9TGYU0oihFsJ-KBX2UQxuLD6z10Y4w=s64",
      "userId": "10527726304653339617"
     },
     "user_tz": -330
    },
    "id": "UFPgSWR5ovT_",
    "outputId": "17a34624-16ce-4dc8-bd83-5d7a7a629042"
   },
   "outputs": [
    {
     "name": "stdout",
     "output_type": "stream",
     "text": [
      "<-------X_train------>\n",
      "<class 'list'>\n",
      "(2997, 3)\n",
      "(3,)\n",
      "(128, 128, 3)\n",
      "(200,)\n",
      "2997\n",
      "<class 'list'>\n",
      "<class 'list'>\n",
      "<class 'numpy.ndarray'>\n",
      "<class 'numpy.ndarray'>\n",
      "<-------Y_train------>\n",
      "<class 'list'>\n",
      "<class 'numpy.int64'>\n",
      "0\n",
      "<-------X_test------>\n",
      "<class 'numpy.ndarray'>\n",
      "<-------Y_test------>\n",
      "<class 'list'>\n",
      "(2997,)\n",
      "2997\n",
      "<class 'list'>\n",
      "<class 'list'>\n",
      "<class 'list'>\n",
      "<class 'list'>\n",
      "\n",
      "\n",
      "3996\n",
      "2997\n",
      "999\n",
      "999\n"
     ]
    }
   ],
   "source": [
    "print(\"<-------X_train------>\")\n",
    "print(type(X_train))\n",
    "print(np.array(X_train).shape)\n",
    "print(np.array(X_train[0]).shape)\n",
    "print(np.array(X_train[0][0]).shape)\n",
    "print(np.array(X_train[0][1]).shape)\n",
    "print(len(X_train))\n",
    "print(type(X_train))\n",
    "print(type(X_train[0]))\n",
    "print(type(X_train[0][0]))\n",
    "print(type(X_train[0][1]))\n",
    "print(\"<-------Y_train------>\")\n",
    "print(type(Y_train))\n",
    "print(type(Y_train[0]))\n",
    "print((Y_train[0]))\n",
    "print(\"<-------X_test------>\")\n",
    "print(type(X_test[0][0]))\n",
    "print(\"<-------Y_test------>\")\n",
    "print(type(Y_test))\n",
    "print(np.array(Y_train).shape)\n",
    "print(len(Y_train))\n",
    "\n",
    "print(type(X_train_val))\n",
    "print(type(X_train))\n",
    "print(type(X_val))\n",
    "print(type(X_test))\n",
    "print(\"\\n\")\n",
    "\n",
    "print(len(X_train_val))\n",
    "print(len(X_train))\n",
    "print(len(X_val))\n",
    "print(len(X_test))"
   ]
  },
  {
   "cell_type": "code",
   "execution_count": 0,
   "metadata": {
    "colab": {},
    "colab_type": "code",
    "id": "FbsVofpD4E71"
   },
   "outputs": [],
   "source": [
    "#<-------------------------------------------------------------------------------------    IMAGE CLASSIFIER   ------------------------------------------------------------------------------------------------>"
   ]
  },
  {
   "cell_type": "code",
   "execution_count": 0,
   "metadata": {
    "colab": {},
    "colab_type": "code",
    "id": "E89VOhk8qEwM"
   },
   "outputs": [],
   "source": [
    "################################################################     Extracting image data from final train and test dataset     #######################################\n",
    "X_train_img = []\n",
    "X_test_img = []\n",
    "X_val_img = []\n",
    "\n",
    "for i in range(len(X_train)):\n",
    "  temp1 = X_train[i][0].tolist()\n",
    "  X_train_img.append(temp1)\n",
    "  \n",
    "for i in range(len(X_test)):\n",
    "  temp1 = X_test[i][0].tolist()\n",
    "  X_test_img.append(temp1)\n",
    "\n",
    "for i in range(len(X_val)):\n",
    "  temp1 = X_val[i][0].tolist()\n",
    "  X_val_img.append(temp1)"
   ]
  },
  {
   "cell_type": "code",
   "execution_count": 59,
   "metadata": {
    "colab": {
     "base_uri": "https://localhost:8080/",
     "height": 520
    },
    "colab_type": "code",
    "executionInfo": {
     "elapsed": 44391,
     "status": "ok",
     "timestamp": 1589356402280,
     "user": {
      "displayName": "Umesh Saraswat",
      "photoUrl": "https://lh3.googleusercontent.com/a-/AOh14GjYIq2q-RJY9TGYU0oihFsJ-KBX2UQxuLD6z10Y4w=s64",
      "userId": "10527726304653339617"
     },
     "user_tz": -330
    },
    "id": "W6PtT2qYqJB1",
    "outputId": "0912d247-ab71-47aa-9a4a-f6d80835d75c"
   },
   "outputs": [
    {
     "name": "stdout",
     "output_type": "stream",
     "text": [
      "<-------X train------->\n",
      "<class 'list'>\n",
      "<class 'numpy.ndarray'>\n",
      "(2997, 128, 128, 3)\n",
      "2997\n",
      "<-------X test------->\n",
      "<class 'list'>\n",
      "<class 'numpy.ndarray'>\n",
      "(999, 128, 128, 3)\n",
      "999\n",
      "<-------X val------->\n",
      "<class 'list'>\n",
      "<class 'numpy.ndarray'>\n",
      "(999, 128, 128, 3)\n",
      "999\n",
      "<-------Y train------->\n",
      "<class 'numpy.ndarray'>\n",
      "<class 'numpy.ndarray'>\n",
      "(2997,)\n",
      "2997\n",
      "<-------Y test------->\n",
      "<class 'numpy.ndarray'>\n",
      "<class 'numpy.ndarray'>\n",
      "(999,)\n",
      "999\n",
      "<-------Y val------->\n",
      "<class 'numpy.ndarray'>\n",
      "<class 'numpy.ndarray'>\n",
      "(999,)\n",
      "999\n"
     ]
    }
   ],
   "source": [
    "print(\"<-------X train------->\")\n",
    "print(type(X_train_img))\n",
    "X_train_img = np.array(X_train_img)\n",
    "print(type(X_train_img))\n",
    "print(np.array(X_train_img).shape)\n",
    "print(len(X_train_img))\n",
    "print(\"<-------X test------->\")\n",
    "print(type(X_test_img))\n",
    "X_test_img = np.array(X_test_img)\n",
    "print(type(X_test_img))\n",
    "print(np.array(X_test_img).shape)\n",
    "print(len(X_test_img))\n",
    "print(\"<-------X val------->\")\n",
    "print(type(X_val_img))\n",
    "X_val_img = np.array(X_val_img)\n",
    "print(type(X_val_img))\n",
    "print(np.array(X_val_img).shape)\n",
    "print(len(X_val_img))\n",
    "print(\"<-------Y train------->\")\n",
    "print(type(Y_train))\n",
    "Y_train = np.array(Y_train)\n",
    "print(type(Y_train))\n",
    "print(np.array(Y_train).shape)\n",
    "print(len(Y_train))\n",
    "print(\"<-------Y test------->\")\n",
    "print(type(Y_test))\n",
    "Y_test = np.array(Y_test)\n",
    "print(type(Y_test))\n",
    "print(np.array(Y_test).shape)\n",
    "print(len(Y_test))\n",
    "print(\"<-------Y val------->\")\n",
    "print(type(Y_val))\n",
    "Y_val = np.array(Y_val)\n",
    "print(type(Y_val))\n",
    "print(np.array(Y_val).shape)\n",
    "print(len(Y_val))"
   ]
  },
  {
   "cell_type": "code",
   "execution_count": 60,
   "metadata": {
    "colab": {
     "base_uri": "https://localhost:8080/",
     "height": 673
    },
    "colab_type": "code",
    "executionInfo": {
     "elapsed": 2640,
     "status": "ok",
     "timestamp": 1589356415022,
     "user": {
      "displayName": "Umesh Saraswat",
      "photoUrl": "https://lh3.googleusercontent.com/a-/AOh14GjYIq2q-RJY9TGYU0oihFsJ-KBX2UQxuLD6z10Y4w=s64",
      "userId": "10527726304653339617"
     },
     "user_tz": -330
    },
    "id": "tJivF6qKyzBA",
    "outputId": "8eb5c2d0-f554-496e-aa32-762d4507ea20"
   },
   "outputs": [
    {
     "name": "stdout",
     "output_type": "stream",
     "text": [
      "Downloading data from https://github.com/fchollet/deep-learning-models/releases/download/v0.1/vgg16_weights_tf_dim_ordering_tf_kernels_notop.h5\n",
      "58892288/58889256 [==============================] - 1s 0us/step\n"
     ]
    },
    {
     "name": "stderr",
     "output_type": "stream",
     "text": [
      "/usr/local/lib/python3.6/dist-packages/ipykernel_launcher.py:21: FutureWarning: Passing a negative integer is deprecated in version 1.0 and will not be supported in future version. Instead, use None to not limit the column width.\n"
     ]
    },
    {
     "data": {
      "text/html": [
       "<div>\n",
       "<style scoped>\n",
       "    .dataframe tbody tr th:only-of-type {\n",
       "        vertical-align: middle;\n",
       "    }\n",
       "\n",
       "    .dataframe tbody tr th {\n",
       "        vertical-align: top;\n",
       "    }\n",
       "\n",
       "    .dataframe thead th {\n",
       "        text-align: right;\n",
       "    }\n",
       "</style>\n",
       "<table border=\"1\" class=\"dataframe\">\n",
       "  <thead>\n",
       "    <tr style=\"text-align: right;\">\n",
       "      <th></th>\n",
       "      <th>Layer Type</th>\n",
       "      <th>Layer Name</th>\n",
       "      <th>Layer Trainable</th>\n",
       "    </tr>\n",
       "  </thead>\n",
       "  <tbody>\n",
       "    <tr>\n",
       "      <th>0</th>\n",
       "      <td>&lt;keras.engine.input_layer.InputLayer object at 0x7f9c1185d518&gt;</td>\n",
       "      <td>input_2</td>\n",
       "      <td>False</td>\n",
       "    </tr>\n",
       "    <tr>\n",
       "      <th>1</th>\n",
       "      <td>&lt;keras.layers.convolutional.Conv2D object at 0x7f9c1185d390&gt;</td>\n",
       "      <td>block1_conv1</td>\n",
       "      <td>False</td>\n",
       "    </tr>\n",
       "    <tr>\n",
       "      <th>2</th>\n",
       "      <td>&lt;keras.layers.convolutional.Conv2D object at 0x7f9c1185d2b0&gt;</td>\n",
       "      <td>block1_conv2</td>\n",
       "      <td>False</td>\n",
       "    </tr>\n",
       "    <tr>\n",
       "      <th>3</th>\n",
       "      <td>&lt;keras.layers.pooling.MaxPooling2D object at 0x7f9c11f87f60&gt;</td>\n",
       "      <td>block1_pool</td>\n",
       "      <td>False</td>\n",
       "    </tr>\n",
       "    <tr>\n",
       "      <th>4</th>\n",
       "      <td>&lt;keras.layers.convolutional.Conv2D object at 0x7f9c1191c0f0&gt;</td>\n",
       "      <td>block2_conv1</td>\n",
       "      <td>False</td>\n",
       "    </tr>\n",
       "    <tr>\n",
       "      <th>5</th>\n",
       "      <td>&lt;keras.layers.convolutional.Conv2D object at 0x7f9c1191ceb8&gt;</td>\n",
       "      <td>block2_conv2</td>\n",
       "      <td>False</td>\n",
       "    </tr>\n",
       "    <tr>\n",
       "      <th>6</th>\n",
       "      <td>&lt;keras.layers.pooling.MaxPooling2D object at 0x7f9c119bacc0&gt;</td>\n",
       "      <td>block2_pool</td>\n",
       "      <td>False</td>\n",
       "    </tr>\n",
       "    <tr>\n",
       "      <th>7</th>\n",
       "      <td>&lt;keras.layers.convolutional.Conv2D object at 0x7f9c119ba470&gt;</td>\n",
       "      <td>block3_conv1</td>\n",
       "      <td>False</td>\n",
       "    </tr>\n",
       "    <tr>\n",
       "      <th>8</th>\n",
       "      <td>&lt;keras.layers.convolutional.Conv2D object at 0x7f9c11963550&gt;</td>\n",
       "      <td>block3_conv2</td>\n",
       "      <td>False</td>\n",
       "    </tr>\n",
       "    <tr>\n",
       "      <th>9</th>\n",
       "      <td>&lt;keras.layers.convolutional.Conv2D object at 0x7f9c11963588&gt;</td>\n",
       "      <td>block3_conv3</td>\n",
       "      <td>False</td>\n",
       "    </tr>\n",
       "    <tr>\n",
       "      <th>10</th>\n",
       "      <td>&lt;keras.layers.pooling.MaxPooling2D object at 0x7f9c1195d390&gt;</td>\n",
       "      <td>block3_pool</td>\n",
       "      <td>False</td>\n",
       "    </tr>\n",
       "    <tr>\n",
       "      <th>11</th>\n",
       "      <td>&lt;keras.layers.convolutional.Conv2D object at 0x7f9c1195d5f8&gt;</td>\n",
       "      <td>block4_conv1</td>\n",
       "      <td>False</td>\n",
       "    </tr>\n",
       "    <tr>\n",
       "      <th>12</th>\n",
       "      <td>&lt;keras.layers.convolutional.Conv2D object at 0x7f9c1196c080&gt;</td>\n",
       "      <td>block4_conv2</td>\n",
       "      <td>False</td>\n",
       "    </tr>\n",
       "    <tr>\n",
       "      <th>13</th>\n",
       "      <td>&lt;keras.layers.convolutional.Conv2D object at 0x7f9c119accc0&gt;</td>\n",
       "      <td>block4_conv3</td>\n",
       "      <td>False</td>\n",
       "    </tr>\n",
       "    <tr>\n",
       "      <th>14</th>\n",
       "      <td>&lt;keras.layers.pooling.MaxPooling2D object at 0x7f9c119acf60&gt;</td>\n",
       "      <td>block4_pool</td>\n",
       "      <td>False</td>\n",
       "    </tr>\n",
       "    <tr>\n",
       "      <th>15</th>\n",
       "      <td>&lt;keras.layers.convolutional.Conv2D object at 0x7f9c119ac198&gt;</td>\n",
       "      <td>block5_conv1</td>\n",
       "      <td>False</td>\n",
       "    </tr>\n",
       "    <tr>\n",
       "      <th>16</th>\n",
       "      <td>&lt;keras.layers.convolutional.Conv2D object at 0x7f9c119c4748&gt;</td>\n",
       "      <td>block5_conv2</td>\n",
       "      <td>False</td>\n",
       "    </tr>\n",
       "    <tr>\n",
       "      <th>17</th>\n",
       "      <td>&lt;keras.layers.convolutional.Conv2D object at 0x7f9c11a6b550&gt;</td>\n",
       "      <td>block5_conv3</td>\n",
       "      <td>False</td>\n",
       "    </tr>\n",
       "    <tr>\n",
       "      <th>18</th>\n",
       "      <td>&lt;keras.layers.pooling.MaxPooling2D object at 0x7f9c11a12e48&gt;</td>\n",
       "      <td>block5_pool</td>\n",
       "      <td>False</td>\n",
       "    </tr>\n",
       "    <tr>\n",
       "      <th>19</th>\n",
       "      <td>&lt;keras.layers.core.Flatten object at 0x7f9c1191c780&gt;</td>\n",
       "      <td>flatten_1</td>\n",
       "      <td>False</td>\n",
       "    </tr>\n",
       "  </tbody>\n",
       "</table>\n",
       "</div>"
      ],
      "text/plain": [
       "                                                        Layer Type  ... Layer Trainable\n",
       "0   <keras.engine.input_layer.InputLayer object at 0x7f9c1185d518>  ...  False         \n",
       "1   <keras.layers.convolutional.Conv2D object at 0x7f9c1185d390>    ...  False         \n",
       "2   <keras.layers.convolutional.Conv2D object at 0x7f9c1185d2b0>    ...  False         \n",
       "3   <keras.layers.pooling.MaxPooling2D object at 0x7f9c11f87f60>    ...  False         \n",
       "4   <keras.layers.convolutional.Conv2D object at 0x7f9c1191c0f0>    ...  False         \n",
       "5   <keras.layers.convolutional.Conv2D object at 0x7f9c1191ceb8>    ...  False         \n",
       "6   <keras.layers.pooling.MaxPooling2D object at 0x7f9c119bacc0>    ...  False         \n",
       "7   <keras.layers.convolutional.Conv2D object at 0x7f9c119ba470>    ...  False         \n",
       "8   <keras.layers.convolutional.Conv2D object at 0x7f9c11963550>    ...  False         \n",
       "9   <keras.layers.convolutional.Conv2D object at 0x7f9c11963588>    ...  False         \n",
       "10  <keras.layers.pooling.MaxPooling2D object at 0x7f9c1195d390>    ...  False         \n",
       "11  <keras.layers.convolutional.Conv2D object at 0x7f9c1195d5f8>    ...  False         \n",
       "12  <keras.layers.convolutional.Conv2D object at 0x7f9c1196c080>    ...  False         \n",
       "13  <keras.layers.convolutional.Conv2D object at 0x7f9c119accc0>    ...  False         \n",
       "14  <keras.layers.pooling.MaxPooling2D object at 0x7f9c119acf60>    ...  False         \n",
       "15  <keras.layers.convolutional.Conv2D object at 0x7f9c119ac198>    ...  False         \n",
       "16  <keras.layers.convolutional.Conv2D object at 0x7f9c119c4748>    ...  False         \n",
       "17  <keras.layers.convolutional.Conv2D object at 0x7f9c11a6b550>    ...  False         \n",
       "18  <keras.layers.pooling.MaxPooling2D object at 0x7f9c11a12e48>    ...  False         \n",
       "19  <keras.layers.core.Flatten object at 0x7f9c1191c780>            ...  False         \n",
       "\n",
       "[20 rows x 3 columns]"
      ]
     },
     "execution_count": 60,
     "metadata": {
      "tags": []
     },
     "output_type": "execute_result"
    }
   ],
   "source": [
    "############################################################################################    VGG16  Model   ###########################################################################\n",
    "from keras.applications import vgg16\n",
    "from keras.models import Model\n",
    "import keras\n",
    "\n",
    "input_shape = (IMG_SIZE, IMG_SIZE, 3)    \n",
    "\n",
    "vgg = vgg16.VGG16(include_top=False, weights='imagenet', input_shape=input_shape)\n",
    "\n",
    "output = vgg.layers[-1].output\n",
    "output = keras.layers.Flatten()(output)\n",
    "vgg_model = Model(vgg.input, output)\n",
    "\n",
    "\n",
    "###############  Without fine tuning\n",
    "vgg_model.trainable = False                \n",
    "for layer in vgg_model.layers:\n",
    "    layer.trainable = False\n",
    "\n",
    "\n",
    "import pandas as pd\n",
    "pd.set_option('max_colwidth', -1)\n",
    "layers = [(layer, layer.name, layer.trainable) for layer in vgg_model.layers]\n",
    "pd.DataFrame(layers, columns=['Layer Type', 'Layer Name', 'Layer Trainable'])      "
   ]
  },
  {
   "cell_type": "code",
   "execution_count": 61,
   "metadata": {
    "colab": {
     "base_uri": "https://localhost:8080/",
     "height": 117
    },
    "colab_type": "code",
    "executionInfo": {
     "elapsed": 414729,
     "status": "ok",
     "timestamp": 1589356838137,
     "user": {
      "displayName": "Umesh Saraswat",
      "photoUrl": "https://lh3.googleusercontent.com/a-/AOh14GjYIq2q-RJY9TGYU0oihFsJ-KBX2UQxuLD6z10Y4w=s64",
      "userId": "10527726304653339617"
     },
     "user_tz": -330
    },
    "id": "AUkdefwPpzSR",
    "outputId": "47134b20-d2d8-47cd-b2b5-df7a16cac674"
   },
   "outputs": [
    {
     "name": "stdout",
     "output_type": "stream",
     "text": [
      "2997/2997 [==============================] - 247s 82ms/step\n",
      "999/999 [==============================] - 83s 83ms/step\n",
      "999/999 [==============================] - 82s 82ms/step\n",
      "Train Bottleneck Features: (2997, 8192) \n",
      "Validation Bottleneck Features: (999, 8192) \n",
      "Test Bottleneck Features: (999, 8192)\n"
     ]
    }
   ],
   "source": [
    "#############    VGG without augmentation\n",
    "def get_bottleneck_features(model, input_imgs):\n",
    "    features = model.predict(input_imgs, verbose=1)\n",
    "    return features\n",
    "    \n",
    "train_feat_vgg = get_bottleneck_features(vgg_model, X_train_img)\n",
    "val_feat_vgg = get_bottleneck_features(vgg_model, X_val_img)\n",
    "test_feat_vgg = get_bottleneck_features(vgg_model, X_test_img)\n",
    "\n",
    "print('Train Bottleneck Features:', train_feat_vgg.shape, \n",
    "      '\\nValidation Bottleneck Features:', val_feat_vgg.shape, \n",
    "      '\\nTest Bottleneck Features:', test_feat_vgg.shape)"
   ]
  },
  {
   "cell_type": "code",
   "execution_count": 0,
   "metadata": {
    "colab": {},
    "colab_type": "code",
    "id": "RHyjy0ZUK9Vl"
   },
   "outputs": [],
   "source": [
    "# ###############     VGG16 with augmentation\n",
    "# from keras.preprocessing.image import ImageDataGenerator\n",
    "# train_datagen = ImageDataGenerator(rescale=1./255, zoom_range=0.3, rotation_range=50,\n",
    "#                                    width_shift_range=0.2, height_shift_range=0.2, shear_range=0.2, \n",
    "#                                    horizontal_flip=True, fill_mode='nearest')\n",
    "\n",
    "# val_datagen = ImageDataGenerator(rescale=1./255)\n",
    "\n",
    "# train_generator = train_datagen.flow(X_train_img, Y_train, batch_size=30)\n",
    "# val_generator = val_datagen.flow(X_val_img, Y_val, batch_size=20)\n",
    "# val_generator = val_datagen.flow(X_test_img, Y_test, batch_size=20)"
   ]
  },
  {
   "cell_type": "code",
   "execution_count": 62,
   "metadata": {
    "colab": {
     "base_uri": "https://localhost:8080/",
     "height": 33
    },
    "colab_type": "code",
    "executionInfo": {
     "elapsed": 1249,
     "status": "ok",
     "timestamp": 1589356881885,
     "user": {
      "displayName": "Umesh Saraswat",
      "photoUrl": "https://lh3.googleusercontent.com/a-/AOh14GjYIq2q-RJY9TGYU0oihFsJ-KBX2UQxuLD6z10Y4w=s64",
      "userId": "10527726304653339617"
     },
     "user_tz": -330
    },
    "id": "zTXIyY8Dq1Fp",
    "outputId": "4d49d3e2-2560-40a1-855b-3acad89190ae"
   },
   "outputs": [
    {
     "name": "stdout",
     "output_type": "stream",
     "text": [
      "8192\n"
     ]
    }
   ],
   "source": [
    "print(vgg_model.output_shape[1])"
   ]
  },
  {
   "cell_type": "code",
   "execution_count": 1,
   "metadata": {
    "colab": {
     "base_uri": "https://localhost:8080/",
     "height": 801
    },
    "colab_type": "code",
    "executionInfo": {
     "elapsed": 2692,
     "status": "ok",
     "timestamp": 1589356911457,
     "user": {
      "displayName": "Umesh Saraswat",
      "photoUrl": "https://lh3.googleusercontent.com/a-/AOh14GjYIq2q-RJY9TGYU0oihFsJ-KBX2UQxuLD6z10Y4w=s64",
      "userId": "10527726304653339617"
     },
     "user_tz": -330
    },
    "id": "Y8QrcZhLqS5D",
    "outputId": "9a66cb26-1e8e-4ac0-dba1-0ba55fb44699"
   },
   "outputs": [
    {
     "name": "stderr",
     "output_type": "stream",
     "text": [
      "Using TensorFlow backend.\n"
     ]
    },
    {
     "ename": "NameError",
     "evalue": "name 'vgg_model' is not defined",
     "output_type": "error",
     "traceback": [
      "\u001b[0;31m---------------------------------------------------------------------------\u001b[0m",
      "\u001b[0;31mNameError\u001b[0m                                 Traceback (most recent call last)",
      "\u001b[0;32m<ipython-input-1-e49436003263>\u001b[0m in \u001b[0;36m<module>\u001b[0;34m\u001b[0m\n\u001b[1;32m      9\u001b[0m \u001b[0;34m\u001b[0m\u001b[0m\n\u001b[1;32m     10\u001b[0m \u001b[0;31m# ##### VGG without aug --------->\u001b[0m\u001b[0;34m\u001b[0m\u001b[0;34m\u001b[0m\u001b[0;34m\u001b[0m\u001b[0m\n\u001b[0;32m---> 11\u001b[0;31m \u001b[0minput_layer\u001b[0m \u001b[0;34m=\u001b[0m \u001b[0mvgg_model\u001b[0m\u001b[0;34m.\u001b[0m\u001b[0moutput_shape\u001b[0m\u001b[0;34m[\u001b[0m\u001b[0;36m1\u001b[0m\u001b[0;34m]\u001b[0m\u001b[0;34m\u001b[0m\u001b[0;34m\u001b[0m\u001b[0m\n\u001b[0m\u001b[1;32m     12\u001b[0m \u001b[0mclassifier_img\u001b[0m\u001b[0;34m.\u001b[0m\u001b[0madd\u001b[0m\u001b[0;34m(\u001b[0m\u001b[0mInputLayer\u001b[0m\u001b[0;34m(\u001b[0m\u001b[0minput_shape\u001b[0m\u001b[0;34m=\u001b[0m\u001b[0;34m(\u001b[0m\u001b[0minput_layer\u001b[0m\u001b[0;34m,\u001b[0m\u001b[0;34m)\u001b[0m\u001b[0;34m)\u001b[0m\u001b[0;34m)\u001b[0m\u001b[0;34m\u001b[0m\u001b[0;34m\u001b[0m\u001b[0m\n\u001b[1;32m     13\u001b[0m \u001b[0;34m\u001b[0m\u001b[0m\n",
      "\u001b[0;31mNameError\u001b[0m: name 'vgg_model' is not defined"
     ]
    }
   ],
   "source": [
    "######################################################################################     VGG16 model with deep layers for images   ####################################################################\n",
    "from tensorflow.python.keras import Sequential\n",
    "from keras.applications import vgg16\n",
    "from tensorflow.python.keras.layers import Dense, Conv2D, MaxPooling2D,  Flatten, InputLayer, BatchNormalization, Dropout\n",
    "from tensorflow.keras.utils import plot_model\n",
    "\n",
    "# ###### Part 1 - Initialising the CNN ------>\n",
    "classifier_img = Sequential()\n",
    "\n",
    "# ##### VGG without aug --------->\n",
    "input_layer = vgg_model.output_shape[1]\n",
    "classifier_img.add(InputLayer(input_shape=(input_layer,)))\n",
    "\n",
    "# # ######  VGG with Aug --------->\n",
    "# # classifier_img.add(vgg_model)\n",
    "\n",
    "# ###### Full Connection ->\n",
    "classifier_img.add(Dense(units = 512, activation = 'relu',input_dim = input_layer))\n",
    "classifier_img.add(BatchNormalization())\n",
    "classifier_img.add(Dropout(0.5))\n",
    "classifier_img.add(Dense(units = 1, activation = 'sigmoid'))\n",
    "\n",
    "classifier_img.summary()\n",
    "plot_model(classifier_img, to_file='classifier_img_plot.png', show_shapes=True, show_layer_names=True)"
   ]
  },
  {
   "cell_type": "code",
   "execution_count": 64,
   "metadata": {
    "colab": {
     "base_uri": "https://localhost:8080/",
     "height": 1000
    },
    "colab_type": "code",
    "executionInfo": {
     "elapsed": 472103,
     "status": "ok",
     "timestamp": 1589357405789,
     "user": {
      "displayName": "Umesh Saraswat",
      "photoUrl": "https://lh3.googleusercontent.com/a-/AOh14GjYIq2q-RJY9TGYU0oihFsJ-KBX2UQxuLD6z10Y4w=s64",
      "userId": "10527726304653339617"
     },
     "user_tz": -330
    },
    "id": "Cq0jZNlR8s6-",
    "outputId": "d3d9c3b2-5a48-4695-deb1-1c5478308adf"
   },
   "outputs": [
    {
     "name": "stdout",
     "output_type": "stream",
     "text": [
      "Epoch 1/100\n",
      "300/300 [==============================] - 5s 15ms/step - loss: 0.7451 - accuracy: 0.6456 - val_loss: 0.5895 - val_accuracy: 0.6677\n",
      "Epoch 2/100\n",
      "300/300 [==============================] - 5s 15ms/step - loss: 0.5176 - accuracy: 0.7394 - val_loss: 0.6292 - val_accuracy: 0.6927\n",
      "Epoch 3/100\n",
      "300/300 [==============================] - 4s 15ms/step - loss: 0.4528 - accuracy: 0.7908 - val_loss: 0.6644 - val_accuracy: 0.6917\n",
      "Epoch 4/100\n",
      "300/300 [==============================] - 4s 15ms/step - loss: 0.4172 - accuracy: 0.8108 - val_loss: 0.6166 - val_accuracy: 0.7057\n",
      "Epoch 5/100\n",
      "300/300 [==============================] - 5s 15ms/step - loss: 0.3754 - accuracy: 0.8345 - val_loss: 0.6686 - val_accuracy: 0.7137\n",
      "Epoch 6/100\n",
      "300/300 [==============================] - 4s 15ms/step - loss: 0.3442 - accuracy: 0.8505 - val_loss: 0.6724 - val_accuracy: 0.6957\n",
      "Epoch 7/100\n",
      "300/300 [==============================] - 4s 15ms/step - loss: 0.3108 - accuracy: 0.8679 - val_loss: 0.7110 - val_accuracy: 0.7087\n",
      "Epoch 8/100\n",
      "300/300 [==============================] - 4s 15ms/step - loss: 0.2872 - accuracy: 0.8836 - val_loss: 0.9216 - val_accuracy: 0.6777\n",
      "Epoch 9/100\n",
      "300/300 [==============================] - 5s 18ms/step - loss: 0.2789 - accuracy: 0.8809 - val_loss: 0.9339 - val_accuracy: 0.6747\n",
      "Epoch 10/100\n",
      "300/300 [==============================] - 5s 18ms/step - loss: 0.2432 - accuracy: 0.9022 - val_loss: 0.7987 - val_accuracy: 0.6997\n",
      "Epoch 11/100\n",
      "300/300 [==============================] - 5s 16ms/step - loss: 0.2466 - accuracy: 0.9002 - val_loss: 0.8648 - val_accuracy: 0.6867\n",
      "Epoch 12/100\n",
      "300/300 [==============================] - 5s 16ms/step - loss: 0.2195 - accuracy: 0.9159 - val_loss: 0.9126 - val_accuracy: 0.6797\n",
      "Epoch 13/100\n",
      "300/300 [==============================] - 4s 15ms/step - loss: 0.2078 - accuracy: 0.9173 - val_loss: 0.9868 - val_accuracy: 0.6887\n",
      "Epoch 14/100\n",
      "300/300 [==============================] - 4s 15ms/step - loss: 0.2090 - accuracy: 0.9139 - val_loss: 0.9127 - val_accuracy: 0.7087\n",
      "Epoch 15/100\n",
      "300/300 [==============================] - 4s 15ms/step - loss: 0.1825 - accuracy: 0.9249 - val_loss: 1.0859 - val_accuracy: 0.6877\n",
      "Epoch 16/100\n",
      "300/300 [==============================] - 4s 15ms/step - loss: 0.1953 - accuracy: 0.9196 - val_loss: 1.1180 - val_accuracy: 0.6907\n",
      "Epoch 17/100\n",
      "300/300 [==============================] - 4s 14ms/step - loss: 0.1790 - accuracy: 0.9269 - val_loss: 1.2732 - val_accuracy: 0.6957\n",
      "Epoch 18/100\n",
      "300/300 [==============================] - 4s 15ms/step - loss: 0.1503 - accuracy: 0.9413 - val_loss: 1.1970 - val_accuracy: 0.7127\n",
      "Epoch 19/100\n",
      "300/300 [==============================] - 5s 15ms/step - loss: 0.1759 - accuracy: 0.9309 - val_loss: 1.1275 - val_accuracy: 0.6977\n",
      "Epoch 20/100\n",
      "300/300 [==============================] - 5s 15ms/step - loss: 0.1684 - accuracy: 0.9349 - val_loss: 1.1059 - val_accuracy: 0.7187\n",
      "Epoch 21/100\n",
      "300/300 [==============================] - 5s 17ms/step - loss: 0.1888 - accuracy: 0.9233 - val_loss: 1.1248 - val_accuracy: 0.6887\n",
      "Epoch 22/100\n",
      "300/300 [==============================] - 6s 19ms/step - loss: 0.1442 - accuracy: 0.9439 - val_loss: 1.1118 - val_accuracy: 0.7037\n",
      "Epoch 23/100\n",
      "300/300 [==============================] - 5s 16ms/step - loss: 0.1605 - accuracy: 0.9339 - val_loss: 1.1856 - val_accuracy: 0.6947\n",
      "Epoch 24/100\n",
      "300/300 [==============================] - 4s 15ms/step - loss: 0.1407 - accuracy: 0.9459 - val_loss: 1.1695 - val_accuracy: 0.7197\n",
      "Epoch 25/100\n",
      "300/300 [==============================] - 5s 16ms/step - loss: 0.1166 - accuracy: 0.9560 - val_loss: 1.2278 - val_accuracy: 0.7367\n",
      "Epoch 26/100\n",
      "300/300 [==============================] - 5s 17ms/step - loss: 0.1453 - accuracy: 0.9399 - val_loss: 1.3784 - val_accuracy: 0.6767\n",
      "Epoch 27/100\n",
      "300/300 [==============================] - 5s 16ms/step - loss: 0.1414 - accuracy: 0.9473 - val_loss: 1.2502 - val_accuracy: 0.7157\n",
      "Epoch 28/100\n",
      "300/300 [==============================] - 5s 15ms/step - loss: 0.1303 - accuracy: 0.9446 - val_loss: 1.3375 - val_accuracy: 0.7127\n",
      "Epoch 29/100\n",
      "300/300 [==============================] - 5s 16ms/step - loss: 0.1209 - accuracy: 0.9536 - val_loss: 1.2899 - val_accuracy: 0.7037\n",
      "Epoch 30/100\n",
      "300/300 [==============================] - 5s 16ms/step - loss: 0.1492 - accuracy: 0.9416 - val_loss: 1.2463 - val_accuracy: 0.7107\n",
      "Epoch 31/100\n",
      "300/300 [==============================] - 4s 15ms/step - loss: 0.1294 - accuracy: 0.9536 - val_loss: 1.2824 - val_accuracy: 0.7007\n",
      "Epoch 32/100\n",
      "300/300 [==============================] - 5s 16ms/step - loss: 0.1002 - accuracy: 0.9580 - val_loss: 1.4598 - val_accuracy: 0.6737\n",
      "Epoch 33/100\n",
      "300/300 [==============================] - 5s 16ms/step - loss: 0.1225 - accuracy: 0.9536 - val_loss: 1.3355 - val_accuracy: 0.6957\n",
      "Epoch 34/100\n",
      "300/300 [==============================] - 5s 17ms/step - loss: 0.1091 - accuracy: 0.9563 - val_loss: 1.3831 - val_accuracy: 0.7057\n",
      "Epoch 35/100\n",
      "300/300 [==============================] - 5s 17ms/step - loss: 0.1299 - accuracy: 0.9516 - val_loss: 1.4660 - val_accuracy: 0.6627\n",
      "Epoch 36/100\n",
      "300/300 [==============================] - 5s 17ms/step - loss: 0.1089 - accuracy: 0.9586 - val_loss: 1.4275 - val_accuracy: 0.6837\n",
      "Epoch 37/100\n",
      "300/300 [==============================] - 5s 15ms/step - loss: 0.1120 - accuracy: 0.9590 - val_loss: 1.4114 - val_accuracy: 0.6907\n",
      "Epoch 38/100\n",
      "300/300 [==============================] - 5s 16ms/step - loss: 0.1140 - accuracy: 0.9510 - val_loss: 1.4082 - val_accuracy: 0.7087\n",
      "Epoch 39/100\n",
      "300/300 [==============================] - 5s 16ms/step - loss: 0.1047 - accuracy: 0.9646 - val_loss: 1.3209 - val_accuracy: 0.6957\n",
      "Epoch 40/100\n",
      "300/300 [==============================] - 5s 15ms/step - loss: 0.1015 - accuracy: 0.9626 - val_loss: 1.4019 - val_accuracy: 0.7087\n",
      "Epoch 41/100\n",
      "300/300 [==============================] - 4s 15ms/step - loss: 0.1111 - accuracy: 0.9570 - val_loss: 1.3427 - val_accuracy: 0.7167\n",
      "Epoch 42/100\n",
      "300/300 [==============================] - 5s 16ms/step - loss: 0.1092 - accuracy: 0.9533 - val_loss: 1.3985 - val_accuracy: 0.6927\n",
      "Epoch 43/100\n",
      "300/300 [==============================] - 5s 15ms/step - loss: 0.1012 - accuracy: 0.9633 - val_loss: 1.4078 - val_accuracy: 0.7177\n",
      "Epoch 44/100\n",
      "300/300 [==============================] - 5s 16ms/step - loss: 0.1061 - accuracy: 0.9603 - val_loss: 1.4196 - val_accuracy: 0.6967\n",
      "Epoch 45/100\n",
      "300/300 [==============================] - 5s 18ms/step - loss: 0.1002 - accuracy: 0.9600 - val_loss: 1.4381 - val_accuracy: 0.6997\n",
      "Epoch 46/100\n",
      "300/300 [==============================] - 5s 16ms/step - loss: 0.1001 - accuracy: 0.9613 - val_loss: 1.5780 - val_accuracy: 0.6887\n",
      "Epoch 47/100\n",
      "300/300 [==============================] - 5s 15ms/step - loss: 0.0942 - accuracy: 0.9673 - val_loss: 1.5711 - val_accuracy: 0.6927\n",
      "Epoch 48/100\n",
      "300/300 [==============================] - 5s 16ms/step - loss: 0.1062 - accuracy: 0.9563 - val_loss: 1.5199 - val_accuracy: 0.7087\n",
      "Epoch 49/100\n",
      "300/300 [==============================] - 5s 16ms/step - loss: 0.1165 - accuracy: 0.9563 - val_loss: 1.4608 - val_accuracy: 0.6997\n",
      "Epoch 50/100\n",
      "300/300 [==============================] - 5s 15ms/step - loss: 0.0851 - accuracy: 0.9690 - val_loss: 1.5450 - val_accuracy: 0.7047\n",
      "Epoch 51/100\n",
      "300/300 [==============================] - 5s 15ms/step - loss: 0.1008 - accuracy: 0.9603 - val_loss: 1.4728 - val_accuracy: 0.6987\n",
      "Epoch 52/100\n",
      "300/300 [==============================] - 5s 16ms/step - loss: 0.1010 - accuracy: 0.9610 - val_loss: 1.4967 - val_accuracy: 0.7037\n",
      "Epoch 53/100\n",
      "300/300 [==============================] - 5s 16ms/step - loss: 0.0944 - accuracy: 0.9613 - val_loss: 1.5685 - val_accuracy: 0.6847\n",
      "Epoch 54/100\n",
      "300/300 [==============================] - 4s 15ms/step - loss: 0.1141 - accuracy: 0.9576 - val_loss: 1.6361 - val_accuracy: 0.6807\n",
      "Epoch 55/100\n",
      "300/300 [==============================] - 5s 16ms/step - loss: 0.0959 - accuracy: 0.9643 - val_loss: 1.5643 - val_accuracy: 0.6867\n",
      "Epoch 56/100\n",
      "300/300 [==============================] - 4s 15ms/step - loss: 0.1021 - accuracy: 0.9630 - val_loss: 1.5109 - val_accuracy: 0.6997\n",
      "Epoch 57/100\n",
      "300/300 [==============================] - 4s 15ms/step - loss: 0.0828 - accuracy: 0.9710 - val_loss: 1.6028 - val_accuracy: 0.6867\n",
      "Epoch 58/100\n",
      "300/300 [==============================] - 4s 15ms/step - loss: 0.1135 - accuracy: 0.9580 - val_loss: 1.5333 - val_accuracy: 0.7057\n",
      "Epoch 59/100\n",
      "300/300 [==============================] - 5s 16ms/step - loss: 0.0942 - accuracy: 0.9650 - val_loss: 1.5174 - val_accuracy: 0.6987\n",
      "Epoch 60/100\n",
      "300/300 [==============================] - 4s 15ms/step - loss: 0.0943 - accuracy: 0.9686 - val_loss: 1.5562 - val_accuracy: 0.6947\n",
      "Epoch 61/100\n",
      "300/300 [==============================] - 4s 15ms/step - loss: 0.0811 - accuracy: 0.9696 - val_loss: 1.7076 - val_accuracy: 0.6787\n",
      "Epoch 62/100\n",
      "300/300 [==============================] - 5s 16ms/step - loss: 0.0878 - accuracy: 0.9660 - val_loss: 1.5507 - val_accuracy: 0.7077\n",
      "Epoch 63/100\n",
      "300/300 [==============================] - 5s 16ms/step - loss: 0.0889 - accuracy: 0.9633 - val_loss: 1.5769 - val_accuracy: 0.7077\n",
      "Epoch 64/100\n",
      "300/300 [==============================] - 5s 16ms/step - loss: 0.0795 - accuracy: 0.9706 - val_loss: 1.7157 - val_accuracy: 0.6827\n",
      "Epoch 65/100\n",
      "300/300 [==============================] - 5s 15ms/step - loss: 0.0810 - accuracy: 0.9710 - val_loss: 1.6963 - val_accuracy: 0.6837\n",
      "Epoch 66/100\n",
      "300/300 [==============================] - 5s 16ms/step - loss: 0.0932 - accuracy: 0.9686 - val_loss: 1.6717 - val_accuracy: 0.6857\n",
      "Epoch 67/100\n",
      "300/300 [==============================] - 4s 15ms/step - loss: 0.0771 - accuracy: 0.9723 - val_loss: 1.6760 - val_accuracy: 0.6887\n",
      "Epoch 68/100\n",
      "300/300 [==============================] - 4s 15ms/step - loss: 0.0825 - accuracy: 0.9663 - val_loss: 1.6739 - val_accuracy: 0.7037\n",
      "Epoch 69/100\n",
      "300/300 [==============================] - 5s 16ms/step - loss: 0.0968 - accuracy: 0.9633 - val_loss: 1.6430 - val_accuracy: 0.6887\n",
      "Epoch 70/100\n",
      "300/300 [==============================] - 5s 16ms/step - loss: 0.0797 - accuracy: 0.9703 - val_loss: 1.6189 - val_accuracy: 0.7017\n",
      "Epoch 71/100\n",
      "300/300 [==============================] - 5s 16ms/step - loss: 0.0910 - accuracy: 0.9636 - val_loss: 1.6602 - val_accuracy: 0.6937\n",
      "Epoch 72/100\n",
      "300/300 [==============================] - 5s 17ms/step - loss: 0.0859 - accuracy: 0.9703 - val_loss: 1.7331 - val_accuracy: 0.6887\n",
      "Epoch 73/100\n",
      "300/300 [==============================] - 5s 17ms/step - loss: 0.0778 - accuracy: 0.9723 - val_loss: 1.6870 - val_accuracy: 0.6937\n",
      "Epoch 74/100\n",
      "300/300 [==============================] - 5s 16ms/step - loss: 0.0692 - accuracy: 0.9720 - val_loss: 1.6999 - val_accuracy: 0.6947\n",
      "Epoch 75/100\n",
      "300/300 [==============================] - 5s 15ms/step - loss: 0.0690 - accuracy: 0.9743 - val_loss: 1.7983 - val_accuracy: 0.7067\n",
      "Epoch 76/100\n",
      "300/300 [==============================] - 5s 17ms/step - loss: 0.0960 - accuracy: 0.9613 - val_loss: 1.7051 - val_accuracy: 0.6857\n",
      "Epoch 77/100\n",
      "300/300 [==============================] - 5s 15ms/step - loss: 0.0674 - accuracy: 0.9743 - val_loss: 1.7253 - val_accuracy: 0.7077\n",
      "Epoch 78/100\n",
      "300/300 [==============================] - 4s 15ms/step - loss: 0.0842 - accuracy: 0.9696 - val_loss: 1.7521 - val_accuracy: 0.6937\n",
      "Epoch 79/100\n",
      "300/300 [==============================] - 5s 15ms/step - loss: 0.0860 - accuracy: 0.9626 - val_loss: 1.7265 - val_accuracy: 0.6787\n",
      "Epoch 80/100\n",
      "300/300 [==============================] - 5s 15ms/step - loss: 0.0721 - accuracy: 0.9726 - val_loss: 1.8395 - val_accuracy: 0.6917\n",
      "Epoch 81/100\n",
      "300/300 [==============================] - 4s 15ms/step - loss: 0.0767 - accuracy: 0.9713 - val_loss: 1.6878 - val_accuracy: 0.7037\n",
      "Epoch 82/100\n",
      "300/300 [==============================] - 5s 15ms/step - loss: 0.0796 - accuracy: 0.9693 - val_loss: 1.7304 - val_accuracy: 0.6967\n",
      "Epoch 83/100\n",
      "300/300 [==============================] - 5s 16ms/step - loss: 0.0887 - accuracy: 0.9660 - val_loss: 1.7596 - val_accuracy: 0.6987\n",
      "Epoch 84/100\n",
      "300/300 [==============================] - 4s 15ms/step - loss: 0.0671 - accuracy: 0.9730 - val_loss: 1.7888 - val_accuracy: 0.6957\n",
      "Epoch 85/100\n",
      "300/300 [==============================] - 5s 15ms/step - loss: 0.0960 - accuracy: 0.9676 - val_loss: 1.6103 - val_accuracy: 0.6987\n",
      "Epoch 86/100\n",
      "300/300 [==============================] - 5s 16ms/step - loss: 0.0745 - accuracy: 0.9706 - val_loss: 1.5545 - val_accuracy: 0.7037\n",
      "Epoch 87/100\n",
      "300/300 [==============================] - 5s 15ms/step - loss: 0.0814 - accuracy: 0.9686 - val_loss: 1.5746 - val_accuracy: 0.6917\n",
      "Epoch 88/100\n",
      "300/300 [==============================] - 4s 15ms/step - loss: 0.0721 - accuracy: 0.9743 - val_loss: 1.6634 - val_accuracy: 0.6937\n",
      "Epoch 89/100\n",
      "300/300 [==============================] - 5s 16ms/step - loss: 0.0921 - accuracy: 0.9640 - val_loss: 1.6418 - val_accuracy: 0.7037\n",
      "Epoch 90/100\n",
      "300/300 [==============================] - 5s 15ms/step - loss: 0.1011 - accuracy: 0.9603 - val_loss: 1.6063 - val_accuracy: 0.6907\n",
      "Epoch 91/100\n",
      "300/300 [==============================] - 5s 15ms/step - loss: 0.0865 - accuracy: 0.9653 - val_loss: 1.6671 - val_accuracy: 0.7007\n",
      "Epoch 92/100\n",
      "300/300 [==============================] - 5s 15ms/step - loss: 0.0742 - accuracy: 0.9716 - val_loss: 1.6984 - val_accuracy: 0.7077\n",
      "Epoch 93/100\n",
      "300/300 [==============================] - 5s 16ms/step - loss: 0.0785 - accuracy: 0.9726 - val_loss: 1.7638 - val_accuracy: 0.6807\n",
      "Epoch 94/100\n",
      "300/300 [==============================] - 4s 15ms/step - loss: 0.0724 - accuracy: 0.9723 - val_loss: 1.7397 - val_accuracy: 0.7037\n",
      "Epoch 95/100\n",
      "300/300 [==============================] - 4s 15ms/step - loss: 0.0569 - accuracy: 0.9786 - val_loss: 1.7860 - val_accuracy: 0.6957\n",
      "Epoch 96/100\n",
      "300/300 [==============================] - 5s 16ms/step - loss: 0.0621 - accuracy: 0.9746 - val_loss: 1.8091 - val_accuracy: 0.6947\n",
      "Epoch 97/100\n",
      "300/300 [==============================] - 4s 15ms/step - loss: 0.0837 - accuracy: 0.9676 - val_loss: 1.7710 - val_accuracy: 0.6977\n",
      "Epoch 98/100\n",
      "300/300 [==============================] - 5s 15ms/step - loss: 0.0540 - accuracy: 0.9783 - val_loss: 1.7794 - val_accuracy: 0.7057\n",
      "Epoch 99/100\n",
      "300/300 [==============================] - 5s 16ms/step - loss: 0.0588 - accuracy: 0.9763 - val_loss: 1.7599 - val_accuracy: 0.6937\n",
      "Epoch 100/100\n",
      "300/300 [==============================] - 5s 16ms/step - loss: 0.0825 - accuracy: 0.9730 - val_loss: 1.6398 - val_accuracy: 0.7047\n",
      "dict_keys(['loss', 'accuracy', 'val_loss', 'val_accuracy'])\n"
     ]
    },
    {
     "data": {
      "image/png": "[encoded data removed]",
      "text/plain": [
       "<Figure size 432x288 with 1 Axes>"
      ]
     },
     "metadata": {
      "needs_background": "light",
      "tags": []
     },
     "output_type": "display_data"
    },
    {
     "data": {
      "image/png": "[encoded data removed]",
      "text/plain": [
       "<Figure size 432x288 with 1 Axes>"
      ]
     },
     "metadata": {
      "needs_background": "light",
      "tags": []
     },
     "output_type": "display_data"
    }
   ],
   "source": [
    "###########################################################################    Training of VGG16 over Images    #########################################################\n",
    "classifier_img.compile(loss='binary_crossentropy',optimizer='adam',metrics=['accuracy'])\n",
    "\n",
    "history1 = classifier_img.fit(train_feat_vgg,Y_train,batch_size=10,epochs=100,verbose=1,validation_data=(val_feat_vgg,Y_val))  ############# testing epochs =2\n",
    "\n",
    "##################### list all data in history\n",
    "print(history1.history.keys())\n",
    "##################### summarize history for accuracy\n",
    "plt.plot(history1.history['accuracy'])\n",
    "plt.plot(history1.history['val_accuracy'])\n",
    "plt.title('model accuracy')\n",
    "plt.ylabel('accuracy')\n",
    "plt.xlabel('epoch')\n",
    "plt.legend(['train', 'test'], loc='upper left')\n",
    "plt.show()\n",
    "###################### summarize history for loss\n",
    "plt.plot(history1.history['loss'])\n",
    "plt.plot(history1.history['val_loss'])\n",
    "plt.title('model loss')\n",
    "plt.ylabel('loss')\n",
    "plt.xlabel('epoch')\n",
    "plt.legend(['train', 'test'], loc='upper left')\n",
    "plt.show()"
   ]
  },
  {
   "cell_type": "code",
   "execution_count": 65,
   "metadata": {
    "colab": {
     "base_uri": "https://localhost:8080/",
     "height": 171
    },
    "colab_type": "code",
    "executionInfo": {
     "elapsed": 1400,
     "status": "ok",
     "timestamp": 1589357439800,
     "user": {
      "displayName": "Umesh Saraswat",
      "photoUrl": "https://lh3.googleusercontent.com/a-/AOh14GjYIq2q-RJY9TGYU0oihFsJ-KBX2UQxuLD6z10Y4w=s64",
      "userId": "10527726304653339617"
     },
     "user_tz": -330
    },
    "id": "sgxC2yxh-dgV",
    "outputId": "8f97a974-c53d-48a7-f059-7e20233e836c"
   },
   "outputs": [
    {
     "name": "stdout",
     "output_type": "stream",
     "text": [
      "WARNING:tensorflow:From <ipython-input-65-a7255cd1eb27>:1: Sequential.predict_classes (from tensorflow.python.keras.engine.sequential) is deprecated and will be removed after 2021-01-01.\n",
      "Instructions for updating:\n",
      "Please use instead:* `np.argmax(model.predict(x), axis=-1)`,   if your model does multi-class classification   (e.g. if it uses a `softmax` last-layer activation).* `(model.predict(x) > 0.5).astype(\"int32\")`,   if your model does binary classification   (e.g. if it uses a `sigmoid` last-layer activation).\n",
      "[[317 176]\n",
      " [126 380]]\n",
      "\n",
      "\n",
      "Accuracy: 0.697698\n"
     ]
    }
   ],
   "source": [
    "Y_pred_img = classifier_img.predict_classes(test_feat_vgg)\n",
    "# Y_pred_prob_img = classifier_text.predict_proba(test_feat_vgg)\n",
    "\n",
    "cm_img = confusion_matrix(Y_test,Y_pred_img)\n",
    "print(cm_img)\n",
    "print(\"\\n\")\n",
    "accuracy_img = accuracy_score(Y_test, Y_pred_img)\n",
    "print('Accuracy: %f' % accuracy_img)"
   ]
  },
  {
   "cell_type": "code",
   "execution_count": 68,
   "metadata": {
    "colab": {
     "base_uri": "https://localhost:8080/",
     "height": 33
    },
    "colab_type": "code",
    "executionInfo": {
     "elapsed": 1271,
     "status": "ok",
     "timestamp": 1589357519925,
     "user": {
      "displayName": "Umesh Saraswat",
      "photoUrl": "https://lh3.googleusercontent.com/a-/AOh14GjYIq2q-RJY9TGYU0oihFsJ-KBX2UQxuLD6z10Y4w=s64",
      "userId": "10527726304653339617"
     },
     "user_tz": -330
    },
    "id": "ln_IlXU45Hjw",
    "outputId": "86e77985-210a-4e17-ac88-efb7edf87fa2"
   },
   "outputs": [
    {
     "name": "stdout",
     "output_type": "stream",
     "text": [
      "Saved model to disk\n"
     ]
    }
   ],
   "source": [
    "###################        Save Image Model      ####################\n",
    "classifier_img.save(\"classifier_img.h5\")\n",
    "print(\"Saved model to disk\")"
   ]
  },
  {
   "cell_type": "code",
   "execution_count": 0,
   "metadata": {
    "colab": {},
    "colab_type": "code",
    "id": "7ER_-Pqk0TK-"
   },
   "outputs": [],
   "source": [
    "# # load and evaluate a saved model\n",
    "# from keras.models import load_model\n",
    " \n",
    "# # load model\n",
    "# model_temp_img = load_model('classifier_img.h5')\n",
    "# # summarize model.\n",
    "# print(model_temp_img.summary())"
   ]
  },
  {
   "cell_type": "code",
   "execution_count": 0,
   "metadata": {
    "colab": {},
    "colab_type": "code",
    "id": "cKKYgUT81rUN"
   },
   "outputs": [],
   "source": [
    "#################################################   Blue Cnf matrix  #####################################################\n",
    "import matplotlib.pyplot as plt\n",
    "import numpy as np\n",
    "import itertools\n",
    "\n",
    "def plot_confusion_matrix(cm1,\n",
    "                          target_names,\n",
    "                          title='Confusion matrix',\n",
    "                          cmap=None,\n",
    "                          normalize=True):\n",
    "  accuracy = np.trace(cm1) / float(np.sum(cm1))\n",
    "  misclass = 1 - accuracy\n",
    "\n",
    "  if cmap is None:\n",
    "    cmap = plt.get_cmap('Blues')\n",
    "\n",
    "  plt.figure(figsize=(6, 4))\n",
    "  plt.imshow(cm1, interpolation='nearest', cmap=cmap)\n",
    "  plt.title(title)\n",
    "  plt.colorbar()\n",
    "\n",
    "  if target_names is not None:\n",
    "    tick_marks = np.arange(len(target_names))\n",
    "    plt.xticks(tick_marks, target_names, rotation=45)\n",
    "    plt.yticks(tick_marks, target_names)\n",
    "\n",
    "  if normalize:\n",
    "    cm1 = cm1.astype('float') / cm1.sum(axis=1)[:, np.newaxis]\n",
    "\n",
    "  thresh = cm1.max() / 1.5 if normalize else cm1.max() / 2\n",
    "  for i, j in itertools.product(range(cm1.shape[0]), range(cm1.shape[1])):\n",
    "    if normalize:\n",
    "      plt.text(j, i, \"{:0.4f}\".format(cm1[i, j]),\n",
    "            horizontalalignment=\"center\",\n",
    "            color=\"white\" if cm1[i, j] > thresh else \"black\")\n",
    "    else:\n",
    "      plt.text(j, i, \"{:,}\".format(cm1[i, j]),\n",
    "            horizontalalignment=\"center\",\n",
    "            color=\"white\" if cm1[i, j] > thresh else \"black\")\n",
    "\n",
    "  plt.tight_layout()\n",
    "  plt.ylabel('True label')\n",
    "  plt.xlabel('Predicted label\\naccuracy={:0.4f}; misclass={:0.4f}'.format(accuracy, misclass))\n",
    "  plt.show()"
   ]
  },
  {
   "cell_type": "code",
   "execution_count": 71,
   "metadata": {
    "colab": {
     "base_uri": "https://localhost:8080/",
     "height": 658
    },
    "colab_type": "code",
    "executionInfo": {
     "elapsed": 1817,
     "status": "ok",
     "timestamp": 1589357543235,
     "user": {
      "displayName": "Umesh Saraswat",
      "photoUrl": "https://lh3.googleusercontent.com/a-/AOh14GjYIq2q-RJY9TGYU0oihFsJ-KBX2UQxuLD6z10Y4w=s64",
      "userId": "10527726304653339617"
     },
     "user_tz": -330
    },
    "id": "hobEfSXxs4hO",
    "outputId": "d920fc5e-337b-4221-99b1-fc98d7197d58"
   },
   "outputs": [
    {
     "name": "stdout",
     "output_type": "stream",
     "text": [
      "WARNING:tensorflow:From <ipython-input-71-fe41e58d50af>:10: Sequential.predict_proba (from tensorflow.python.keras.engine.sequential) is deprecated and will be removed after 2021-01-01.\n",
      "Instructions for updating:\n",
      "Please use `model.predict()` instead.\n",
      "[[317 176]\n",
      " [126 380]]\n",
      "\n",
      "\n",
      "Accuracy: 0.697698\n",
      "\n",
      "\n",
      "              precision    recall  f1-score   support\n",
      "\n",
      "           0       0.72      0.64      0.68       493\n",
      "           1       0.68      0.75      0.72       506\n",
      "\n",
      "    accuracy                           0.70       999\n",
      "   macro avg       0.70      0.70      0.70       999\n",
      "weighted avg       0.70      0.70      0.70       999\n",
      "\n",
      "roc_auc_score = 0.6969950853450281\n"
     ]
    },
    {
     "data": {
      "image/png": "[encoded data removed]",
      "text/plain": [
       "<Figure size 432x288 with 2 Axes>"
      ]
     },
     "metadata": {
      "needs_background": "light",
      "tags": []
     },
     "output_type": "display_data"
    }
   ],
   "source": [
    "###################################################   Results of VGG16 over Images    ########################################\n",
    "from sklearn.metrics import confusion_matrix, classification_report\n",
    "from sklearn.metrics import accuracy_score\n",
    "from sklearn.metrics import precision_score\n",
    "from sklearn.metrics import recall_score\n",
    "from sklearn.metrics import f1_score\n",
    "from sklearn.metrics import cohen_kappa_score\n",
    "from sklearn.metrics import roc_auc_score\n",
    "\n",
    "Y_pred_img = classifier_img.predict_classes(test_feat_vgg)\n",
    "Y_pred_prob_img = classifier_img.predict_proba(test_feat_vgg)\n",
    "cm_img = confusion_matrix(Y_test,Y_pred_img)\n",
    "print(cm_img)\n",
    "print(\"\\n\")\n",
    "accuracy_img = accuracy_score(Y_test, Y_pred_img)\n",
    "print('Accuracy: %f' % accuracy_img)\n",
    "print(\"\\n\")\n",
    "\n",
    "classreport_img = classification_report(Y_test, Y_pred_img)\n",
    "print(classreport_img)\n",
    "print(\"roc_auc_score =\",roc_auc_score(Y_test, Y_pred_img, average='macro'))\n",
    "\n",
    "plot_confusion_matrix(cm1 =cm_img, normalize = False,target_names = ['real','fake'],title = \"Image Confusion Matrix\")\n",
    "#accuracy = accuracy_score(Y_test, Y_pred_img)\n",
    "#print('Accuracy: %f' % accuracy)\n",
    "#print(precision_score(Y_test, Y_pred_img, average='macro'))\n",
    "#print(recall_score(Y_test, Y_pred_img, average='macro'))"
   ]
  },
  {
   "cell_type": "code",
   "execution_count": 72,
   "metadata": {
    "colab": {
     "base_uri": "https://localhost:8080/",
     "height": 235
    },
    "colab_type": "code",
    "executionInfo": {
     "elapsed": 1257,
     "status": "ok",
     "timestamp": 1589357554037,
     "user": {
      "displayName": "Umesh Saraswat",
      "photoUrl": "https://lh3.googleusercontent.com/a-/AOh14GjYIq2q-RJY9TGYU0oihFsJ-KBX2UQxuLD6z10Y4w=s64",
      "userId": "10527726304653339617"
     },
     "user_tz": -330
    },
    "id": "dSpScNAxxFpy",
    "outputId": "1e9c6855-a14a-469f-d4d5-565424f314ce"
   },
   "outputs": [
    {
     "name": "stdout",
     "output_type": "stream",
     "text": [
      "999\n",
      "<class 'numpy.ndarray'>\n",
      "(999, 1)\n",
      "[[1.]\n",
      " [1.]\n",
      " [0.]\n",
      " [1.]\n",
      " [1.]\n",
      " [1.]\n",
      " [0.]\n",
      " [1.]\n",
      " [1.]\n",
      " [0.]]\n"
     ]
    }
   ],
   "source": [
    "########################################  Prediction Probabilities of Image  #####################################################\n",
    "#Y_pred_prob_img = classifier_img.predict(X_test_img)\n",
    "Y_pred_prob_img = Y_pred_prob_img.round()\n",
    "print(len(Y_pred_prob_img))\n",
    "print(type(Y_pred_prob_img))\n",
    "print(np.array(Y_pred_prob_img).shape)\n",
    "print(Y_pred_prob_img[0:10])"
   ]
  },
  {
   "cell_type": "code",
   "execution_count": 73,
   "metadata": {
    "colab": {
     "base_uri": "https://localhost:8080/",
     "height": 312
    },
    "colab_type": "code",
    "executionInfo": {
     "elapsed": 1256,
     "status": "ok",
     "timestamp": 1589357560791,
     "user": {
      "displayName": "Umesh Saraswat",
      "photoUrl": "https://lh3.googleusercontent.com/a-/AOh14GjYIq2q-RJY9TGYU0oihFsJ-KBX2UQxuLD6z10Y4w=s64",
      "userId": "10527726304653339617"
     },
     "user_tz": -330
    },
    "id": "ltXYFjxjt-4n",
    "outputId": "86476ff5-19ce-4d01-c789-3d1628607c68"
   },
   "outputs": [
    {
     "name": "stdout",
     "output_type": "stream",
     "text": [
      "No Skill: ROC AUC=0.500\n",
      "VGG16: ROC AUC=0.697\n"
     ]
    },
    {
     "data": {
      "image/png": "[encoded data removed]",
      "text/plain": [
       "<Figure size 432x288 with 1 Axes>"
      ]
     },
     "metadata": {
      "needs_background": "light",
      "tags": []
     },
     "output_type": "display_data"
    }
   ],
   "source": [
    "###################################################   ROC for Images    ########################################\n",
    "from sklearn.metrics import roc_curve\n",
    "from sklearn.metrics import roc_auc_score\n",
    "from matplotlib import pyplot\n",
    "\n",
    "# generate a no skill prediction (majority class)\n",
    "ns_probs = [0 for _ in range(len(Y_test))]\n",
    "\n",
    "# predict probabilities\n",
    "lr_probs = Y_pred_img\n",
    "# keep probabilities for the positive outcome only\n",
    "#lr_probs = lr_probs[:, 1]\n",
    "# calculate scores\n",
    "ns_auc = roc_auc_score(Y_test, ns_probs)\n",
    "lr_auc = roc_auc_score(Y_test, lr_probs)\n",
    "# summarize scores\n",
    "print('No Skill: ROC AUC=%.3f' % (ns_auc))\n",
    "print('VGG16: ROC AUC=%.3f' % (lr_auc))\n",
    "# calculate roc curves\n",
    "ns_fpr, ns_tpr, _ = roc_curve(Y_test, ns_probs)\n",
    "lr_fpr, lr_tpr, _ = roc_curve(Y_test, lr_probs)\n",
    "# plot the roc curve for the model\n",
    "pyplot.plot(ns_fpr, ns_tpr, linestyle='--', label='No Skill')\n",
    "pyplot.plot(lr_fpr, lr_tpr, marker='.', label='VGG16')\n",
    "# axis labels\n",
    "pyplot.xlabel('False Positive Rate')\n",
    "pyplot.ylabel('True Positive Rate')\n",
    "# show the legend\n",
    "pyplot.legend()\n",
    "# show the plot\n",
    "pyplot.show()"
   ]
  },
  {
   "cell_type": "code",
   "execution_count": 0,
   "metadata": {
    "colab": {},
    "colab_type": "code",
    "id": "oyq-1QsWxaLK"
   },
   "outputs": [],
   "source": [
    "#<----------------------------------------------------------------------------------------------------    TEXT  CLASSIFIER   --------------------------------------------------------------------------------------------------------->"
   ]
  },
  {
   "cell_type": "code",
   "execution_count": 0,
   "metadata": {
    "colab": {},
    "colab_type": "code",
    "id": "oVe8ybYgx6Si"
   },
   "outputs": [],
   "source": [
    "#########################################     Extracting text data from final train and test dataset     #######################################\n",
    "X_train_text = []\n",
    "X_val_text = []\n",
    "X_test_text = []\n",
    "\n",
    "for i in range(len(X_train)):\n",
    "  temp1 = X_train[i][1].tolist()\n",
    "  X_train_text.append(temp1)\n",
    "  \n",
    "for i in range(len(X_val)):\n",
    "  temp1 = X_val[i][1].tolist()\n",
    "  X_val_text.append(temp1)\n",
    "\n",
    "for i in range(len(X_test)):\n",
    "  temp1 = X_test[i][1].tolist()\n",
    "  X_test_text.append(temp1)"
   ]
  },
  {
   "cell_type": "code",
   "execution_count": 75,
   "metadata": {
    "colab": {
     "base_uri": "https://localhost:8080/",
     "height": 554
    },
    "colab_type": "code",
    "executionInfo": {
     "elapsed": 1818,
     "status": "ok",
     "timestamp": 1589357582109,
     "user": {
      "displayName": "Umesh Saraswat",
      "photoUrl": "https://lh3.googleusercontent.com/a-/AOh14GjYIq2q-RJY9TGYU0oihFsJ-KBX2UQxuLD6z10Y4w=s64",
      "userId": "10527726304653339617"
     },
     "user_tz": -330
    },
    "id": "N1sG4qgVyA3_",
    "outputId": "abafe9a6-d5bc-4d63-ca6e-fab984f660b1"
   },
   "outputs": [
    {
     "name": "stdout",
     "output_type": "stream",
     "text": [
      "<-------X train------->\n",
      "<class 'list'>\n",
      "<class 'numpy.ndarray'>\n",
      "(2997, 200)\n",
      "2997\n",
      "<-------X test------->\n",
      "<class 'list'>\n",
      "<class 'numpy.ndarray'>\n",
      "(999, 200)\n",
      "999\n",
      "<-------X val------->\n",
      "<class 'list'>\n",
      "<class 'numpy.ndarray'>\n",
      "(999, 200)\n",
      "999\n",
      "\n",
      "\n",
      "<-------Y train------->\n",
      "<class 'numpy.ndarray'>\n",
      "<class 'numpy.ndarray'>\n",
      "(2997,)\n",
      "2997\n",
      "<-------Y test------->\n",
      "<class 'numpy.ndarray'>\n",
      "<class 'numpy.ndarray'>\n",
      "(999,)\n",
      "999\n",
      "<-------Y val------->\n",
      "<class 'numpy.ndarray'>\n",
      "<class 'numpy.ndarray'>\n",
      "(999,)\n",
      "999\n"
     ]
    }
   ],
   "source": [
    "print(\"<-------X train------->\")\n",
    "print(type(X_train_text))\n",
    "X_train_text = np.array(X_train_text)\n",
    "print(type(X_train_text))\n",
    "print(np.array(X_train_text).shape)\n",
    "print(len(X_train_text))\n",
    "print(\"<-------X test------->\")\n",
    "print(type(X_test_text))\n",
    "X_test_text = np.array(X_test_text)\n",
    "print(type(X_test_text))\n",
    "print(np.array(X_test_text).shape)\n",
    "print(len(X_test_text))\n",
    "print(\"<-------X val------->\")\n",
    "print(type(X_val_text))\n",
    "X_val_text = np.array(X_val_text)\n",
    "print(type(X_val_text))\n",
    "print(np.array(X_val_text).shape)\n",
    "print(len(X_val_text))\n",
    "print(\"\\n\")\n",
    "print(\"<-------Y train------->\")\n",
    "print(type(Y_train))\n",
    "Y_train = np.array(Y_train)\n",
    "print(type(Y_train))\n",
    "print(np.array(Y_train).shape)\n",
    "print(len(Y_train))\n",
    "print(\"<-------Y test------->\")\n",
    "print(type(Y_test))\n",
    "Y_test = np.array(Y_test)\n",
    "print(type(Y_test))\n",
    "print(np.array(Y_test).shape)\n",
    "print(len(Y_test))\n",
    "print(\"<-------Y val------->\")\n",
    "print(type(Y_val))\n",
    "Y_val = np.array(Y_val)\n",
    "print(type(Y_val))\n",
    "print(np.array(Y_val).shape)\n",
    "print(len(Y_val))"
   ]
  },
  {
   "cell_type": "code",
   "execution_count": 76,
   "metadata": {
    "colab": {
     "base_uri": "https://localhost:8080/",
     "height": 386
    },
    "colab_type": "code",
    "executionInfo": {
     "elapsed": 2552,
     "status": "ok",
     "timestamp": 1589357593216,
     "user": {
      "displayName": "Umesh Saraswat",
      "photoUrl": "https://lh3.googleusercontent.com/a-/AOh14GjYIq2q-RJY9TGYU0oihFsJ-KBX2UQxuLD6z10Y4w=s64",
      "userId": "10527726304653339617"
     },
     "user_tz": -330
    },
    "id": "I7uK-O8h3wjq",
    "outputId": "bbf95b19-fc0f-4e0d-cf54-e72534f029b8"
   },
   "outputs": [
    {
     "name": "stdout",
     "output_type": "stream",
     "text": [
      "Model: \"model_3\"\n",
      "_________________________________________________________________\n",
      "Layer (type)                 Output Shape              Param #   \n",
      "=================================================================\n",
      "input_4 (InputLayer)         (None, 200)               0         \n",
      "_________________________________________________________________\n",
      "embedding_5 (Embedding)      (None, 200, 100)          2608600   \n",
      "_________________________________________________________________\n",
      "spatial_dropout1d_2 (Spatial (None, 200, 100)          0         \n",
      "_________________________________________________________________\n",
      "bidirectional_5 (Bidirection (None, 128)               84480     \n",
      "_________________________________________________________________\n",
      "dropout_5 (Dropout)          (None, 128)               0         \n",
      "_________________________________________________________________\n",
      "batch_normalization_5 (Batch (None, 128)               512       \n",
      "_________________________________________________________________\n",
      "dense_2 (Dense)              (None, 1)                 129       \n",
      "=================================================================\n",
      "Total params: 2,693,721\n",
      "Trainable params: 84,865\n",
      "Non-trainable params: 2,608,856\n",
      "_________________________________________________________________\n"
     ]
    }
   ],
   "source": [
    "# ####################################################################################     Bi-LSTM model architecture for text     ###################################################################\n",
    "\n",
    "from keras.layers import Dense, Input, CuDNNLSTM, Embedding, Dropout,SpatialDropout1D, Bidirectional\n",
    "from keras.models import Model\n",
    "from keras.optimizers import Adam, RMSprop\n",
    "from keras.layers.normalization import BatchNormalization\n",
    "\n",
    "wv_layer = Embedding(nb_words_text,\n",
    "                     WV_DIM,\n",
    "                     mask_zero=False,\n",
    "                     weights=[wv_matrix_text],\n",
    "                     input_length=MAX_SEQUENCE_LENGTH,\n",
    "                     trainable=False)\n",
    "\n",
    "# Inputs\n",
    "comment_input = Input(shape=(MAX_SEQUENCE_LENGTH,), dtype='int32')\n",
    "embedded_sequences = wv_layer(comment_input)\n",
    "\n",
    "# bilstm\n",
    "embedded_sequences = SpatialDropout1D(0.2)(embedded_sequences)\n",
    "x = Bidirectional(LSTM(64, return_sequences=False))(embedded_sequences)\n",
    "\n",
    "# Output\n",
    "x = Dropout(0.2)(x)\n",
    "x = BatchNormalization()(x)\n",
    "preds = Dense(1, activation='sigmoid')(x)\n",
    "\n",
    "# build the model\n",
    "classifier_text = Model(inputs=[comment_input], outputs=preds)\n",
    "\n",
    "classifier_text.summary()"
   ]
  },
  {
   "cell_type": "code",
   "execution_count": 77,
   "metadata": {
    "colab": {
     "base_uri": "https://localhost:8080/",
     "height": 753
    },
    "colab_type": "code",
    "executionInfo": {
     "elapsed": 5073,
     "status": "ok",
     "timestamp": 1589357608109,
     "user": {
      "displayName": "Umesh Saraswat",
      "photoUrl": "https://lh3.googleusercontent.com/a-/AOh14GjYIq2q-RJY9TGYU0oihFsJ-KBX2UQxuLD6z10Y4w=s64",
      "userId": "10527726304653339617"
     },
     "user_tz": -330
    },
    "id": "Vt4cRaTwmK2t",
    "outputId": "2851a23c-5329-4a6c-feea-6ac4a72ed6ed"
   },
   "outputs": [
    {
     "data": {
      "image/png": "[encoded data removed]",
      "text/plain": [
       "<IPython.core.display.Image object>"
      ]
     },
     "execution_count": 77,
     "metadata": {
      "tags": []
     },
     "output_type": "execute_result"
    }
   ],
   "source": [
    "plot_model(classifier_text, to_file='classifier_text_plot.png', show_shapes=True, show_layer_names=True)"
   ]
  },
  {
   "cell_type": "code",
   "execution_count": 78,
   "metadata": {
    "colab": {
     "base_uri": "https://localhost:8080/",
     "height": 1000
    },
    "colab_type": "code",
    "executionInfo": {
     "elapsed": 1105457,
     "status": "ok",
     "timestamp": 1589358729472,
     "user": {
      "displayName": "Umesh Saraswat",
      "photoUrl": "https://lh3.googleusercontent.com/a-/AOh14GjYIq2q-RJY9TGYU0oihFsJ-KBX2UQxuLD6z10Y4w=s64",
      "userId": "10527726304653339617"
     },
     "user_tz": -330
    },
    "id": "zU690fewyERD",
    "outputId": "a6860dea-deb4-4954-87d2-dec262a744d7"
   },
   "outputs": [
    {
     "name": "stdout",
     "output_type": "stream",
     "text": [
      "Train on 2997 samples, validate on 999 samples\n",
      "Epoch 1/100\n",
      "2997/2997 [==============================] - 12s 4ms/step - loss: 0.4382 - accuracy: 0.8048 - val_loss: 0.3479 - val_accuracy: 0.8929\n",
      "Epoch 2/100\n",
      "2997/2997 [==============================] - 11s 4ms/step - loss: 0.2457 - accuracy: 0.9029 - val_loss: 0.2407 - val_accuracy: 0.9189\n",
      "Epoch 3/100\n",
      "2997/2997 [==============================] - 11s 4ms/step - loss: 0.1679 - accuracy: 0.9303 - val_loss: 0.1994 - val_accuracy: 0.9229\n",
      "Epoch 4/100\n",
      "2997/2997 [==============================] - 11s 4ms/step - loss: 0.1377 - accuracy: 0.9476 - val_loss: 0.1423 - val_accuracy: 0.9399\n",
      "Epoch 5/100\n",
      "2997/2997 [==============================] - 11s 4ms/step - loss: 0.1062 - accuracy: 0.9636 - val_loss: 0.2134 - val_accuracy: 0.9179\n",
      "Epoch 6/100\n",
      "2997/2997 [==============================] - 11s 4ms/step - loss: 0.0981 - accuracy: 0.9673 - val_loss: 0.1278 - val_accuracy: 0.9489\n",
      "Epoch 7/100\n",
      "2997/2997 [==============================] - 11s 4ms/step - loss: 0.0879 - accuracy: 0.9673 - val_loss: 0.1623 - val_accuracy: 0.9399\n",
      "Epoch 8/100\n",
      "2997/2997 [==============================] - 11s 4ms/step - loss: 0.0722 - accuracy: 0.9760 - val_loss: 0.1468 - val_accuracy: 0.9369\n",
      "Epoch 9/100\n",
      "2997/2997 [==============================] - 12s 4ms/step - loss: 0.0627 - accuracy: 0.9786 - val_loss: 0.1501 - val_accuracy: 0.9540\n",
      "Epoch 10/100\n",
      "2997/2997 [==============================] - 12s 4ms/step - loss: 0.0517 - accuracy: 0.9857 - val_loss: 0.1234 - val_accuracy: 0.9580\n",
      "Epoch 11/100\n",
      "2997/2997 [==============================] - 11s 4ms/step - loss: 0.0410 - accuracy: 0.9847 - val_loss: 0.1338 - val_accuracy: 0.9530\n",
      "Epoch 12/100\n",
      "2997/2997 [==============================] - 11s 4ms/step - loss: 0.0438 - accuracy: 0.9843 - val_loss: 0.1419 - val_accuracy: 0.9489\n",
      "Epoch 13/100\n",
      "2997/2997 [==============================] - 11s 4ms/step - loss: 0.0269 - accuracy: 0.9923 - val_loss: 0.1610 - val_accuracy: 0.9469\n",
      "Epoch 14/100\n",
      "2997/2997 [==============================] - 11s 4ms/step - loss: 0.0289 - accuracy: 0.9880 - val_loss: 0.2862 - val_accuracy: 0.9299\n",
      "Epoch 15/100\n",
      "2997/2997 [==============================] - 11s 4ms/step - loss: 0.0239 - accuracy: 0.9917 - val_loss: 0.1408 - val_accuracy: 0.9530\n",
      "Epoch 16/100\n",
      "2997/2997 [==============================] - 11s 4ms/step - loss: 0.0270 - accuracy: 0.9907 - val_loss: 0.1282 - val_accuracy: 0.9650\n",
      "Epoch 17/100\n",
      "2997/2997 [==============================] - 11s 4ms/step - loss: 0.0183 - accuracy: 0.9950 - val_loss: 0.2664 - val_accuracy: 0.9329\n",
      "Epoch 18/100\n",
      "2997/2997 [==============================] - 11s 4ms/step - loss: 0.0200 - accuracy: 0.9937 - val_loss: 0.1294 - val_accuracy: 0.9550\n",
      "Epoch 19/100\n",
      "2997/2997 [==============================] - 11s 4ms/step - loss: 0.0238 - accuracy: 0.9900 - val_loss: 0.1484 - val_accuracy: 0.9540\n",
      "Epoch 20/100\n",
      "2997/2997 [==============================] - 11s 4ms/step - loss: 0.0172 - accuracy: 0.9947 - val_loss: 0.1468 - val_accuracy: 0.9630\n",
      "Epoch 21/100\n",
      "2997/2997 [==============================] - 11s 4ms/step - loss: 0.0196 - accuracy: 0.9937 - val_loss: 0.1266 - val_accuracy: 0.9650\n",
      "Epoch 22/100\n",
      "2997/2997 [==============================] - 11s 4ms/step - loss: 0.0135 - accuracy: 0.9953 - val_loss: 0.1941 - val_accuracy: 0.9560\n",
      "Epoch 23/100\n",
      "2997/2997 [==============================] - 11s 4ms/step - loss: 0.0148 - accuracy: 0.9957 - val_loss: 0.1693 - val_accuracy: 0.9560\n",
      "Epoch 24/100\n",
      "2997/2997 [==============================] - 11s 4ms/step - loss: 0.0149 - accuracy: 0.9967 - val_loss: 0.1566 - val_accuracy: 0.9540\n",
      "Epoch 25/100\n",
      "2997/2997 [==============================] - 11s 4ms/step - loss: 0.0093 - accuracy: 0.9977 - val_loss: 0.1610 - val_accuracy: 0.9630\n",
      "Epoch 26/100\n",
      "2997/2997 [==============================] - 11s 4ms/step - loss: 0.0157 - accuracy: 0.9953 - val_loss: 0.1505 - val_accuracy: 0.9660\n",
      "Epoch 27/100\n",
      "2997/2997 [==============================] - 11s 4ms/step - loss: 0.0139 - accuracy: 0.9957 - val_loss: 0.1495 - val_accuracy: 0.9590\n",
      "Epoch 28/100\n",
      "2997/2997 [==============================] - 11s 4ms/step - loss: 0.0061 - accuracy: 0.9990 - val_loss: 0.1663 - val_accuracy: 0.9630\n",
      "Epoch 29/100\n",
      "2997/2997 [==============================] - 11s 4ms/step - loss: 0.0068 - accuracy: 0.9980 - val_loss: 0.1392 - val_accuracy: 0.9650\n",
      "Epoch 30/100\n",
      "2997/2997 [==============================] - 11s 4ms/step - loss: 0.0115 - accuracy: 0.9950 - val_loss: 0.3138 - val_accuracy: 0.9239\n",
      "Epoch 31/100\n",
      "2997/2997 [==============================] - 11s 4ms/step - loss: 0.0079 - accuracy: 0.9970 - val_loss: 0.1382 - val_accuracy: 0.9700\n",
      "Epoch 32/100\n",
      "2997/2997 [==============================] - 11s 4ms/step - loss: 0.0059 - accuracy: 0.9983 - val_loss: 0.1620 - val_accuracy: 0.9650\n",
      "Epoch 33/100\n",
      "2997/2997 [==============================] - 11s 4ms/step - loss: 0.0071 - accuracy: 0.9973 - val_loss: 0.1799 - val_accuracy: 0.9650\n",
      "Epoch 34/100\n",
      "2997/2997 [==============================] - 12s 4ms/step - loss: 0.0122 - accuracy: 0.9953 - val_loss: 0.2105 - val_accuracy: 0.9479\n",
      "Epoch 35/100\n",
      "2997/2997 [==============================] - 11s 4ms/step - loss: 0.0041 - accuracy: 0.9990 - val_loss: 0.1458 - val_accuracy: 0.9640\n",
      "Epoch 36/100\n",
      "2997/2997 [==============================] - 11s 4ms/step - loss: 0.0043 - accuracy: 0.9983 - val_loss: 0.1681 - val_accuracy: 0.9620\n",
      "Epoch 37/100\n",
      "2997/2997 [==============================] - 11s 4ms/step - loss: 0.0068 - accuracy: 0.9967 - val_loss: 0.1478 - val_accuracy: 0.9650\n",
      "Epoch 38/100\n",
      "2997/2997 [==============================] - 11s 4ms/step - loss: 0.0053 - accuracy: 0.9983 - val_loss: 0.1675 - val_accuracy: 0.9690\n",
      "Epoch 39/100\n",
      "2997/2997 [==============================] - 11s 4ms/step - loss: 0.0080 - accuracy: 0.9970 - val_loss: 0.1909 - val_accuracy: 0.9489\n",
      "Epoch 40/100\n",
      "2997/2997 [==============================] - 11s 4ms/step - loss: 0.0038 - accuracy: 0.9993 - val_loss: 0.1825 - val_accuracy: 0.9540\n",
      "Epoch 41/100\n",
      "2997/2997 [==============================] - 11s 4ms/step - loss: 0.0039 - accuracy: 0.9997 - val_loss: 0.1524 - val_accuracy: 0.9680\n",
      "Epoch 42/100\n",
      "2997/2997 [==============================] - 11s 4ms/step - loss: 0.0075 - accuracy: 0.9980 - val_loss: 0.1604 - val_accuracy: 0.9660\n",
      "Epoch 43/100\n",
      "2997/2997 [==============================] - 11s 4ms/step - loss: 0.0091 - accuracy: 0.9970 - val_loss: 0.1715 - val_accuracy: 0.9670\n",
      "Epoch 44/100\n",
      "2997/2997 [==============================] - 11s 4ms/step - loss: 0.0047 - accuracy: 0.9987 - val_loss: 0.1834 - val_accuracy: 0.9530\n",
      "Epoch 45/100\n",
      "2997/2997 [==============================] - 11s 4ms/step - loss: 0.0021 - accuracy: 1.0000 - val_loss: 0.1670 - val_accuracy: 0.9680\n",
      "Epoch 46/100\n",
      "2997/2997 [==============================] - 12s 4ms/step - loss: 0.0062 - accuracy: 0.9980 - val_loss: 0.1705 - val_accuracy: 0.9580\n",
      "Epoch 47/100\n",
      "2997/2997 [==============================] - 11s 4ms/step - loss: 0.0050 - accuracy: 0.9983 - val_loss: 0.1903 - val_accuracy: 0.9620\n",
      "Epoch 48/100\n",
      "2997/2997 [==============================] - 11s 4ms/step - loss: 0.0062 - accuracy: 0.9977 - val_loss: 0.1864 - val_accuracy: 0.9640\n",
      "Epoch 49/100\n",
      "2997/2997 [==============================] - 11s 4ms/step - loss: 0.0024 - accuracy: 0.9997 - val_loss: 0.1724 - val_accuracy: 0.9670\n",
      "Epoch 50/100\n",
      "2997/2997 [==============================] - 11s 4ms/step - loss: 0.0028 - accuracy: 0.9993 - val_loss: 0.1610 - val_accuracy: 0.9650\n",
      "Epoch 51/100\n",
      "2997/2997 [==============================] - 11s 4ms/step - loss: 0.0031 - accuracy: 0.9993 - val_loss: 0.1872 - val_accuracy: 0.9650\n",
      "Epoch 52/100\n",
      "2997/2997 [==============================] - 11s 4ms/step - loss: 0.0041 - accuracy: 0.9987 - val_loss: 0.1999 - val_accuracy: 0.9620\n",
      "Epoch 53/100\n",
      "2997/2997 [==============================] - 16s 5ms/step - loss: 0.0020 - accuracy: 0.9993 - val_loss: 0.3199 - val_accuracy: 0.9540\n",
      "Epoch 54/100\n",
      "2997/2997 [==============================] - 16s 5ms/step - loss: 0.0051 - accuracy: 0.9980 - val_loss: 0.1710 - val_accuracy: 0.9680\n",
      "Epoch 55/100\n",
      "2997/2997 [==============================] - 11s 4ms/step - loss: 0.0077 - accuracy: 0.9987 - val_loss: 0.1715 - val_accuracy: 0.9700\n",
      "Epoch 56/100\n",
      "2997/2997 [==============================] - 11s 4ms/step - loss: 0.0039 - accuracy: 0.9990 - val_loss: 0.1957 - val_accuracy: 0.9620\n",
      "Epoch 57/100\n",
      "2997/2997 [==============================] - 11s 4ms/step - loss: 0.0025 - accuracy: 0.9987 - val_loss: 0.1711 - val_accuracy: 0.9660\n",
      "Epoch 58/100\n",
      "2997/2997 [==============================] - 11s 4ms/step - loss: 0.0011 - accuracy: 0.9997 - val_loss: 0.1763 - val_accuracy: 0.9660\n",
      "Epoch 59/100\n",
      "2997/2997 [==============================] - 11s 4ms/step - loss: 0.0018 - accuracy: 0.9993 - val_loss: 0.1786 - val_accuracy: 0.9700\n",
      "Epoch 60/100\n",
      "2997/2997 [==============================] - 11s 4ms/step - loss: 9.8385e-04 - accuracy: 1.0000 - val_loss: 0.2186 - val_accuracy: 0.9690\n",
      "Epoch 61/100\n",
      "2997/2997 [==============================] - 11s 4ms/step - loss: 0.0033 - accuracy: 0.9993 - val_loss: 0.1651 - val_accuracy: 0.9710\n",
      "Epoch 62/100\n",
      "2997/2997 [==============================] - 11s 4ms/step - loss: 0.0032 - accuracy: 0.9980 - val_loss: 0.1642 - val_accuracy: 0.9720\n",
      "Epoch 63/100\n",
      "2997/2997 [==============================] - 11s 4ms/step - loss: 0.0063 - accuracy: 0.9987 - val_loss: 0.1889 - val_accuracy: 0.9650\n",
      "Epoch 64/100\n",
      "2997/2997 [==============================] - 11s 4ms/step - loss: 0.0049 - accuracy: 0.9990 - val_loss: 0.1591 - val_accuracy: 0.9660\n",
      "Epoch 65/100\n",
      "2997/2997 [==============================] - 12s 4ms/step - loss: 0.0029 - accuracy: 0.9990 - val_loss: 0.1777 - val_accuracy: 0.9670\n",
      "Epoch 66/100\n",
      "2997/2997 [==============================] - 11s 4ms/step - loss: 0.0031 - accuracy: 0.9987 - val_loss: 0.1740 - val_accuracy: 0.9670\n",
      "Epoch 67/100\n",
      "2997/2997 [==============================] - 11s 4ms/step - loss: 0.0032 - accuracy: 0.9993 - val_loss: 0.1707 - val_accuracy: 0.9670\n",
      "Epoch 68/100\n",
      "2997/2997 [==============================] - 12s 4ms/step - loss: 0.0052 - accuracy: 0.9990 - val_loss: 0.1574 - val_accuracy: 0.9650\n",
      "Epoch 69/100\n",
      "2997/2997 [==============================] - 11s 4ms/step - loss: 0.0028 - accuracy: 0.9993 - val_loss: 0.1591 - val_accuracy: 0.9710\n",
      "Epoch 70/100\n",
      "2997/2997 [==============================] - 11s 4ms/step - loss: 0.0050 - accuracy: 0.9980 - val_loss: 0.1518 - val_accuracy: 0.9700\n",
      "Epoch 71/100\n",
      "2997/2997 [==============================] - 11s 4ms/step - loss: 0.0026 - accuracy: 0.9990 - val_loss: 0.1607 - val_accuracy: 0.9680\n",
      "Epoch 72/100\n",
      "2997/2997 [==============================] - 11s 4ms/step - loss: 0.0029 - accuracy: 0.9987 - val_loss: 0.1538 - val_accuracy: 0.9660\n",
      "Epoch 73/100\n",
      "2997/2997 [==============================] - 11s 4ms/step - loss: 0.0030 - accuracy: 0.9990 - val_loss: 0.1987 - val_accuracy: 0.9600\n",
      "Epoch 74/100\n",
      "2997/2997 [==============================] - 11s 4ms/step - loss: 0.0018 - accuracy: 0.9993 - val_loss: 0.3739 - val_accuracy: 0.9489\n",
      "Epoch 75/100\n",
      "2997/2997 [==============================] - 11s 4ms/step - loss: 0.0041 - accuracy: 0.9987 - val_loss: 0.1662 - val_accuracy: 0.9750\n",
      "Epoch 76/100\n",
      "2997/2997 [==============================] - 11s 4ms/step - loss: 0.0036 - accuracy: 0.9987 - val_loss: 0.2121 - val_accuracy: 0.9620\n",
      "Epoch 77/100\n",
      "2997/2997 [==============================] - 11s 4ms/step - loss: 0.0044 - accuracy: 0.9987 - val_loss: 0.1742 - val_accuracy: 0.9650\n",
      "Epoch 78/100\n",
      "2997/2997 [==============================] - 10s 4ms/step - loss: 0.0011 - accuracy: 0.9997 - val_loss: 0.1797 - val_accuracy: 0.9680\n",
      "Epoch 79/100\n",
      "2997/2997 [==============================] - 10s 3ms/step - loss: 0.0014 - accuracy: 0.9993 - val_loss: 0.1766 - val_accuracy: 0.9680\n",
      "Epoch 80/100\n",
      "2997/2997 [==============================] - 11s 4ms/step - loss: 8.7183e-04 - accuracy: 0.9997 - val_loss: 0.1598 - val_accuracy: 0.9700\n",
      "Epoch 81/100\n",
      "2997/2997 [==============================] - 10s 3ms/step - loss: 0.0019 - accuracy: 0.9993 - val_loss: 0.1776 - val_accuracy: 0.9670\n",
      "Epoch 82/100\n",
      "2997/2997 [==============================] - 10s 3ms/step - loss: 0.0053 - accuracy: 0.9980 - val_loss: 0.1720 - val_accuracy: 0.9650\n",
      "Epoch 83/100\n",
      "2997/2997 [==============================] - 11s 4ms/step - loss: 0.0033 - accuracy: 0.9987 - val_loss: 0.1885 - val_accuracy: 0.9650\n",
      "Epoch 84/100\n",
      "2997/2997 [==============================] - 11s 4ms/step - loss: 0.0026 - accuracy: 0.9987 - val_loss: 0.1937 - val_accuracy: 0.9650\n",
      "Epoch 85/100\n",
      "2997/2997 [==============================] - 11s 4ms/step - loss: 4.5232e-04 - accuracy: 1.0000 - val_loss: 0.2122 - val_accuracy: 0.9600\n",
      "Epoch 86/100\n",
      "2997/2997 [==============================] - 11s 4ms/step - loss: 0.0010 - accuracy: 0.9997 - val_loss: 0.1782 - val_accuracy: 0.9680\n",
      "Epoch 87/100\n",
      "2997/2997 [==============================] - 11s 4ms/step - loss: 3.0217e-04 - accuracy: 1.0000 - val_loss: 0.2020 - val_accuracy: 0.9710\n",
      "Epoch 88/100\n",
      "2997/2997 [==============================] - 12s 4ms/step - loss: 0.0085 - accuracy: 0.9980 - val_loss: 0.1811 - val_accuracy: 0.9660\n",
      "Epoch 89/100\n",
      "2997/2997 [==============================] - 12s 4ms/step - loss: 0.0013 - accuracy: 0.9997 - val_loss: 0.2076 - val_accuracy: 0.9680\n",
      "Epoch 90/100\n",
      "2997/2997 [==============================] - 11s 4ms/step - loss: 0.0030 - accuracy: 0.9987 - val_loss: 0.2027 - val_accuracy: 0.9670\n",
      "Epoch 91/100\n",
      "2997/2997 [==============================] - 11s 4ms/step - loss: 0.0025 - accuracy: 0.9990 - val_loss: 0.2483 - val_accuracy: 0.9550\n",
      "Epoch 92/100\n",
      "2997/2997 [==============================] - 11s 4ms/step - loss: 0.0051 - accuracy: 0.9990 - val_loss: 0.1809 - val_accuracy: 0.9680\n",
      "Epoch 93/100\n",
      "2997/2997 [==============================] - 11s 4ms/step - loss: 0.0062 - accuracy: 0.9980 - val_loss: 0.2191 - val_accuracy: 0.9610\n",
      "Epoch 94/100\n",
      "2997/2997 [==============================] - 12s 4ms/step - loss: 5.5599e-04 - accuracy: 1.0000 - val_loss: 0.2134 - val_accuracy: 0.9630\n",
      "Epoch 95/100\n",
      "2997/2997 [==============================] - 11s 4ms/step - loss: 7.2793e-04 - accuracy: 1.0000 - val_loss: 0.2126 - val_accuracy: 0.9620\n",
      "Epoch 96/100\n",
      "2997/2997 [==============================] - 11s 4ms/step - loss: 0.0032 - accuracy: 0.9980 - val_loss: 0.3180 - val_accuracy: 0.9530\n",
      "Epoch 97/100\n",
      "2997/2997 [==============================] - 11s 4ms/step - loss: 0.0017 - accuracy: 0.9990 - val_loss: 0.1820 - val_accuracy: 0.9670\n",
      "Epoch 98/100\n",
      "2997/2997 [==============================] - 11s 4ms/step - loss: 7.4299e-04 - accuracy: 1.0000 - val_loss: 0.2112 - val_accuracy: 0.9630\n",
      "Epoch 99/100\n",
      "2997/2997 [==============================] - 11s 4ms/step - loss: 0.0041 - accuracy: 0.9993 - val_loss: 0.2322 - val_accuracy: 0.9610\n",
      "Epoch 100/100\n",
      "2997/2997 [==============================] - 11s 4ms/step - loss: 0.0014 - accuracy: 0.9997 - val_loss: 0.1949 - val_accuracy: 0.9650\n",
      "dict_keys(['val_loss', 'val_accuracy', 'loss', 'accuracy'])\n"
     ]
    },
    {
     "data": {
      "image/png": "[encoded data removed]",
      "text/plain": [
       "<Figure size 432x288 with 1 Axes>"
      ]
     },
     "metadata": {
      "needs_background": "light",
      "tags": []
     },
     "output_type": "display_data"
    },
    {
     "data": {
      "image/png": "[encoded data removed]",
      "text/plain": [
       "<Figure size 432x288 with 1 Axes>"
      ]
     },
     "metadata": {
      "needs_background": "light",
      "tags": []
     },
     "output_type": "display_data"
    }
   ],
   "source": [
    "##################################################################################      Training Bi-LSTM model over text      #################################################################\n",
    "classifier_text.compile(loss='binary_crossentropy',optimizer=RMSprop(),metrics=['accuracy'])\n",
    "\n",
    "#history2 = classifier_text.fit(X_train_text,Y_train,batch_size=64,epochs=50,verbose=1,validation_data=(X_test_text,Y_test))     ###########  validation on test set\n",
    "history2 = classifier_text.fit(X_train_text,Y_train,batch_size=64,epochs=100,verbose=1,validation_data=(X_val_text,Y_val))                   ###########  validation on a subset of training set \n",
    "\n",
    "# list all data in history\n",
    "print(history2.history.keys())\n",
    "# summarize history for accuracy\n",
    "plt.plot(history2.history['accuracy'])\n",
    "plt.plot(history2.history['val_accuracy'])\n",
    "plt.title('model accuracy')\n",
    "plt.ylabel('accuracy')\n",
    "plt.xlabel('epoch')\n",
    "plt.legend(['train', 'val'], loc='upper left')\n",
    "plt.show()\n",
    "# summarize history for loss\n",
    "plt.plot(history2.history['loss'])\n",
    "plt.plot(history2.history['val_loss'])\n",
    "plt.title('model loss')\n",
    "plt.ylabel('loss')\n",
    "plt.xlabel('epoch')\n",
    "plt.legend(['train', 'val'], loc='upper left')\n",
    "plt.show()"
   ]
  },
  {
   "cell_type": "code",
   "execution_count": 79,
   "metadata": {
    "colab": {
     "base_uri": "https://localhost:8080/",
     "height": 33
    },
    "colab_type": "code",
    "executionInfo": {
     "elapsed": 2104,
     "status": "ok",
     "timestamp": 1589358735706,
     "user": {
      "displayName": "Umesh Saraswat",
      "photoUrl": "https://lh3.googleusercontent.com/a-/AOh14GjYIq2q-RJY9TGYU0oihFsJ-KBX2UQxuLD6z10Y4w=s64",
      "userId": "10527726304653339617"
     },
     "user_tz": -330
    },
    "id": "E9cQMKt85UvE",
    "outputId": "7e1983d6-8a38-442d-8eb9-523360f2de83"
   },
   "outputs": [
    {
     "name": "stdout",
     "output_type": "stream",
     "text": [
      "Saved model to disk\n"
     ]
    }
   ],
   "source": [
    "###################        Save Model      ####################\n",
    "classifier_text.save(\"classifier_text.h5\")\n",
    "print(\"Saved model to disk\")"
   ]
  },
  {
   "cell_type": "code",
   "execution_count": 80,
   "metadata": {
    "colab": {
     "base_uri": "https://localhost:8080/",
     "height": 608
    },
    "colab_type": "code",
    "executionInfo": {
     "elapsed": 2535,
     "status": "ok",
     "timestamp": 1589358746146,
     "user": {
      "displayName": "Umesh Saraswat",
      "photoUrl": "https://lh3.googleusercontent.com/a-/AOh14GjYIq2q-RJY9TGYU0oihFsJ-KBX2UQxuLD6z10Y4w=s64",
      "userId": "10527726304653339617"
     },
     "user_tz": -330
    },
    "id": "zfMwpLR0zC6b",
    "outputId": "3ca8205e-3afa-407e-bd8d-77393f4eede2"
   },
   "outputs": [
    {
     "name": "stdout",
     "output_type": "stream",
     "text": [
      "[[474  19]\n",
      " [ 13 493]]\n",
      "\n",
      "\n",
      "Accuracy: 0.967968\n",
      "\n",
      "\n",
      "              precision    recall  f1-score   support\n",
      "\n",
      "           0       0.97      0.96      0.97       493\n",
      "           1       0.96      0.97      0.97       506\n",
      "\n",
      "    accuracy                           0.97       999\n",
      "   macro avg       0.97      0.97      0.97       999\n",
      "weighted avg       0.97      0.97      0.97       999\n",
      "\n",
      "roc_auc_score = 0.9678843733213607\n"
     ]
    },
    {
     "data": {
      "image/png": "[encoded data removed]",
      "text/plain": [
       "<Figure size 432x288 with 2 Axes>"
      ]
     },
     "metadata": {
      "needs_background": "light",
      "tags": []
     },
     "output_type": "display_data"
    }
   ],
   "source": [
    "######################################################   Results of Bi-LSTM over text    ########################################\n",
    "from sklearn.metrics import confusion_matrix, classification_report\n",
    "from sklearn.metrics import accuracy_score\n",
    "from sklearn.metrics import precision_score\n",
    "from sklearn.metrics import recall_score\n",
    "from sklearn.metrics import f1_score\n",
    "from sklearn.metrics import cohen_kappa_score\n",
    "from sklearn.metrics import roc_auc_score\n",
    "\n",
    "Y_pred_text = classifier_text.predict(X_test_text)\n",
    "#Y_pred_prob_text = classifier_text.predict_proba(X_test_text)\n",
    "\n",
    "cm_text=confusion_matrix(Y_test,Y_pred_text.round())\n",
    "print(cm_text)\n",
    "\n",
    "print(\"\\n\")\n",
    "accuracy_text = accuracy_score(Y_test, Y_pred_text.round())\n",
    "print('Accuracy: %f' % accuracy_text)\n",
    "print(\"\\n\")\n",
    "\n",
    "classreport_text = classification_report(Y_test, Y_pred_text.round())\n",
    "print(classreport_text)\n",
    "\n",
    "print(\"roc_auc_score =\",roc_auc_score(Y_test, Y_pred_text.round(), average='macro'))\n",
    "plot_confusion_matrix(cm1 =cm_text, normalize = False,target_names = ['real','fake'],title  = \"Text Confusion Matrix\")"
   ]
  },
  {
   "cell_type": "code",
   "execution_count": 81,
   "metadata": {
    "colab": {
     "base_uri": "https://localhost:8080/",
     "height": 151
    },
    "colab_type": "code",
    "executionInfo": {
     "elapsed": 3993,
     "status": "ok",
     "timestamp": 1589358763164,
     "user": {
      "displayName": "Umesh Saraswat",
      "photoUrl": "https://lh3.googleusercontent.com/a-/AOh14GjYIq2q-RJY9TGYU0oihFsJ-KBX2UQxuLD6z10Y4w=s64",
      "userId": "10527726304653339617"
     },
     "user_tz": -330
    },
    "id": "iS_bJZfHzqGW",
    "outputId": "a3826370-7f9d-44ad-92c7-c1670c59d919"
   },
   "outputs": [
    {
     "name": "stdout",
     "output_type": "stream",
     "text": [
      "999\n",
      "<class 'numpy.ndarray'>\n",
      "(999, 1)\n",
      "[[1.0000000e+00]\n",
      " [5.0911426e-06]\n",
      " [6.3340866e-07]\n",
      " [2.0428914e-09]\n",
      " [9.9808121e-01]]\n"
     ]
    }
   ],
   "source": [
    "##############################################  Prediction Probabilities of Text  #####################################################\n",
    "Y_pred_prob_text = classifier_text.predict(X_test_text)\n",
    "print(len(Y_pred_prob_text))\n",
    "print(type(Y_pred_prob_text))\n",
    "print(np.array(Y_pred_prob_text).shape)\n",
    "print(Y_pred_prob_text[0:5])"
   ]
  },
  {
   "cell_type": "code",
   "execution_count": 82,
   "metadata": {
    "colab": {
     "base_uri": "https://localhost:8080/",
     "height": 312
    },
    "colab_type": "code",
    "executionInfo": {
     "elapsed": 1486,
     "status": "ok",
     "timestamp": 1589358768264,
     "user": {
      "displayName": "Umesh Saraswat",
      "photoUrl": "https://lh3.googleusercontent.com/a-/AOh14GjYIq2q-RJY9TGYU0oihFsJ-KBX2UQxuLD6z10Y4w=s64",
      "userId": "10527726304653339617"
     },
     "user_tz": -330
    },
    "id": "Z8Sww95BzyJI",
    "outputId": "0c9f43f5-48f1-4f3b-f12f-e0554ca4db6d"
   },
   "outputs": [
    {
     "name": "stdout",
     "output_type": "stream",
     "text": [
      "No Skill: ROC AUC=0.500\n",
      "Logistic: ROC AUC=0.968\n"
     ]
    },
    {
     "data": {
      "image/png": "[encoded data removed]",
      "text/plain": [
       "<Figure size 432x288 with 1 Axes>"
      ]
     },
     "metadata": {
      "needs_background": "light",
      "tags": []
     },
     "output_type": "display_data"
    }
   ],
   "source": [
    "###################################################   ROC for Text    ########################################\n",
    "from sklearn.metrics import roc_curve\n",
    "from sklearn.metrics import roc_auc_score\n",
    "from matplotlib import pyplot\n",
    "\n",
    "# generate a no skill prediction (majority class)\n",
    "ns_probs = [0 for _ in range(len(Y_test))]\n",
    "\n",
    "# predict probabilities\n",
    "lr_probs = Y_pred_text.round()\n",
    "# keep probabilities for the positive outcome only\n",
    "#lr_probs = lr_probs[:, 1]\n",
    "# calculate scores\n",
    "ns_auc = roc_auc_score(Y_test, ns_probs)\n",
    "lr_auc = roc_auc_score(Y_test, lr_probs)\n",
    "# summarize scores\n",
    "print('No Skill: ROC AUC=%.3f' % (ns_auc))\n",
    "print('Logistic: ROC AUC=%.3f' % (lr_auc))\n",
    "# calculate roc curves\n",
    "ns_fpr, ns_tpr, _ = roc_curve(Y_test, ns_probs)\n",
    "lr_fpr, lr_tpr, _ = roc_curve(Y_test, lr_probs)\n",
    "# plot the roc curve for the model\n",
    "pyplot.plot(ns_fpr, ns_tpr, linestyle='--', label='No Skill')\n",
    "pyplot.plot(lr_fpr, lr_tpr, marker='.', label='Logistic')\n",
    "# axis labels\n",
    "pyplot.xlabel('False Positive Rate')\n",
    "pyplot.ylabel('True Positive Rate')\n",
    "# show the legend\n",
    "pyplot.legend()\n",
    "# show the plot\n",
    "pyplot.show()"
   ]
  },
  {
   "cell_type": "code",
   "execution_count": 0,
   "metadata": {
    "colab": {},
    "colab_type": "code",
    "id": "e3VWeYkM0RFJ"
   },
   "outputs": [],
   "source": [
    "#<------------------------------------------------------------------------------------------------------    TITLE  CLASSIFIER  -------------------------------------------------------------------------------------------------------->"
   ]
  },
  {
   "cell_type": "code",
   "execution_count": 0,
   "metadata": {
    "colab": {},
    "colab_type": "code",
    "id": "_qkgS8Bi2PtU"
   },
   "outputs": [],
   "source": [
    "#######################################################################   Extracting Title from final dataset  ###############################################################\n",
    "X_train_title = []\n",
    "X_val_title = []\n",
    "X_test_title = []\n",
    "\n",
    "for i in range(len(X_train)):\n",
    "  temp1 = X_train[i][2].tolist()\n",
    "  X_train_title.append(temp1)\n",
    "  \n",
    "for i in range(len(X_val)):\n",
    "  temp1 = X_val[i][2].tolist()\n",
    "  X_val_title.append(temp1)\n",
    "\n",
    "for i in range(len(X_test)):\n",
    "  temp1 = X_test[i][2].tolist()\n",
    "  X_test_title.append(temp1)"
   ]
  },
  {
   "cell_type": "code",
   "execution_count": 84,
   "metadata": {
    "colab": {
     "base_uri": "https://localhost:8080/",
     "height": 554
    },
    "colab_type": "code",
    "executionInfo": {
     "elapsed": 1125,
     "status": "ok",
     "timestamp": 1589358779411,
     "user": {
      "displayName": "Umesh Saraswat",
      "photoUrl": "https://lh3.googleusercontent.com/a-/AOh14GjYIq2q-RJY9TGYU0oihFsJ-KBX2UQxuLD6z10Y4w=s64",
      "userId": "10527726304653339617"
     },
     "user_tz": -330
    },
    "id": "WNJKMPjf2QqS",
    "outputId": "17cdaa28-ed43-4ee3-c226-1282222d02a2"
   },
   "outputs": [
    {
     "name": "stdout",
     "output_type": "stream",
     "text": [
      "<-------X train------->\n",
      "<class 'list'>\n",
      "<class 'numpy.ndarray'>\n",
      "(2997, 300)\n",
      "2997\n",
      "<-------X test------->\n",
      "<class 'list'>\n",
      "<class 'numpy.ndarray'>\n",
      "(999, 300)\n",
      "999\n",
      "<-------X val------->\n",
      "<class 'list'>\n",
      "<class 'numpy.ndarray'>\n",
      "(999, 300)\n",
      "999\n",
      "\n",
      "\n",
      "<-------Y train------->\n",
      "<class 'numpy.ndarray'>\n",
      "<class 'numpy.ndarray'>\n",
      "(2997,)\n",
      "2997\n",
      "<-------Y test------->\n",
      "<class 'numpy.ndarray'>\n",
      "<class 'numpy.ndarray'>\n",
      "(999,)\n",
      "999\n",
      "<-------Y val------->\n",
      "<class 'numpy.ndarray'>\n",
      "<class 'numpy.ndarray'>\n",
      "(999,)\n",
      "999\n"
     ]
    }
   ],
   "source": [
    "print(\"<-------X train------->\")\n",
    "print(type(X_train_title))\n",
    "X_train_title = np.array(X_train_title)\n",
    "print(type(X_train_title))\n",
    "print(np.array(X_train_title).shape)\n",
    "print(len(X_train_title))\n",
    "print(\"<-------X test------->\")\n",
    "print(type(X_test_title))\n",
    "X_test_title = np.array(X_test_title)\n",
    "print(type(X_test_title))\n",
    "print(np.array(X_test_title).shape)\n",
    "print(len(X_test_title))\n",
    "print(\"<-------X val------->\")\n",
    "print(type(X_val_title))\n",
    "X_val_title = np.array(X_val_title)\n",
    "print(type(X_val_title))\n",
    "print(np.array(X_val_title).shape)\n",
    "print(len(X_val_title))\n",
    "print(\"\\n\")\n",
    "print(\"<-------Y train------->\")\n",
    "print(type(Y_train))\n",
    "Y_train = np.array(Y_train)\n",
    "print(type(Y_train))\n",
    "print(np.array(Y_train).shape)\n",
    "print(len(Y_train))\n",
    "print(\"<-------Y test------->\")\n",
    "print(type(Y_test))\n",
    "Y_test = np.array(Y_test)\n",
    "print(type(Y_test))\n",
    "print(np.array(Y_test).shape)\n",
    "print(len(Y_test))\n",
    "print(\"<-------Y val------->\")\n",
    "print(type(Y_val))\n",
    "Y_val = np.array(Y_val)\n",
    "print(type(Y_val))\n",
    "print(np.array(Y_val).shape)\n",
    "print(len(Y_val))"
   ]
  },
  {
   "cell_type": "code",
   "execution_count": 90,
   "metadata": {
    "colab": {
     "base_uri": "https://localhost:8080/",
     "height": 420
    },
    "colab_type": "code",
    "executionInfo": {
     "elapsed": 1435,
     "status": "ok",
     "timestamp": 1589363836109,
     "user": {
      "displayName": "Umesh Saraswat",
      "photoUrl": "https://lh3.googleusercontent.com/a-/AOh14GjYIq2q-RJY9TGYU0oihFsJ-KBX2UQxuLD6z10Y4w=s64",
      "userId": "10527726304653339617"
     },
     "user_tz": -330
    },
    "id": "0TMmwl61_HqH",
    "outputId": "a69ff267-a45f-4adf-cc2b-b4df5e993748"
   },
   "outputs": [
    {
     "name": "stdout",
     "output_type": "stream",
     "text": [
      "Model: \"sequential_5\"\n",
      "_________________________________________________________________\n",
      "Layer (type)                 Output Shape              Param #   \n",
      "=================================================================\n",
      "embedding_7 (Embedding)      (None, 300, 50)           50000     \n",
      "_________________________________________________________________\n",
      "bidirectional_7 (Bidirection (None, 128)               58880     \n",
      "_________________________________________________________________\n",
      "FC1 (Dense)                  (None, 256)               33024     \n",
      "_________________________________________________________________\n",
      "batch_normalization_7 (Batch (None, 256)               1024      \n",
      "_________________________________________________________________\n",
      "activation_9 (Activation)    (None, 256)               0         \n",
      "_________________________________________________________________\n",
      "dropout_7 (Dropout)          (None, 256)               0         \n",
      "_________________________________________________________________\n",
      "out_layer (Dense)            (None, 1)                 257       \n",
      "_________________________________________________________________\n",
      "activation_10 (Activation)   (None, 1)                 0         \n",
      "=================================================================\n",
      "Total params: 143,185\n",
      "Trainable params: 142,673\n",
      "Non-trainable params: 512\n",
      "_________________________________________________________________\n"
     ]
    }
   ],
   "source": [
    "##############################################################     Bi-LSTM model for title     ###############################################\n",
    "\n",
    "from keras.models import Model, Sequential\n",
    "from keras.layers import LSTM, Activation, Dense, Dropout, Input, Embedding, Bidirectional\n",
    "from keras.optimizers import RMSprop\n",
    "from keras.preprocessing.text import Tokenizer\n",
    "from keras.preprocessing import sequence\n",
    "from keras.utils import to_categorical\n",
    "from keras.callbacks import EarlyStopping, ModelCheckpoint\n",
    "from keras.layers.normalization import BatchNormalization\n",
    "from keras.utils.vis_utils import plot_model\n",
    "\n",
    "max_words = 1000\n",
    "max_len = 300\n",
    "\n",
    "classifier_title = Sequential()\n",
    "classifier_title.add(Embedding(max_words,50,input_length=max_len))\n",
    "classifier_title.add(Bidirectional(LSTM(64)))\n",
    "classifier_title.add(Dense(256,name='FC1'))\n",
    "classifier_title.add(BatchNormalization())\n",
    "classifier_title.add(Activation('relu'))\n",
    "classifier_title.add(Dropout(0.5))\n",
    "classifier_title.add(Dense(1,name='out_layer'))\n",
    "#classifier_title.add(BatchNormalization())\n",
    "classifier_title.add(Activation('sigmoid'))\n",
    "\n",
    "classifier_title.summary()"
   ]
  },
  {
   "cell_type": "code",
   "execution_count": 86,
   "metadata": {
    "colab": {
     "base_uri": "https://localhost:8080/",
     "height": 975
    },
    "colab_type": "code",
    "executionInfo": {
     "elapsed": 2529,
     "status": "ok",
     "timestamp": 1589358791821,
     "user": {
      "displayName": "Umesh Saraswat",
      "photoUrl": "https://lh3.googleusercontent.com/a-/AOh14GjYIq2q-RJY9TGYU0oihFsJ-KBX2UQxuLD6z10Y4w=s64",
      "userId": "10527726304653339617"
     },
     "user_tz": -330
    },
    "id": "J0q43-iKiUrc",
    "outputId": "92efa627-ec0d-49fd-fbad-b1b187d790e4"
   },
   "outputs": [
    {
     "data": {
      "image/png": "[encoded data removed]",
      "text/plain": [
       "<IPython.core.display.Image object>"
      ]
     },
     "execution_count": 86,
     "metadata": {
      "tags": []
     },
     "output_type": "execute_result"
    }
   ],
   "source": [
    "plot_model(classifier_title, to_file='classifier_title_plot.png', show_shapes=True, show_layer_names=True)"
   ]
  },
  {
   "cell_type": "code",
   "execution_count": 91,
   "metadata": {
    "colab": {
     "base_uri": "https://localhost:8080/",
     "height": 1000
    },
    "colab_type": "code",
    "executionInfo": {
     "elapsed": 1653843,
     "status": "ok",
     "timestamp": 1589365493885,
     "user": {
      "displayName": "Umesh Saraswat",
      "photoUrl": "https://lh3.googleusercontent.com/a-/AOh14GjYIq2q-RJY9TGYU0oihFsJ-KBX2UQxuLD6z10Y4w=s64",
      "userId": "10527726304653339617"
     },
     "user_tz": -330
    },
    "id": "O1Hoeclf2bfx",
    "outputId": "6daa1458-4206-4c1d-88ad-ecdfeb3d07d4"
   },
   "outputs": [
    {
     "name": "stderr",
     "output_type": "stream",
     "text": [
      "/usr/local/lib/python3.6/dist-packages/tensorflow/python/framework/indexed_slices.py:434: UserWarning: Converting sparse IndexedSlices to a dense Tensor of unknown shape. This may consume a large amount of memory.\n",
      "  \"Converting sparse IndexedSlices to a dense Tensor of unknown shape. \"\n"
     ]
    },
    {
     "name": "stdout",
     "output_type": "stream",
     "text": [
      "Train on 2997 samples, validate on 999 samples\n",
      "Epoch 1/100\n",
      "2997/2997 [==============================] - 25s 8ms/step - loss: 0.3618 - accuracy: 0.8358 - val_loss: 0.8174 - val_accuracy: 0.5215\n",
      "Epoch 2/100\n",
      "2997/2997 [==============================] - 19s 6ms/step - loss: 0.2201 - accuracy: 0.9052 - val_loss: 0.5920 - val_accuracy: 0.5896\n",
      "Epoch 3/100\n",
      "2997/2997 [==============================] - 16s 5ms/step - loss: 0.1786 - accuracy: 0.9233 - val_loss: 0.9312 - val_accuracy: 0.5215\n",
      "Epoch 4/100\n",
      "2997/2997 [==============================] - 16s 5ms/step - loss: 0.1645 - accuracy: 0.9286 - val_loss: 0.4930 - val_accuracy: 0.7628\n",
      "Epoch 5/100\n",
      "2997/2997 [==============================] - 16s 5ms/step - loss: 0.1340 - accuracy: 0.9463 - val_loss: 0.6009 - val_accuracy: 0.6406\n",
      "Epoch 6/100\n",
      "2997/2997 [==============================] - 16s 5ms/step - loss: 0.1060 - accuracy: 0.9540 - val_loss: 0.6833 - val_accuracy: 0.5746\n",
      "Epoch 7/100\n",
      "2997/2997 [==============================] - 16s 5ms/step - loss: 0.0922 - accuracy: 0.9610 - val_loss: 0.6947 - val_accuracy: 0.6436\n",
      "Epoch 8/100\n",
      "2997/2997 [==============================] - 16s 5ms/step - loss: 0.0777 - accuracy: 0.9666 - val_loss: 0.4331 - val_accuracy: 0.8148\n",
      "Epoch 9/100\n",
      "2997/2997 [==============================] - 16s 5ms/step - loss: 0.0741 - accuracy: 0.9736 - val_loss: 0.7122 - val_accuracy: 0.6897\n",
      "Epoch 10/100\n",
      "2997/2997 [==============================] - 16s 5ms/step - loss: 0.0514 - accuracy: 0.9786 - val_loss: 0.4176 - val_accuracy: 0.8338\n",
      "Epoch 11/100\n",
      "2997/2997 [==============================] - 16s 5ms/step - loss: 0.0469 - accuracy: 0.9820 - val_loss: 0.7691 - val_accuracy: 0.7998\n",
      "Epoch 12/100\n",
      "2997/2997 [==============================] - 16s 5ms/step - loss: 0.0500 - accuracy: 0.9786 - val_loss: 0.6185 - val_accuracy: 0.8328\n",
      "Epoch 13/100\n",
      "2997/2997 [==============================] - 16s 5ms/step - loss: 0.0431 - accuracy: 0.9830 - val_loss: 0.5456 - val_accuracy: 0.8348\n",
      "Epoch 14/100\n",
      "2997/2997 [==============================] - 16s 5ms/step - loss: 0.0449 - accuracy: 0.9830 - val_loss: 1.3537 - val_accuracy: 0.7798\n",
      "Epoch 15/100\n",
      "2997/2997 [==============================] - 16s 5ms/step - loss: 0.0318 - accuracy: 0.9877 - val_loss: 1.4187 - val_accuracy: 0.7718\n",
      "Epoch 16/100\n",
      "2997/2997 [==============================] - 16s 5ms/step - loss: 0.0268 - accuracy: 0.9913 - val_loss: 0.9836 - val_accuracy: 0.8298\n",
      "Epoch 17/100\n",
      "2997/2997 [==============================] - 16s 5ms/step - loss: 0.0354 - accuracy: 0.9893 - val_loss: 0.8806 - val_accuracy: 0.8078\n",
      "Epoch 18/100\n",
      "2997/2997 [==============================] - 16s 5ms/step - loss: 0.0317 - accuracy: 0.9860 - val_loss: 1.9183 - val_accuracy: 0.7397\n",
      "Epoch 19/100\n",
      "2997/2997 [==============================] - 16s 5ms/step - loss: 0.0321 - accuracy: 0.9893 - val_loss: 0.8820 - val_accuracy: 0.8358\n",
      "Epoch 20/100\n",
      "2997/2997 [==============================] - 16s 5ms/step - loss: 0.0266 - accuracy: 0.9893 - val_loss: 0.8910 - val_accuracy: 0.8569\n",
      "Epoch 21/100\n",
      "2997/2997 [==============================] - 16s 5ms/step - loss: 0.0241 - accuracy: 0.9907 - val_loss: 1.7476 - val_accuracy: 0.7618\n",
      "Epoch 22/100\n",
      "2997/2997 [==============================] - 16s 5ms/step - loss: 0.0217 - accuracy: 0.9910 - val_loss: 1.0580 - val_accuracy: 0.8408\n",
      "Epoch 23/100\n",
      "2997/2997 [==============================] - 16s 5ms/step - loss: 0.0226 - accuracy: 0.9907 - val_loss: 1.2973 - val_accuracy: 0.8198\n",
      "Epoch 24/100\n",
      "2997/2997 [==============================] - 16s 5ms/step - loss: 0.0209 - accuracy: 0.9900 - val_loss: 1.1054 - val_accuracy: 0.8418\n",
      "Epoch 25/100\n",
      "2997/2997 [==============================] - 17s 6ms/step - loss: 0.0193 - accuracy: 0.9923 - val_loss: 1.1801 - val_accuracy: 0.8358\n",
      "Epoch 26/100\n",
      "2997/2997 [==============================] - 16s 6ms/step - loss: 0.0244 - accuracy: 0.9910 - val_loss: 1.1810 - val_accuracy: 0.8348\n",
      "Epoch 27/100\n",
      "2997/2997 [==============================] - 16s 5ms/step - loss: 0.0235 - accuracy: 0.9917 - val_loss: 1.2106 - val_accuracy: 0.8428\n",
      "Epoch 28/100\n",
      "2997/2997 [==============================] - 16s 5ms/step - loss: 0.0237 - accuracy: 0.9900 - val_loss: 1.1165 - val_accuracy: 0.8428\n",
      "Epoch 29/100\n",
      "2997/2997 [==============================] - 16s 5ms/step - loss: 0.0185 - accuracy: 0.9917 - val_loss: 1.1461 - val_accuracy: 0.8338\n",
      "Epoch 30/100\n",
      "2997/2997 [==============================] - 16s 5ms/step - loss: 0.0186 - accuracy: 0.9953 - val_loss: 1.1934 - val_accuracy: 0.8428\n",
      "Epoch 31/100\n",
      "2997/2997 [==============================] - 16s 5ms/step - loss: 0.0179 - accuracy: 0.9917 - val_loss: 1.3708 - val_accuracy: 0.8478\n",
      "Epoch 32/100\n",
      "2997/2997 [==============================] - 16s 5ms/step - loss: 0.0189 - accuracy: 0.9930 - val_loss: 1.3357 - val_accuracy: 0.8308\n",
      "Epoch 33/100\n",
      "2997/2997 [==============================] - 16s 5ms/step - loss: 0.0204 - accuracy: 0.9930 - val_loss: 1.2543 - val_accuracy: 0.8438\n",
      "Epoch 34/100\n",
      "2997/2997 [==============================] - 16s 5ms/step - loss: 0.0128 - accuracy: 0.9960 - val_loss: 1.3048 - val_accuracy: 0.8398\n",
      "Epoch 35/100\n",
      "2997/2997 [==============================] - 16s 5ms/step - loss: 0.0210 - accuracy: 0.9930 - val_loss: 1.2466 - val_accuracy: 0.8428\n",
      "Epoch 36/100\n",
      "2997/2997 [==============================] - 16s 5ms/step - loss: 0.0159 - accuracy: 0.9950 - val_loss: 1.1519 - val_accuracy: 0.8368\n",
      "Epoch 37/100\n",
      "2997/2997 [==============================] - 16s 5ms/step - loss: 0.0188 - accuracy: 0.9927 - val_loss: 1.9742 - val_accuracy: 0.8128\n",
      "Epoch 38/100\n",
      "2997/2997 [==============================] - 16s 5ms/step - loss: 0.0201 - accuracy: 0.9917 - val_loss: 1.3410 - val_accuracy: 0.8418\n",
      "Epoch 39/100\n",
      "2997/2997 [==============================] - 16s 5ms/step - loss: 0.0211 - accuracy: 0.9927 - val_loss: 1.2562 - val_accuracy: 0.8268\n",
      "Epoch 40/100\n",
      "2997/2997 [==============================] - 16s 5ms/step - loss: 0.0149 - accuracy: 0.9947 - val_loss: 1.2608 - val_accuracy: 0.8519\n",
      "Epoch 41/100\n",
      "2997/2997 [==============================] - 19s 6ms/step - loss: 0.0157 - accuracy: 0.9953 - val_loss: 1.3070 - val_accuracy: 0.8519\n",
      "Epoch 42/100\n",
      "2997/2997 [==============================] - 18s 6ms/step - loss: 0.0126 - accuracy: 0.9937 - val_loss: 1.6386 - val_accuracy: 0.8148\n",
      "Epoch 43/100\n",
      "2997/2997 [==============================] - 16s 5ms/step - loss: 0.0121 - accuracy: 0.9950 - val_loss: 1.7070 - val_accuracy: 0.8448\n",
      "Epoch 44/100\n",
      "2997/2997 [==============================] - 16s 5ms/step - loss: 0.0170 - accuracy: 0.9937 - val_loss: 1.5205 - val_accuracy: 0.8378\n",
      "Epoch 45/100\n",
      "2997/2997 [==============================] - 16s 5ms/step - loss: 0.0128 - accuracy: 0.9947 - val_loss: 1.5704 - val_accuracy: 0.8448\n",
      "Epoch 46/100\n",
      "2997/2997 [==============================] - 16s 5ms/step - loss: 0.0105 - accuracy: 0.9957 - val_loss: 1.7331 - val_accuracy: 0.8208\n",
      "Epoch 47/100\n",
      "2997/2997 [==============================] - 16s 5ms/step - loss: 0.0151 - accuracy: 0.9943 - val_loss: 1.3935 - val_accuracy: 0.8468\n",
      "Epoch 48/100\n",
      "2997/2997 [==============================] - 16s 5ms/step - loss: 0.0161 - accuracy: 0.9937 - val_loss: 1.5608 - val_accuracy: 0.8418\n",
      "Epoch 49/100\n",
      "2997/2997 [==============================] - 17s 6ms/step - loss: 0.0151 - accuracy: 0.9937 - val_loss: 1.2752 - val_accuracy: 0.8529\n",
      "Epoch 50/100\n",
      "2997/2997 [==============================] - 16s 5ms/step - loss: 0.0252 - accuracy: 0.9917 - val_loss: 1.3954 - val_accuracy: 0.8388\n",
      "Epoch 51/100\n",
      "2997/2997 [==============================] - 16s 5ms/step - loss: 0.0165 - accuracy: 0.9940 - val_loss: 1.4111 - val_accuracy: 0.8468\n",
      "Epoch 52/100\n",
      "2997/2997 [==============================] - 16s 5ms/step - loss: 0.0146 - accuracy: 0.9930 - val_loss: 1.2914 - val_accuracy: 0.8368\n",
      "Epoch 53/100\n",
      "2997/2997 [==============================] - 16s 5ms/step - loss: 0.0171 - accuracy: 0.9930 - val_loss: 1.3918 - val_accuracy: 0.8328\n",
      "Epoch 54/100\n",
      "2997/2997 [==============================] - 16s 5ms/step - loss: 0.0178 - accuracy: 0.9933 - val_loss: 1.5603 - val_accuracy: 0.8148\n",
      "Epoch 55/100\n",
      "2997/2997 [==============================] - 16s 5ms/step - loss: 0.0130 - accuracy: 0.9947 - val_loss: 1.8320 - val_accuracy: 0.7978\n",
      "Epoch 56/100\n",
      "2997/2997 [==============================] - 16s 5ms/step - loss: 0.0130 - accuracy: 0.9957 - val_loss: 1.4895 - val_accuracy: 0.8478\n",
      "Epoch 57/100\n",
      "2997/2997 [==============================] - 16s 5ms/step - loss: 0.0117 - accuracy: 0.9947 - val_loss: 1.4552 - val_accuracy: 0.8308\n",
      "Epoch 58/100\n",
      "2997/2997 [==============================] - 16s 5ms/step - loss: 0.0139 - accuracy: 0.9953 - val_loss: 1.6399 - val_accuracy: 0.8408\n",
      "Epoch 59/100\n",
      "2997/2997 [==============================] - 16s 5ms/step - loss: 0.0153 - accuracy: 0.9933 - val_loss: 1.3657 - val_accuracy: 0.8438\n",
      "Epoch 60/100\n",
      "2997/2997 [==============================] - 16s 5ms/step - loss: 0.0173 - accuracy: 0.9947 - val_loss: 1.5091 - val_accuracy: 0.8368\n",
      "Epoch 61/100\n",
      "2997/2997 [==============================] - 16s 5ms/step - loss: 0.0144 - accuracy: 0.9930 - val_loss: 1.8490 - val_accuracy: 0.8208\n",
      "Epoch 62/100\n",
      "2997/2997 [==============================] - 16s 5ms/step - loss: 0.0139 - accuracy: 0.9957 - val_loss: 1.5640 - val_accuracy: 0.8208\n",
      "Epoch 63/100\n",
      "2997/2997 [==============================] - 16s 5ms/step - loss: 0.0119 - accuracy: 0.9950 - val_loss: 1.5549 - val_accuracy: 0.8559\n",
      "Epoch 64/100\n",
      "2997/2997 [==============================] - 16s 5ms/step - loss: 0.0260 - accuracy: 0.9927 - val_loss: 1.5892 - val_accuracy: 0.8549\n",
      "Epoch 65/100\n",
      "2997/2997 [==============================] - 16s 5ms/step - loss: 0.0188 - accuracy: 0.9943 - val_loss: 1.3670 - val_accuracy: 0.8488\n",
      "Epoch 66/100\n",
      "2997/2997 [==============================] - 16s 5ms/step - loss: 0.0194 - accuracy: 0.9933 - val_loss: 1.4934 - val_accuracy: 0.8328\n",
      "Epoch 67/100\n",
      "2997/2997 [==============================] - 16s 5ms/step - loss: 0.0101 - accuracy: 0.9953 - val_loss: 1.4971 - val_accuracy: 0.8559\n",
      "Epoch 68/100\n",
      "2997/2997 [==============================] - 16s 5ms/step - loss: 0.0107 - accuracy: 0.9963 - val_loss: 1.5723 - val_accuracy: 0.8388\n",
      "Epoch 69/100\n",
      "2997/2997 [==============================] - 16s 5ms/step - loss: 0.0115 - accuracy: 0.9940 - val_loss: 1.8748 - val_accuracy: 0.8378\n",
      "Epoch 70/100\n",
      "2997/2997 [==============================] - 16s 5ms/step - loss: 0.0144 - accuracy: 0.9947 - val_loss: 3.5682 - val_accuracy: 0.7147\n",
      "Epoch 71/100\n",
      "2997/2997 [==============================] - 16s 5ms/step - loss: 0.0101 - accuracy: 0.9963 - val_loss: 1.5799 - val_accuracy: 0.8228\n",
      "Epoch 72/100\n",
      "2997/2997 [==============================] - 16s 5ms/step - loss: 0.0190 - accuracy: 0.9937 - val_loss: 1.5224 - val_accuracy: 0.8398\n",
      "Epoch 73/100\n",
      "2997/2997 [==============================] - 18s 6ms/step - loss: 0.0159 - accuracy: 0.9940 - val_loss: 1.5912 - val_accuracy: 0.8478\n",
      "Epoch 74/100\n",
      "2997/2997 [==============================] - 16s 5ms/step - loss: 0.0137 - accuracy: 0.9957 - val_loss: 1.6401 - val_accuracy: 0.8368\n",
      "Epoch 75/100\n",
      "2997/2997 [==============================] - 16s 5ms/step - loss: 0.0113 - accuracy: 0.9957 - val_loss: 1.6336 - val_accuracy: 0.8458\n",
      "Epoch 76/100\n",
      "2997/2997 [==============================] - 16s 5ms/step - loss: 0.0138 - accuracy: 0.9953 - val_loss: 1.4283 - val_accuracy: 0.8408\n",
      "Epoch 77/100\n",
      "2997/2997 [==============================] - 16s 5ms/step - loss: 0.0120 - accuracy: 0.9963 - val_loss: 1.5644 - val_accuracy: 0.8318\n",
      "Epoch 78/100\n",
      "2997/2997 [==============================] - 16s 5ms/step - loss: 0.0104 - accuracy: 0.9963 - val_loss: 2.0533 - val_accuracy: 0.8208\n",
      "Epoch 79/100\n",
      "2997/2997 [==============================] - 26s 9ms/step - loss: 0.0159 - accuracy: 0.9930 - val_loss: 1.5985 - val_accuracy: 0.8468\n",
      "Epoch 80/100\n",
      "2997/2997 [==============================] - 17s 6ms/step - loss: 0.0187 - accuracy: 0.9947 - val_loss: 1.5582 - val_accuracy: 0.8498\n",
      "Epoch 81/100\n",
      "2997/2997 [==============================] - 16s 5ms/step - loss: 0.0158 - accuracy: 0.9927 - val_loss: 1.7248 - val_accuracy: 0.8458\n",
      "Epoch 82/100\n",
      "2997/2997 [==============================] - 17s 6ms/step - loss: 0.0139 - accuracy: 0.9940 - val_loss: 1.7904 - val_accuracy: 0.8358\n",
      "Epoch 83/100\n",
      "2997/2997 [==============================] - 16s 5ms/step - loss: 0.0137 - accuracy: 0.9950 - val_loss: 1.6613 - val_accuracy: 0.8378\n",
      "Epoch 84/100\n",
      "2997/2997 [==============================] - 16s 5ms/step - loss: 0.0136 - accuracy: 0.9947 - val_loss: 1.7808 - val_accuracy: 0.8378\n",
      "Epoch 85/100\n",
      "2997/2997 [==============================] - 16s 5ms/step - loss: 0.0143 - accuracy: 0.9947 - val_loss: 1.5950 - val_accuracy: 0.8368\n",
      "Epoch 86/100\n",
      "2997/2997 [==============================] - 16s 5ms/step - loss: 0.0131 - accuracy: 0.9943 - val_loss: 1.8774 - val_accuracy: 0.8488\n",
      "Epoch 87/100\n",
      "2997/2997 [==============================] - 16s 5ms/step - loss: 0.0166 - accuracy: 0.9947 - val_loss: 2.1135 - val_accuracy: 0.8248\n",
      "Epoch 88/100\n",
      "2997/2997 [==============================] - 16s 5ms/step - loss: 0.0132 - accuracy: 0.9947 - val_loss: 1.8885 - val_accuracy: 0.8519\n",
      "Epoch 89/100\n",
      "2997/2997 [==============================] - 16s 5ms/step - loss: 0.0116 - accuracy: 0.9953 - val_loss: 1.6454 - val_accuracy: 0.8368\n",
      "Epoch 90/100\n",
      "2997/2997 [==============================] - 16s 5ms/step - loss: 0.0070 - accuracy: 0.9960 - val_loss: 1.8890 - val_accuracy: 0.8418\n",
      "Epoch 91/100\n",
      "2997/2997 [==============================] - 16s 5ms/step - loss: 0.0114 - accuracy: 0.9940 - val_loss: 1.8690 - val_accuracy: 0.8288\n",
      "Epoch 92/100\n",
      "2997/2997 [==============================] - 16s 5ms/step - loss: 0.0175 - accuracy: 0.9943 - val_loss: 1.6655 - val_accuracy: 0.8288\n",
      "Epoch 93/100\n",
      "2997/2997 [==============================] - 16s 5ms/step - loss: 0.0102 - accuracy: 0.9970 - val_loss: 2.0634 - val_accuracy: 0.8168\n",
      "Epoch 94/100\n",
      "2997/2997 [==============================] - 16s 5ms/step - loss: 0.0108 - accuracy: 0.9957 - val_loss: 1.4599 - val_accuracy: 0.8348\n",
      "Epoch 95/100\n",
      "2997/2997 [==============================] - 16s 5ms/step - loss: 0.0145 - accuracy: 0.9943 - val_loss: 1.7540 - val_accuracy: 0.8458\n",
      "Epoch 96/100\n",
      "2997/2997 [==============================] - 16s 5ms/step - loss: 0.0145 - accuracy: 0.9953 - val_loss: 1.7271 - val_accuracy: 0.8378\n",
      "Epoch 97/100\n",
      "2997/2997 [==============================] - 16s 5ms/step - loss: 0.0099 - accuracy: 0.9957 - val_loss: 1.6645 - val_accuracy: 0.8448\n",
      "Epoch 98/100\n",
      "2997/2997 [==============================] - 16s 5ms/step - loss: 0.0202 - accuracy: 0.9930 - val_loss: 1.9659 - val_accuracy: 0.8478\n",
      "Epoch 99/100\n",
      "2997/2997 [==============================] - 16s 5ms/step - loss: 0.0135 - accuracy: 0.9940 - val_loss: 1.7294 - val_accuracy: 0.8458\n",
      "Epoch 100/100\n",
      "2997/2997 [==============================] - 16s 5ms/step - loss: 0.0114 - accuracy: 0.9950 - val_loss: 3.1304 - val_accuracy: 0.7588\n",
      "dict_keys(['val_loss', 'val_accuracy', 'loss', 'accuracy'])\n"
     ]
    },
    {
     "data": {
      "image/png": "[encoded data removed]",
      "text/plain": [
       "<Figure size 432x288 with 1 Axes>"
      ]
     },
     "metadata": {
      "needs_background": "light",
      "tags": []
     },
     "output_type": "display_data"
    },
    {
     "data": {
      "image/png": "[encoded data removed]",
      "text/plain": [
       "<Figure size 432x288 with 1 Axes>"
      ]
     },
     "metadata": {
      "needs_background": "light",
      "tags": []
     },
     "output_type": "display_data"
    }
   ],
   "source": [
    "#################################################################################      Training Bi-LSTM model over title     ########################################################################\n",
    "classifier_title.compile(loss='binary_crossentropy',optimizer=RMSprop(),metrics=['accuracy'])\n",
    "\n",
    "#history3 = classifier_title.fit(X_train_title,Y_train,batch_size=64,epochs=50,verbose=1,validation_data=(X_test_title,Y_test))     ###########  validation on test set\n",
    "history3 = classifier_title.fit(X_train_title,Y_train,batch_size=64,epochs=100,verbose=1,validation_data=(X_val_title,Y_val))        ###########  validation on a subset of training set \n",
    "\n",
    "# list all data in history\n",
    "print(history3.history.keys())\n",
    "# summarize history for accuracy\n",
    "plt.plot(history3.history['accuracy'])\n",
    "plt.plot(history3.history['val_accuracy'])\n",
    "plt.title('model accuracy')\n",
    "plt.ylabel('accuracy')\n",
    "plt.xlabel('epoch')\n",
    "plt.legend(['train', 'val'], loc='upper left')\n",
    "plt.show()\n",
    "# summarize history for loss\n",
    "plt.plot(history3.history['loss'])\n",
    "plt.plot(history3.history['val_loss'])\n",
    "plt.title('model loss')\n",
    "plt.ylabel('loss')\n",
    "plt.xlabel('epoch')\n",
    "plt.legend(['train', 'val'], loc='upper left')\n",
    "plt.show()"
   ]
  },
  {
   "cell_type": "code",
   "execution_count": 92,
   "metadata": {
    "colab": {
     "base_uri": "https://localhost:8080/",
     "height": 33
    },
    "colab_type": "code",
    "executionInfo": {
     "elapsed": 1375,
     "status": "ok",
     "timestamp": 1589365504494,
     "user": {
      "displayName": "Umesh Saraswat",
      "photoUrl": "https://lh3.googleusercontent.com/a-/AOh14GjYIq2q-RJY9TGYU0oihFsJ-KBX2UQxuLD6z10Y4w=s64",
      "userId": "10527726304653339617"
     },
     "user_tz": -330
    },
    "id": "50p68vbU5aZu",
    "outputId": "18cda42d-a814-4a56-ead7-7cbe4df7d66d"
   },
   "outputs": [
    {
     "name": "stdout",
     "output_type": "stream",
     "text": [
      "Saved model to disk\n"
     ]
    }
   ],
   "source": [
    "###################        Save Model      ####################\n",
    "classifier_title.save(\"classifier_title.h5\")\n",
    "print(\"Saved model to disk\")"
   ]
  },
  {
   "cell_type": "code",
   "execution_count": 93,
   "metadata": {
    "colab": {
     "base_uri": "https://localhost:8080/",
     "height": 608
    },
    "colab_type": "code",
    "executionInfo": {
     "elapsed": 6073,
     "status": "ok",
     "timestamp": 1589365512861,
     "user": {
      "displayName": "Umesh Saraswat",
      "photoUrl": "https://lh3.googleusercontent.com/a-/AOh14GjYIq2q-RJY9TGYU0oihFsJ-KBX2UQxuLD6z10Y4w=s64",
      "userId": "10527726304653339617"
     },
     "user_tz": -330
    },
    "id": "Ly7gN3dg2608",
    "outputId": "8df80143-0d4c-418f-825a-bab2c534cc27"
   },
   "outputs": [
    {
     "name": "stdout",
     "output_type": "stream",
     "text": [
      "[[289 204]\n",
      " [ 25 481]]\n",
      "\n",
      "\n",
      "Accuracy: 0.770771\n",
      "\n",
      "\n",
      "              precision    recall  f1-score   support\n",
      "\n",
      "           0       0.92      0.59      0.72       493\n",
      "           1       0.70      0.95      0.81       506\n",
      "\n",
      "    accuracy                           0.77       999\n",
      "   macro avg       0.81      0.77      0.76       999\n",
      "weighted avg       0.81      0.77      0.76       999\n",
      "\n",
      "roc_auc_score = 0.7683998909636092\n"
     ]
    },
    {
     "data": {
      "image/png": "[encoded data removed]",
      "text/plain": [
       "<Figure size 432x288 with 2 Axes>"
      ]
     },
     "metadata": {
      "needs_background": "light",
      "tags": []
     },
     "output_type": "display_data"
    }
   ],
   "source": [
    "######################################################   Results of Bi-LSTM over title    ########################################\n",
    "from sklearn.metrics import confusion_matrix, classification_report\n",
    "from sklearn.metrics import accuracy_score\n",
    "from sklearn.metrics import precision_score\n",
    "from sklearn.metrics import recall_score\n",
    "from sklearn.metrics import f1_score\n",
    "from sklearn.metrics import cohen_kappa_score\n",
    "from sklearn.metrics import roc_auc_score\n",
    "\n",
    "Y_pred_title = classifier_title.predict_classes(X_test_title)\n",
    "Y_pred_prob_title = classifier_title.predict_proba(X_test_title)\n",
    "\n",
    "cm_title=confusion_matrix(Y_test,Y_pred_title)\n",
    "print(cm_title)\n",
    "\n",
    "print(\"\\n\")\n",
    "accuracy_title = accuracy_score(Y_test, Y_pred_title)\n",
    "print('Accuracy: %f' % accuracy_title)\n",
    "print(\"\\n\")\n",
    "\n",
    "classreport_title = classification_report(Y_test, Y_pred_title)\n",
    "print(classreport_title)\n",
    "\n",
    "print(\"roc_auc_score =\",roc_auc_score(Y_test, Y_pred_title, average='macro'))\n",
    "\n",
    "plot_confusion_matrix(cm1 =cm_title, normalize = False,target_names = ['real','fake'],title = \"Title Confusion Matrix\")"
   ]
  },
  {
   "cell_type": "code",
   "execution_count": 94,
   "metadata": {
    "colab": {
     "base_uri": "https://localhost:8080/",
     "height": 151
    },
    "colab_type": "code",
    "executionInfo": {
     "elapsed": 4364,
     "status": "ok",
     "timestamp": 1589365544663,
     "user": {
      "displayName": "Umesh Saraswat",
      "photoUrl": "https://lh3.googleusercontent.com/a-/AOh14GjYIq2q-RJY9TGYU0oihFsJ-KBX2UQxuLD6z10Y4w=s64",
      "userId": "10527726304653339617"
     },
     "user_tz": -330
    },
    "id": "DhKqcEXz3UZ2",
    "outputId": "dfb98a0d-2b8f-4233-a884-88d2dbfb79c6"
   },
   "outputs": [
    {
     "name": "stdout",
     "output_type": "stream",
     "text": [
      "999\n",
      "<class 'numpy.ndarray'>\n",
      "(999, 1)\n",
      "[[1.0000000e+00]\n",
      " [1.0000000e+00]\n",
      " [9.9867845e-01]\n",
      " [6.9691504e-07]\n",
      " [2.3306851e-20]]\n"
     ]
    }
   ],
   "source": [
    "##################################################  Prediction Probabilities of Title  #####################################################\n",
    "print(len(Y_pred_prob_title))\n",
    "print(type(Y_pred_prob_title))\n",
    "print(np.array(Y_pred_prob_title).shape)\n",
    "print(Y_pred_prob_title[0:5])"
   ]
  },
  {
   "cell_type": "code",
   "execution_count": 95,
   "metadata": {
    "colab": {
     "base_uri": "https://localhost:8080/",
     "height": 312
    },
    "colab_type": "code",
    "executionInfo": {
     "elapsed": 2538,
     "status": "ok",
     "timestamp": 1589365553597,
     "user": {
      "displayName": "Umesh Saraswat",
      "photoUrl": "https://lh3.googleusercontent.com/a-/AOh14GjYIq2q-RJY9TGYU0oihFsJ-KBX2UQxuLD6z10Y4w=s64",
      "userId": "10527726304653339617"
     },
     "user_tz": -330
    },
    "id": "jK2djzqP3frU",
    "outputId": "ce16a9b6-9fb7-4d85-c792-dd02f6ba0935"
   },
   "outputs": [
    {
     "name": "stdout",
     "output_type": "stream",
     "text": [
      "No Skill: ROC AUC=0.500\n",
      "Bi_LSTM for title: ROC AUC=0.768\n"
     ]
    },
    {
     "data": {
      "image/png": "[encoded data removed]",
      "text/plain": [
       "<Figure size 432x288 with 1 Axes>"
      ]
     },
     "metadata": {
      "needs_background": "light",
      "tags": []
     },
     "output_type": "display_data"
    }
   ],
   "source": [
    "###################################################   ROC for Title    ########################################\n",
    "from sklearn.metrics import roc_curve\n",
    "from sklearn.metrics import roc_auc_score\n",
    "from matplotlib import pyplot\n",
    "\n",
    "# generate a no skill prediction (majority class)\n",
    "ns_probs = [0 for _ in range(len(Y_test))]\n",
    "\n",
    "# predict probabilities\n",
    "lr_probs = Y_pred_title\n",
    "# keep probabilities for the positive outcome only\n",
    "#lr_probs = lr_probs[:, 1]\n",
    "# calculate scores\n",
    "ns_auc = roc_auc_score(Y_test, ns_probs)\n",
    "lr_auc = roc_auc_score(Y_test, lr_probs)\n",
    "# summarize scores\n",
    "print('No Skill: ROC AUC=%.3f' % (ns_auc))\n",
    "print('Bi_LSTM for title: ROC AUC=%.3f' % (lr_auc))\n",
    "# calculate roc curves\n",
    "ns_fpr, ns_tpr, _ = roc_curve(Y_test, ns_probs)\n",
    "lr_fpr, lr_tpr, _ = roc_curve(Y_test, lr_probs)\n",
    "# plot the roc curve for the model\n",
    "pyplot.plot(ns_fpr, ns_tpr, linestyle='--', label='No Skill')\n",
    "pyplot.plot(lr_fpr, lr_tpr, marker='.', label='Bi_LSTM for title')\n",
    "# axis labels\n",
    "pyplot.xlabel('False Positive Rate')\n",
    "pyplot.ylabel('True Positive Rate')\n",
    "# show the legend\n",
    "pyplot.legend()\n",
    "# show the plot\n",
    "pyplot.show()"
   ]
  },
  {
   "cell_type": "code",
   "execution_count": 0,
   "metadata": {
    "colab": {},
    "colab_type": "code",
    "id": "Fsfx0vhe4KuW"
   },
   "outputs": [],
   "source": [
    "# #############################################################################     Late Fusion model for combining prediction probabilities from 3 models    ###########################################################################\n",
    "\n",
    "def late_fusion(w1,w2,w3):\n",
    "  fin_Y_pred_prob = []\n",
    "  # w1 = 0.2\n",
    "  # w2 = 0.5\n",
    "  # w3 = 0.3\n",
    "  for i in range(len(Y_test)):\n",
    "    temp = (Y_pred_prob_img[i]*w1 + Y_pred_prob_text[i]*w2 + Y_pred_prob_title[i]*w3)/(w1+w2+w3)\n",
    "    if(temp>=0.5):\n",
    "      temp = 1\n",
    "    else:\n",
    "      temp = 0\n",
    "    fin_Y_pred_prob.append(temp)\n",
    "\n",
    "  # print(type(fin_Y_pred_prob))\n",
    "  # print(len(fin_Y_pred_prob))\n",
    "  # print(np.array(fin_Y_pred_prob))\n",
    "\n",
    "  from sklearn.metrics import confusion_matrix, classification_report, accuracy_score, precision_score, recall_score, f1_score, cohen_kappa_score, roc_auc_score\n",
    "\n",
    "  cm_final1=confusion_matrix(Y_test,fin_Y_pred_prob)\n",
    "  print(cm_final1)\n",
    "  print(classification_report(Y_test,fin_Y_pred_prob))\n",
    "\n",
    "  accuracy_final1 = accuracy_score(Y_test, fin_Y_pred_prob)\n",
    "  print('Accuracy: %f' % accuracy_final1)\n",
    "  print(\"roc_auc_score =\",roc_auc_score(Y_test, fin_Y_pred_prob, average='macro'))\n",
    "  print(\"f1_score =\",f1_score(Y_test, fin_Y_pred_prob, average='macro'))\n",
    "\n",
    "  # plot_confusion_matrix(cm1 =cm_img, normalize = False,target_names = ['real','fake'],title  = \"Image Confusion Matrix\")\n",
    "  # plot_confusion_matrix(cm1 =cm_text, normalize = False,target_names = ['real','fake'],title  = \"Text Confusion Matrix\")\n",
    "  # plot_confusion_matrix(cm1 =cm_title, normalize = False,target_names = ['real','fake'],title  = \"Title Confusion Matrix\")\n",
    "  print(\"Image_weight = \",w1)\n",
    "  print(\"Text_weight = \",w2)\n",
    "  print(\"Title_weight = \",w3)\n",
    "  plot_confusion_matrix(cm1 =cm_final1, normalize = False,target_names = ['real','fake'],title  = \"Final Confusion Matrix\")\n",
    "  return fin_Y_pred_prob\n",
    "\n",
    "########################################################################################   Final ROC   #####################################################################################################\n",
    "def final_roc(fin_Y_pred_prob):\n",
    "  from sklearn.metrics import roc_curve\n",
    "  from sklearn.metrics import roc_auc_score\n",
    "  from matplotlib import pyplot\n",
    "\n",
    "  # generate a no skill prediction (majority class)\n",
    "  ns_probs = [0 for _ in range(len(Y_test))]\n",
    "\n",
    "  # predict probabilities\n",
    "  lr_probs = fin_Y_pred_prob\n",
    "  # keep probabilities for the positive outcome only\n",
    "  #lr_probs = lr_probs[:, 1]\n",
    "  # calculate scores\n",
    "  ns_auc = roc_auc_score(Y_test, ns_probs)\n",
    "  lr_auc = roc_auc_score(Y_test, lr_probs)\n",
    "  # summarize scores\n",
    "  print('No Skill: ROC AUC=%.3f' % (ns_auc))\n",
    "  print('Late Fusion: ROC AUC=%.3f' % (lr_auc))\n",
    "  # calculate roc curves\n",
    "  ns_fpr, ns_tpr, _ = roc_curve(Y_test, ns_probs)\n",
    "  lr_fpr, lr_tpr, _ = roc_curve(Y_test, lr_probs)\n",
    "  # plot the roc curve for the model\n",
    "  pyplot.plot(ns_fpr, ns_tpr, linestyle='--', label='No Skill')\n",
    "  pyplot.plot(lr_fpr, lr_tpr, marker='.', label='Late Fusion')\n",
    "  # axis labels\n",
    "  pyplot.xlabel('False Positive Rate')\n",
    "  pyplot.ylabel('True Positive Rate')\n",
    "  # show the legend\n",
    "  pyplot.legend()\n",
    "  # show the plot\n",
    "  pyplot.show()"
   ]
  },
  {
   "cell_type": "code",
   "execution_count": 99,
   "metadata": {
    "colab": {
     "base_uri": "https://localhost:8080/",
     "height": 903
    },
    "colab_type": "code",
    "executionInfo": {
     "elapsed": 2275,
     "status": "ok",
     "timestamp": 1589365604151,
     "user": {
      "displayName": "Umesh Saraswat",
      "photoUrl": "https://lh3.googleusercontent.com/a-/AOh14GjYIq2q-RJY9TGYU0oihFsJ-KBX2UQxuLD6z10Y4w=s64",
      "userId": "10527726304653339617"
     },
     "user_tz": -330
    },
    "id": "WUFyPtNkk98j",
    "outputId": "53bac592-9ee9-4c85-884e-f0721b8c2b2a"
   },
   "outputs": [
    {
     "name": "stdout",
     "output_type": "stream",
     "text": [
      "[[454  39]\n",
      " [  6 500]]\n",
      "              precision    recall  f1-score   support\n",
      "\n",
      "           0       0.99      0.92      0.95       493\n",
      "           1       0.93      0.99      0.96       506\n",
      "\n",
      "    accuracy                           0.95       999\n",
      "   macro avg       0.96      0.95      0.95       999\n",
      "weighted avg       0.96      0.95      0.95       999\n",
      "\n",
      "Accuracy: 0.954955\n",
      "roc_auc_score = 0.9545173937095622\n",
      "f1_score = 0.9548592457964524\n",
      "Image_weight =  0.2\n",
      "Text_weight =  0.5\n",
      "Title_weight =  0.3\n"
     ]
    },
    {
     "data": {
      "image/png": "[encoded data removed]",
      "text/plain": [
       "<Figure size 432x288 with 2 Axes>"
      ]
     },
     "metadata": {
      "needs_background": "light",
      "tags": []
     },
     "output_type": "display_data"
    },
    {
     "name": "stdout",
     "output_type": "stream",
     "text": [
      "No Skill: ROC AUC=0.500\n",
      "Late Fusion: ROC AUC=0.955\n"
     ]
    },
    {
     "data": {
      "image/png": "[encoded data removed]",
      "text/plain": [
       "<Figure size 432x288 with 1 Axes>"
      ]
     },
     "metadata": {
      "needs_background": "light",
      "tags": []
     },
     "output_type": "display_data"
    }
   ],
   "source": [
    "# ##################################################    (a) Late Fusion of all 3 models (Probabilities)  ##############################################\n",
    "Final_prediction = late_fusion(0.2,0.5,0.3)\n",
    "final_roc(Final_prediction)"
   ]
  },
  {
   "cell_type": "code",
   "execution_count": 101,
   "metadata": {
    "colab": {
     "base_uri": "https://localhost:8080/",
     "height": 903
    },
    "colab_type": "code",
    "executionInfo": {
     "elapsed": 1592,
     "status": "ok",
     "timestamp": 1589365620995,
     "user": {
      "displayName": "Umesh Saraswat",
      "photoUrl": "https://lh3.googleusercontent.com/a-/AOh14GjYIq2q-RJY9TGYU0oihFsJ-KBX2UQxuLD6z10Y4w=s64",
      "userId": "10527726304653339617"
     },
     "user_tz": -330
    },
    "id": "98AQEehyPlxU",
    "outputId": "4fbabd1e-6770-447f-e367-5d0315c8a8e2"
   },
   "outputs": [
    {
     "name": "stdout",
     "output_type": "stream",
     "text": [
      "[[418  75]\n",
      " [ 10 496]]\n",
      "              precision    recall  f1-score   support\n",
      "\n",
      "           0       0.98      0.85      0.91       493\n",
      "           1       0.87      0.98      0.92       506\n",
      "\n",
      "    accuracy                           0.91       999\n",
      "   macro avg       0.92      0.91      0.91       999\n",
      "weighted avg       0.92      0.91      0.91       999\n",
      "\n",
      "Accuracy: 0.914915\n",
      "roc_auc_score = 0.9140536683529893\n",
      "f1_score = 0.9143930389337012\n",
      "Image_weight =  0.33\n",
      "Text_weight =  0.34\n",
      "Title_weight =  0.33\n"
     ]
    },
    {
     "data": {
      "image/png": "[encoded data removed]",
      "text/plain": [
       "<Figure size 432x288 with 2 Axes>"
      ]
     },
     "metadata": {
      "needs_background": "light",
      "tags": []
     },
     "output_type": "display_data"
    },
    {
     "name": "stdout",
     "output_type": "stream",
     "text": [
      "No Skill: ROC AUC=0.500\n",
      "Late Fusion: ROC AUC=0.914\n"
     ]
    },
    {
     "data": {
      "image/png": "[encoded data removed]",
      "text/plain": [
       "<Figure size 432x288 with 1 Axes>"
      ]
     },
     "metadata": {
      "needs_background": "light",
      "tags": []
     },
     "output_type": "display_data"
    }
   ],
   "source": [
    "# ##################################################    (b) Late Fusion of all 3 models (Probabilities)  ##############################################\n",
    "Final_prediction = late_fusion(0.33,0.34,0.33)\n",
    "final_roc(Final_prediction)"
   ]
  },
  {
   "cell_type": "code",
   "execution_count": 102,
   "metadata": {
    "colab": {
     "base_uri": "https://localhost:8080/",
     "height": 903
    },
    "colab_type": "code",
    "executionInfo": {
     "elapsed": 1649,
     "status": "ok",
     "timestamp": 1589365640195,
     "user": {
      "displayName": "Umesh Saraswat",
      "photoUrl": "https://lh3.googleusercontent.com/a-/AOh14GjYIq2q-RJY9TGYU0oihFsJ-KBX2UQxuLD6z10Y4w=s64",
      "userId": "10527726304653339617"
     },
     "user_tz": -330
    },
    "id": "RHghSNVOT2dL",
    "outputId": "b1c4ce6a-9713-4011-d4b3-707ebd2ae261"
   },
   "outputs": [
    {
     "name": "stdout",
     "output_type": "stream",
     "text": [
      "[[421  72]\n",
      " [  9 497]]\n",
      "              precision    recall  f1-score   support\n",
      "\n",
      "           0       0.98      0.85      0.91       493\n",
      "           1       0.87      0.98      0.92       506\n",
      "\n",
      "    accuracy                           0.92       999\n",
      "   macro avg       0.93      0.92      0.92       999\n",
      "weighted avg       0.93      0.92      0.92       999\n",
      "\n",
      "Accuracy: 0.918919\n",
      "roc_auc_score = 0.9180844069943638\n",
      "f1_score = 0.918446924840636\n",
      "Image_weight =  0.25\n",
      "Text_weight =  0.45\n",
      "Title_weight =  0.3\n"
     ]
    },
    {
     "data": {
      "image/png": "[encoded data removed]",
      "text/plain": [
       "<Figure size 432x288 with 2 Axes>"
      ]
     },
     "metadata": {
      "needs_background": "light",
      "tags": []
     },
     "output_type": "display_data"
    },
    {
     "name": "stdout",
     "output_type": "stream",
     "text": [
      "No Skill: ROC AUC=0.500\n",
      "Late Fusion: ROC AUC=0.918\n"
     ]
    },
    {
     "data": {
      "image/png": "[encoded data removed]",
      "text/plain": [
       "<Figure size 432x288 with 1 Axes>"
      ]
     },
     "metadata": {
      "needs_background": "light",
      "tags": []
     },
     "output_type": "display_data"
    }
   ],
   "source": [
    "# ##################################################    (b) Late Fusion of all 3 models (Probabilities)  ##############################################\n",
    "Final_prediction = late_fusion(0.25,0.45,0.3)\n",
    "final_roc(Final_prediction)"
   ]
  }
 ],
 "metadata": {
  "colab": {
   "authorship_tag": "ABX9TyP4Kf+E84pelcdyXHp3vdCb",
   "collapsed_sections": [],
   "machine_shape": "hm",
   "name": "Final Code.ipynb",
   "provenance": []
  },
  "kernelspec": {
   "display_name": "Python 3",
   "language": "python",
   "name": "python3"
  },
  "language_info": {
   "codemirror_mode": {
    "name": "ipython",
    "version": 3
   },
   "file_extension": ".py",
   "mimetype": "text/x-python",
   "name": "python",
   "nbconvert_exporter": "python",
   "pygments_lexer": "ipython3",
   "version": "3.7.6"
  }
 },
 "nbformat": 4,
 "nbformat_minor": 1
}
